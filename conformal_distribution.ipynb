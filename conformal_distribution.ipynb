{
 "cells": [
  {
   "cell_type": "code",
   "execution_count": 8,
   "id": "cc03630b",
   "metadata": {},
   "outputs": [],
   "source": [
    "import torch\n",
    "from collections import OrderedDict\n",
    "from basicsr.models import create_model, load_finetuned_model\n",
    "from basicsr.utils.options import parse\n",
    "import numpy as np\n",
    "from tqdm import tqdm\n",
    "from basicsr.data import create_dataloader, create_dataset\n",
    "from tqdm.notebook import tqdm as log_progress\n",
    "from torch.utils.data import TensorDataset, DataLoader"
   ]
  },
  {
   "cell_type": "code",
   "execution_count": 9,
   "id": "878cae10",
   "metadata": {},
   "outputs": [
    {
     "name": "stdout",
     "output_type": "stream",
     "text": [
      "The autoreload extension is already loaded. To reload it, use:\n",
      "  %reload_ext autoreload\n"
     ]
    }
   ],
   "source": [
    "%load_ext autoreload\n",
    "%autoreload 2"
   ]
  },
  {
   "cell_type": "code",
   "execution_count": null,
   "id": "39e89aed",
   "metadata": {},
   "outputs": [],
   "source": [
    "def fraction_missed_loss(pset,label):\n",
    "    misses = (pset[0].squeeze() > label[:, 1:2, :, :].squeeze()).float() + (pset[2].squeeze() < label[:,1:2, :, :].squeeze()).float()\n",
    "    misses[misses > 1.0] = 1.0\n",
    "    d = len(misses.shape)\n",
    "    return misses.mean(dim=tuple(range(1,d)))\n",
    "\n",
    "def get_rcps_loss_fn(string):\n",
    "    if string == 'fraction_missed':\n",
    "        return fraction_missed_loss\n",
    "    else:\n",
    "        raise NotImplementedError\n",
    "\n",
    "rcps_loss_fn = get_rcps_loss_fn('fraction_missed')"
   ]
  },
  {
   "cell_type": "code",
   "execution_count": null,
   "id": "8047a8f0",
   "metadata": {},
   "outputs": [],
   "source": [
    "def inn_nested_sets_from_output(model, output, lam=None):\n",
    "    output[:,0,:,:] = torch.minimum(output[:,0,:,:], output[:,1,:,:]-1e-6)\n",
    "    output[:,2,:,:] = torch.maximum(output[:,2,:,:], output[:,1,:,:]+1e-6)\n",
    "    \n",
    "    upper_edge = lam * (output[:,2,:,:] - output[:,1,:,:]) + output[:,1,:,:] \n",
    "    lower_edge = output[:,1,:,:] - lam * (output[:,1,:,:] - output[:,0,:,:])\n",
    "    return lower_edge, output[:,1,:,:], upper_edge \n",
    "\n",
    "def nested_sets_from_output(output, lam=None):\n",
    "    lower_edge, prediction, upper_edge = inn_nested_sets_from_output(model, output, lam)\n",
    "    return lower_edge, prediction, upper_edge \n",
    "\n",
    "def get_rcps_losses_from_outputs(model, out_dataset, rcps_loss_fn, lam, device):\n",
    "    losses = []\n",
    "    dataloader = DataLoader(out_dataset, batch_size=64, shuffle=False, num_workers=0, pin_memory=False) \n",
    "    model = model.to(device)\n",
    "    for batch in dataloader:\n",
    "        x, labels = batch\n",
    "        sets = nested_sets_from_output(x,lam) \n",
    "        losses = losses + [rcps_loss_fn(sets, labels.to(device)).cpu(),]\n",
    "    return torch.cat(losses,dim=0)"
   ]
  },
  {
   "cell_type": "code",
   "execution_count": 7,
   "id": "2ed1b1fb",
   "metadata": {},
   "outputs": [],
   "source": [
    "def get_lhat(calib_loss_table, lambdas, alpha, B=1):\n",
    "    n = calib_loss_table.shape[0]\n",
    "    rhat = calib_loss_table.mean(axis=0)\n",
    "    rhat = torch.flip(rhat, dims = (0,))\n",
    "    lambdas = torch.flip(lambdas, dims = (0,))\n",
    "    lhat_idx = max(np.argmax(((n/(n+1)) * rhat  + B/(n+1)) >= alpha) - 1, 0) # Can't be -1.\n",
    "    return lambdas[lhat_idx]"
   ]
  },
  {
   "cell_type": "code",
   "execution_count": 11,
   "id": "5025cd3e",
   "metadata": {},
   "outputs": [
    {
     "name": "stdout",
     "output_type": "stream",
     "text": [
      "Output dataset\n",
      "Computing losses\n"
     ]
    },
    {
     "data": {
      "application/vnd.jupyter.widget-view+json": {
       "model_id": "98c53f61f70e466eb96a12da50708752",
       "version_major": 2,
       "version_minor": 0
      },
      "text/plain": [
       "HBox(children=(FloatProgress(value=0.0, max=500.0), HTML(value='')))"
      ]
     },
     "metadata": {},
     "output_type": "display_data"
    },
    {
     "name": "stdout",
     "output_type": "stream",
     "text": [
      "\n"
     ]
    }
   ],
   "source": [
    "lambdas = torch.linspace(0,10,500)\n",
    "\n",
    "labels = #Ground Truth Data\n",
    "outputs = #Noisy Data\n",
    "model = #Define the model of choice\n",
    "\n",
    "out_dataset = TensorDataset(outputs,labels)\n",
    "dlambda = lambdas[1]-lambdas[0]\n",
    "\n",
    "calib_loss_table = torch.zeros((outputs.shape[0],lambdas.shape[0]))\n",
    "for lam in log_progress(lambdas):\n",
    "    losses = get_rcps_losses_from_outputs(model, out_dataset, rcps_loss_fn, lam-dlambda, device)\n",
    "    calib_loss_table[:,np.where(lambdas==lam)[0]] = losses[:,None]   "
   ]
  },
  {
   "cell_type": "code",
   "execution_count": 12,
   "id": "a19b6728",
   "metadata": {},
   "outputs": [
    {
     "name": "stdout",
     "output_type": "stream",
     "text": [
      "lhat =  3.3066132\n"
     ]
    }
   ],
   "source": [
    "print(\"lhat = \", get_lhat(calib_loss_table, lambdas, alpha = 0.1).numpy())"
   ]
  }
 ],
 "metadata": {
  "kernelspec": {
   "display_name": "Python [conda env:.conda-test]",
   "language": "python",
   "name": "conda-env-.conda-test-py"
  },
  "language_info": {
   "codemirror_mode": {
    "name": "ipython",
    "version": 3
   },
   "file_extension": ".py",
   "mimetype": "text/x-python",
   "name": "python",
   "nbconvert_exporter": "python",
   "pygments_lexer": "ipython3",
   "version": "3.7.7"
  },
  "latex_envs": {
   "LaTeX_envs_menu_present": true,
   "autoclose": false,
   "autocomplete": true,
   "bibliofile": "biblio.bib",
   "cite_by": "apalike",
   "current_citInitial": 1,
   "eqLabelWithNumbers": true,
   "eqNumInitial": 1,
   "hotkeys": {
    "equation": "Ctrl-E",
    "itemize": "Ctrl-I"
   },
   "labels_anchors": false,
   "latex_user_defs": false,
   "report_style_numbering": false,
   "user_envs_cfg": false
  },
  "toc": {
   "base_numbering": 1,
   "nav_menu": {},
   "number_sections": true,
   "sideBar": true,
   "skip_h1_title": false,
   "title_cell": "Table of Contents",
   "title_sidebar": "Contents",
   "toc_cell": false,
   "toc_position": {},
   "toc_section_display": true,
   "toc_window_display": false
  }
 },
 "nbformat": 4,
 "nbformat_minor": 5
}
