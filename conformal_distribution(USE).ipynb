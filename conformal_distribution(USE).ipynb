{
 "cells": [
  {
   "cell_type": "code",
   "execution_count": 10,
   "id": "cc03630b",
   "metadata": {},
   "outputs": [],
   "source": [
    "import torch\n",
    "from collections import OrderedDict\n",
    "from basicsr.models import create_model\n",
    "from basicsr.utils.options import parse\n",
    "import numpy as np\n",
    "from tqdm import tqdm\n",
    "from basicsr.data import create_dataloader, create_dataset\n",
    "from tqdm.notebook import tqdm as log_progress\n",
    "from torch.utils.data import TensorDataset, DataLoader"
   ]
  },
  {
   "cell_type": "code",
   "execution_count": 2,
   "id": "878cae10",
   "metadata": {},
   "outputs": [],
   "source": [
    "%load_ext autoreload\n",
    "%autoreload 2"
   ]
  },
  {
   "cell_type": "code",
   "execution_count": 3,
   "id": "365622aa",
   "metadata": {},
   "outputs": [],
   "source": [
    "device = torch.device('cuda:0')"
   ]
  },
  {
   "cell_type": "code",
   "execution_count": 4,
   "id": "908a236a",
   "metadata": {},
   "outputs": [],
   "source": [
    "lambdas = torch.linspace(0,10,500)\n"
   ]
  },
  {
   "cell_type": "code",
   "execution_count": 5,
   "id": "39e89aed",
   "metadata": {},
   "outputs": [],
   "source": [
    "#loss could be MSE\n",
    "def fraction_missed_loss(pset,label):\n",
    "    misses = (pset[0].squeeze() > label[:, 1:2, :, :].squeeze()).float() + (pset[2].squeeze() < label[:,1:2, :, :].squeeze()).float()\n",
    "    misses[misses > 1.0] = 1.0\n",
    "    d = len(misses.shape)\n",
    "#     print('misses shape = ', misses.shape)\n",
    "#     print('d = ', d)\n",
    "#     print('np sum missed = ', torch.sum(misses))\n",
    "#     print(len(pset))\n",
    "#     print(len(label))\n",
    "#     print(\"returning = \", misses.mean(dim=tuple(range(1,d))))\n",
    "    return misses.mean(dim=tuple(range(1,d)))\n",
    "\n",
    "def get_rcps_loss_fn(string):\n",
    "    if string == 'fraction_missed':\n",
    "\n",
    "        #return torch.nn.MSELoss()\n",
    "        return fraction_missed_loss\n",
    "    else:\n",
    "        raise NotImplementedError\n",
    "\n",
    "rcps_loss_fn = get_rcps_loss_fn('fraction_missed')\n",
    "\n"
   ]
  },
  {
   "cell_type": "code",
   "execution_count": 6,
   "id": "8047a8f0",
   "metadata": {},
   "outputs": [],
   "source": [
    "def inn_nested_sets_from_output(model, output, lam=None):\n",
    "    output[:,0,:,:] = torch.minimum(output[:,0,:,:], output[:,1,:,:]-1e-6)\n",
    "    output[:,2,:,:] = torch.maximum(output[:,2,:,:], output[:,1,:,:]+1e-6)\n",
    "    \n",
    "    upper_edge = lam * (output[:,2,:,:] - output[:,1,:,:]) + output[:,1,:,:] \n",
    "    lower_edge = output[:,1,:,:] - lam * (output[:,1,:,:] - output[:,0,:,:])\n",
    "    return lower_edge, output[:,1,:,:], upper_edge \n",
    "\n",
    "# Always outputs [0,1] valued nested sets\n",
    "def nested_sets_from_output(output, lam=None):\n",
    "    lower_edge, prediction, upper_edge = inn_nested_sets_from_output(model, output, lam)\n",
    "    \n",
    "#     upper_edge = torch.maximum(upper_edge, prediction + 1e-6) # set a lower bound on the size.\n",
    "#     lower_edge = torch.minimum(lower_edge, prediction - 1e-6)\n",
    "    \n",
    "    return lower_edge, prediction, upper_edge \n",
    "\n",
    "def get_rcps_losses_from_outputs(model, out_dataset, rcps_loss_fn, lam, device):\n",
    "    losses = []\n",
    "    dataloader = DataLoader(out_dataset, batch_size=64, shuffle=False, num_workers=0, pin_memory=False) \n",
    "    model = model.to(device)\n",
    "    for batch in dataloader:\n",
    "        #print('x shape', x.shape)\n",
    "        x, labels = batch\n",
    "        sets = nested_sets_from_output(x,lam) \n",
    "        #print('sets shape:', sets[0].shape)\n",
    "        #print('labels shape:', labels.to(device).cpu().shape)\n",
    "        losses = losses + [rcps_loss_fn(sets, labels.to(device)).cpu(),]\n",
    "        #print('losses = ', losses)\n",
    "    return torch.cat(losses,dim=0)\n",
    "\n"
   ]
  },
  {
   "cell_type": "code",
   "execution_count": 7,
   "id": "2ed1b1fb",
   "metadata": {},
   "outputs": [],
   "source": [
    "def get_lhat(calib_loss_table, lambdas, alpha, B=1):\n",
    "    #calib_loss_table = calib_loss_table\n",
    "    n = calib_loss_table.shape[0]\n",
    "    #print(n)\n",
    "    rhat = calib_loss_table.mean(axis=0)\n",
    "#     print(len(rhat))\n",
    "#     print(rhat)\n",
    "    rhat = torch.flip(rhat, dims = (0,))\n",
    "    lambdas = torch.flip(lambdas, dims = (0,))\n",
    "#     print('rhat = ', rhat)\n",
    "#     print(((n/(n+1)) * rhat  + B/(n+1)) >= alpha)\n",
    "    lhat_idx = max(np.argmax(((n/(n+1)) * rhat  + B/(n+1)) >= alpha) - 1, 0) # Can't be -1.\n",
    "#     print('lhat_idx = ', lhat_idx)\n",
    "    return lambdas[lhat_idx]"
   ]
  },
  {
   "cell_type": "code",
   "execution_count": 11,
   "id": "3cde4e13",
   "metadata": {},
   "outputs": [
    {
     "name": "stdout",
     "output_type": "stream",
     "text": [
      "\n",
      " opt[network_g] =  OrderedDict([('type', 'NAFNet'), ('width', 64), ('enc_blk_nums', [2, 2, 4, 8]), ('middle_blk_num', 12), ('dec_blk_nums', [2, 2, 2, 2])])\n",
      "\n",
      "img_channel =  20 \n",
      "\n"
     ]
    },
    {
     "name": "stderr",
     "output_type": "stream",
     "text": [
      "2024-04-30 20:14:38,494 INFO: Model [ImageRestorationModel] is created.\n"
     ]
    },
    {
     "name": "stdout",
     "output_type": "stream",
     "text": [
      "finetuned weights loaded successfully\n"
     ]
    }
   ],
   "source": [
    "#SIDD: NAFNet-SIDD-08-28-NEW     76k   //USE 50k instead\n",
    "#FMD: NAFNet-FMD-8-28\n",
    "\n",
    "#SIDD/SHG: SIDD-SHG-08-29        27k\n",
    "#FMD/SHG: FMD-SHG-08-29\n",
    "\n",
    "finetuned_weight_path = '/home/gridsan/tye/NAFNet/experiments/NAFNet-FMD-20-stack-NORMALIZED/models/net_g_125000.pth'\n",
    "finetuned_model_weights = torch.load(finetuned_weight_path)\n",
    "\n",
    "\n",
    "opt_path = '/home/gridsan/tye/NAFNet/options/train/SIDD/NAFNet-width64.yml'\n",
    "opt = parse(opt_path, is_train=False)\n",
    "opt['dist'] = False\n",
    "\n",
    "finetuned = create_model(opt) #Finetuned on SIDD\n",
    " \n",
    "\n",
    "finetuned = finetuned.net_g\n",
    "\n",
    "\n",
    "finetuned.load_state_dict(finetuned_model_weights['params'])\n",
    "print('finetuned weights loaded successfully')\n",
    "\n",
    "model = finetuned.to(device)\n"
   ]
  },
  {
   "cell_type": "code",
   "execution_count": 12,
   "id": "5e7ccd89",
   "metadata": {},
   "outputs": [],
   "source": [
    "# i = 19\n",
    "# name = \"20_stacked_combo_calib_\" + str(i)\n",
    "\n",
    "# OPT =  OrderedDict([('name', 'NAFNet-SIDD-SHG-08-21-TEST'), ('model_type', 'ImageRestorationModel'), ('scale', 1), ('num_gpu', 1), ('manual_seed', 10), ('datasets', OrderedDict([('train', OrderedDict([('name', 'COMBO'), ('type', 'PairedImageDataset'), ('dataroot_gt', './datasets/' + name +'/train/gt_crops.lmdb'), ('dataroot_lq', './datasets/' + name + '/train/input_crops.lmdb'), ('filename_tmpl', '{}'), ('io_backend', OrderedDict([('type', 'lmdb')])), ('gt_size', 256), ('use_flip', False), ('use_rot', False), ('use_shuffle', True), ('num_worker_per_gpu', 1), ('batch_size_per_gpu', 1), ('dataset_enlarge_ratio', 1), ('prefetch_mode', None), ('phase', 'train'), ('scale', 1)])), ('val', OrderedDict([('name', 'COMBO_val'), ('type', 'PairedImageDataset'), ('dataroot_gt', './datasets/' + name + '/val/gt_crops.lmdb'), ('dataroot_lq', './datasets/' + name + '/val/input_crops.lmdb'), ('io_backend', OrderedDict([('type', 'lmdb')])), ('phase', 'val'), ('scale', 1)]))])), ('network_g', OrderedDict([('type', 'NAFNet'), ('width', 64), ('enc_blk_nums', [2, 2, 4, 8]), ('middle_blk_num', 12), ('dec_blk_nums', [2, 2, 2, 2])])), ('path', OrderedDict([('pretrain_network_g', '/home/gridsan/tye/NAFNet/experiments/NAFNet-SIDD-08-19-Different-5-Channel/models/net_g_100000.pth'), ('strict_load_g', True), ('resume_state', None), ('root', '/home/gridsan/tye/NAFNet'), ('experiments_root', '/home/gridsan/tye/NAFNet/experiments/NAFNet-SIDD-SHG-08-21-TEST'), ('models', '/home/gridsan/tye/NAFNet/experiments/NAFNet-SIDD-SHG-08-21-TEST/models'), ('training_states', '/home/gridsan/tye/NAFNet/experiments/NAFNet-SIDD-SHG-08-21-TEST/training_states'), ('log', '/home/gridsan/tye/NAFNet/experiments/NAFNet-SIDD-SHG-08-21-TEST'), ('visualization', '/home/gridsan/tye/NAFNet/experiments/NAFNet-SIDD-SHG-08-21-TEST/visualization')])), ('train', OrderedDict([('optim_g', OrderedDict([('type', 'AdamW'), ('lr', 0.001), ('weight_decay', 0.0), ('betas', [0.9, 0.9])])), ('scheduler', OrderedDict([('type', 'TrueCosineAnnealingLR'), ('T_max', 400000), ('eta_min', 1e-07)])), ('total_iter', 400000), ('warmup_iter', -1), ('pixel_opt', OrderedDict([('type', 'PSNRLoss'), ('loss_weight', 1), ('reduction', 'mean')]))])), ('val', OrderedDict([('val_freq', 20000.0), ('save_img', False), ('use_image', False), ('metrics', OrderedDict([('psnr', OrderedDict([('type', 'calculate_psnr'), ('crop_border', 0), ('test_y_channel', False)])), ('ssim', OrderedDict([('type', 'calculate_ssim'), ('crop_border', 0), ('test_y_channel', False)]))]))])), ('logger', OrderedDict([('print_freq', 200), ('save_checkpoint_freq', 1000.0), ('use_tb_logger', True), ('wandb', OrderedDict([('project', None), ('resume_id', None)]))])), ('dist_params', OrderedDict([('backend', 'nccl'), ('port', 29500)])), ('is_train', True), ('dist', True), ('rank', 0), ('world_size', 1)])\n",
    "\n",
    "# for phase, dataset_opt in OPT['datasets'].items():\n",
    "#         if phase == 'train':\n",
    "#             dataset_enlarge_ratio = dataset_opt.get('dataset_enlarge_ratio', 1)\n",
    "#             dataset = create_dataset(dataset_opt)"
   ]
  },
  {
   "cell_type": "code",
   "execution_count": 13,
   "id": "1f05e5c3",
   "metadata": {},
   "outputs": [],
   "source": [
    "# print(dataset[0]['gt'].shape)\n",
    "\n",
    "# labels_shape = list(torch.tensor(dataset[0]['gt']).unsqueeze(0).shape)\n",
    "\n",
    "# labels_shape[0] = len(dataset)\n",
    "\n",
    "# labels = torch.zeros(tuple(labels_shape)) #, device =device)\n",
    "\n",
    "# outputs_shape = list(model(torch.tensor(dataset[0]['lq']).unsqueeze(0).to(device)).shape)\n",
    "\n",
    "# outputs_shape[0] = len(dataset)\n",
    "\n",
    "# outputs = torch.zeros(tuple(outputs_shape), device =device)\n",
    "\n",
    "# tempDL = DataLoader(dataset, num_workers=0, batch_size=1, pin_memory=True)\n",
    "\n",
    "# counter = 0\n",
    "# for batch in tqdm(tempDL):\n",
    "#      with torch.no_grad():\n",
    "#             #print('batch = ',  batch['lq'].shape[0])\n",
    "#             outputs[counter:counter+batch['lq'].shape[0],:,:,:] = model(batch['lq'].to(device))\n",
    "#             labels[counter:counter+batch['gt'].shape[0]] = batch['gt']\n",
    "#             counter += batch['lq'].shape[0]\n",
    "#             #if counter == 100:\n",
    "#             #    break"
   ]
  },
  {
   "cell_type": "code",
   "execution_count": 11,
   "id": "5025cd3e",
   "metadata": {},
   "outputs": [
    {
     "name": "stdout",
     "output_type": "stream",
     "text": [
      "Output dataset\n",
      "Computing losses\n"
     ]
    },
    {
     "data": {
      "application/vnd.jupyter.widget-view+json": {
       "model_id": "98c53f61f70e466eb96a12da50708752",
       "version_major": 2,
       "version_minor": 0
      },
      "text/plain": [
       "HBox(children=(FloatProgress(value=0.0, max=500.0), HTML(value='')))"
      ]
     },
     "metadata": {},
     "output_type": "display_data"
    },
    {
     "name": "stdout",
     "output_type": "stream",
     "text": [
      "\n"
     ]
    }
   ],
   "source": [
    "print(\"Output dataset\")\n",
    "labels_test = torch.mean(labels, 1).unsqueeze(1)\n",
    "\n",
    "labels_new = labels_test.repeat((1, 3, 1, 1))\n",
    "\n",
    "out_dataset = TensorDataset(outputs,labels_new.cpu())\n",
    "dlambda = lambdas[1]-lambdas[0]\n",
    "#model.set_lhat(lambdas[-1]+dlambda-1e-9)\n",
    "print(\"Computing losses\")\n",
    "calib_loss_table = torch.zeros((outputs.shape[0],lambdas.shape[0]))\n",
    "for lam in log_progress(lambdas):\n",
    "    #print(rcps_loss_fn.shape)\n",
    "    losses = get_rcps_losses_from_outputs(model, out_dataset, rcps_loss_fn, lam-dlambda, device)\n",
    "    #print()\n",
    "    calib_loss_table[:,np.where(lambdas==lam)[0]] = losses[:,None]\n",
    "    "
   ]
  },
  {
   "cell_type": "code",
   "execution_count": 12,
   "id": "a19b6728",
   "metadata": {},
   "outputs": [
    {
     "name": "stdout",
     "output_type": "stream",
     "text": [
      "lhat =  3.3066132\n"
     ]
    }
   ],
   "source": [
    "print(\"lhat = \", get_lhat(calib_loss_table, lambdas, alpha = 0.1).numpy())"
   ]
  },
  {
   "cell_type": "code",
   "execution_count": 21,
   "id": "f9bfb0e7",
   "metadata": {},
   "outputs": [
    {
     "name": "stderr",
     "output_type": "stream",
     "text": [
      "2024-04-30 20:52:22,694 INFO: Dataset PairedImageDataset - COMBO is created.\n"
     ]
    },
    {
     "name": "stdout",
     "output_type": "stream",
     "text": [
      "\\input key =  lq\n",
      "\\gt key =  gt\n",
      "\n",
      "INPUT LMDB KEYS =  ['/home/gridsan/tye/NAFNet/datasets/calib_0422_ch4/01/train/input_crops/33_01_s001.pt', '/home/gridsan/tye/NAFNet/datasets/calib_0422_ch4/01/train/input_crops/34_01_s001.pt', '/home/gridsan/tye/NAFNet/datasets/calib_0422_ch4/01/train/input_crops/35_01_s001.pt', '/home/gridsan/tye/NAFNet/datasets/calib_0422_ch4/01/train/input_crops/36_01_s001.pt', '/home/gridsan/tye/NAFNet/datasets/calib_0422_ch4/01/train/input_crops/37_01_s001.pt', '/home/gridsan/tye/NAFNet/datasets/calib_0422_ch4/01/train/input_crops/38_01_s001.pt', '/home/gridsan/tye/NAFNet/datasets/calib_0422_ch4/01/train/input_crops/39_01_s001.pt', '/home/gridsan/tye/NAFNet/datasets/calib_0422_ch4/01/train/input_crops/40_01_s001.pt', '/home/gridsan/tye/NAFNet/datasets/calib_0422_ch4/01/train/input_crops/41_01_s001.pt', '/home/gridsan/tye/NAFNet/datasets/calib_0422_ch4/01/train/input_crops/42_01_s001.pt']\n",
      "\n",
      "GT LMDB KEYS =  ['/home/gridsan/tye/NAFNet/datasets/calib_0422_ch4/01/train/gt_crops/33_01_s001.pt', '/home/gridsan/tye/NAFNet/datasets/calib_0422_ch4/01/train/gt_crops/34_01_s001.pt', '/home/gridsan/tye/NAFNet/datasets/calib_0422_ch4/01/train/gt_crops/35_01_s001.pt', '/home/gridsan/tye/NAFNet/datasets/calib_0422_ch4/01/train/gt_crops/36_01_s001.pt', '/home/gridsan/tye/NAFNet/datasets/calib_0422_ch4/01/train/gt_crops/37_01_s001.pt', '/home/gridsan/tye/NAFNet/datasets/calib_0422_ch4/01/train/gt_crops/38_01_s001.pt', '/home/gridsan/tye/NAFNet/datasets/calib_0422_ch4/01/train/gt_crops/39_01_s001.pt', '/home/gridsan/tye/NAFNet/datasets/calib_0422_ch4/01/train/gt_crops/40_01_s001.pt', '/home/gridsan/tye/NAFNet/datasets/calib_0422_ch4/01/train/gt_crops/41_01_s001.pt', '/home/gridsan/tye/NAFNet/datasets/calib_0422_ch4/01/train/gt_crops/42_01_s001.pt']\n"
     ]
    },
    {
     "name": "stderr",
     "output_type": "stream",
     "text": [
      "\r",
      "  0%|          | 0/31 [00:00<?, ?it/s]"
     ]
    },
    {
     "name": "stdout",
     "output_type": "stream",
     "text": [
      "LQ IMAGE SHAPE:  (20, 500, 500)\n",
      "LQ IMAGE SHAPE:  (20, 500, 500)\n",
      "LQ IMAGE SHAPE:  (20, 500, 500)\n"
     ]
    },
    {
     "name": "stderr",
     "output_type": "stream",
     "text": [
      "\r",
      "  6%|▋         | 2/31 [00:02<00:29,  1.02s/it]"
     ]
    },
    {
     "name": "stdout",
     "output_type": "stream",
     "text": [
      "LQ IMAGE SHAPE:  (20, 500, 500)\n"
     ]
    },
    {
     "name": "stderr",
     "output_type": "stream",
     "text": [
      "\r",
      " 10%|▉         | 3/31 [00:03<00:29,  1.05s/it]"
     ]
    },
    {
     "name": "stdout",
     "output_type": "stream",
     "text": [
      "LQ IMAGE SHAPE:  (20, 500, 500)\n"
     ]
    },
    {
     "name": "stderr",
     "output_type": "stream",
     "text": [
      "\r",
      " 13%|█▎        | 4/31 [00:04<00:29,  1.07s/it]"
     ]
    },
    {
     "name": "stdout",
     "output_type": "stream",
     "text": [
      "LQ IMAGE SHAPE:  (20, 500, 500)\n"
     ]
    },
    {
     "name": "stderr",
     "output_type": "stream",
     "text": [
      "\r",
      " 16%|█▌        | 5/31 [00:05<00:25,  1.02it/s]"
     ]
    },
    {
     "name": "stdout",
     "output_type": "stream",
     "text": [
      "LQ IMAGE SHAPE:  (20, 500, 500)\n"
     ]
    },
    {
     "name": "stderr",
     "output_type": "stream",
     "text": [
      "\r",
      " 19%|█▉        | 6/31 [00:06<00:26,  1.07s/it]"
     ]
    },
    {
     "name": "stdout",
     "output_type": "stream",
     "text": [
      "LQ IMAGE SHAPE:  (20, 500, 500)\n"
     ]
    },
    {
     "name": "stderr",
     "output_type": "stream",
     "text": [
      "\r",
      " 23%|██▎       | 7/31 [00:07<00:23,  1.02it/s]"
     ]
    },
    {
     "name": "stdout",
     "output_type": "stream",
     "text": [
      "LQ IMAGE SHAPE:  (20, 500, 500)\n"
     ]
    },
    {
     "name": "stderr",
     "output_type": "stream",
     "text": [
      "\r",
      " 26%|██▌       | 8/31 [00:07<00:20,  1.11it/s]"
     ]
    },
    {
     "name": "stdout",
     "output_type": "stream",
     "text": [
      "LQ IMAGE SHAPE:  (20, 500, 500)\n"
     ]
    },
    {
     "name": "stderr",
     "output_type": "stream",
     "text": [
      "\r",
      " 29%|██▉       | 9/31 [00:08<00:18,  1.18it/s]"
     ]
    },
    {
     "name": "stdout",
     "output_type": "stream",
     "text": [
      "LQ IMAGE SHAPE:  (20, 500, 500)\n"
     ]
    },
    {
     "name": "stderr",
     "output_type": "stream",
     "text": [
      "\r",
      " 32%|███▏      | 10/31 [00:09<00:17,  1.19it/s]"
     ]
    },
    {
     "name": "stdout",
     "output_type": "stream",
     "text": [
      "LQ IMAGE SHAPE:  (20, 500, 500)\n"
     ]
    },
    {
     "name": "stderr",
     "output_type": "stream",
     "text": [
      "\r",
      " 35%|███▌      | 11/31 [00:10<00:16,  1.18it/s]"
     ]
    },
    {
     "name": "stdout",
     "output_type": "stream",
     "text": [
      "LQ IMAGE SHAPE:  (20, 500, 500)\n"
     ]
    },
    {
     "name": "stderr",
     "output_type": "stream",
     "text": [
      "\r",
      " 39%|███▊      | 12/31 [00:11<00:16,  1.15it/s]"
     ]
    },
    {
     "name": "stdout",
     "output_type": "stream",
     "text": [
      "LQ IMAGE SHAPE:  (20, 500, 500)\n"
     ]
    },
    {
     "name": "stderr",
     "output_type": "stream",
     "text": [
      "\r",
      " 42%|████▏     | 13/31 [00:11<00:14,  1.26it/s]"
     ]
    },
    {
     "name": "stdout",
     "output_type": "stream",
     "text": [
      "LQ IMAGE SHAPE:  (20, 500, 500)\n"
     ]
    },
    {
     "name": "stderr",
     "output_type": "stream",
     "text": [
      "\r",
      " 45%|████▌     | 14/31 [00:12<00:13,  1.28it/s]"
     ]
    },
    {
     "name": "stdout",
     "output_type": "stream",
     "text": [
      "LQ IMAGE SHAPE:  (20, 500, 500)\n"
     ]
    },
    {
     "name": "stderr",
     "output_type": "stream",
     "text": [
      "\r",
      " 48%|████▊     | 15/31 [00:13<00:12,  1.25it/s]"
     ]
    },
    {
     "name": "stdout",
     "output_type": "stream",
     "text": [
      "LQ IMAGE SHAPE:  (20, 500, 500)\n"
     ]
    },
    {
     "name": "stderr",
     "output_type": "stream",
     "text": [
      "\r",
      " 52%|█████▏    | 16/31 [00:14<00:11,  1.28it/s]"
     ]
    },
    {
     "name": "stdout",
     "output_type": "stream",
     "text": [
      "LQ IMAGE SHAPE:  (20, 500, 500)\n"
     ]
    },
    {
     "name": "stderr",
     "output_type": "stream",
     "text": [
      "\r",
      " 55%|█████▍    | 17/31 [00:14<00:11,  1.24it/s]"
     ]
    },
    {
     "name": "stdout",
     "output_type": "stream",
     "text": [
      "LQ IMAGE SHAPE:  (20, 500, 500)\n"
     ]
    },
    {
     "name": "stderr",
     "output_type": "stream",
     "text": [
      "\r",
      " 58%|█████▊    | 18/31 [00:15<00:09,  1.32it/s]"
     ]
    },
    {
     "name": "stdout",
     "output_type": "stream",
     "text": [
      "LQ IMAGE SHAPE:  (20, 500, 500)\n"
     ]
    },
    {
     "name": "stderr",
     "output_type": "stream",
     "text": [
      "\r",
      " 61%|██████▏   | 19/31 [00:16<00:08,  1.41it/s]"
     ]
    },
    {
     "name": "stdout",
     "output_type": "stream",
     "text": [
      "LQ IMAGE SHAPE:  (20, 500, 500)\n"
     ]
    },
    {
     "name": "stderr",
     "output_type": "stream",
     "text": [
      "\r",
      " 65%|██████▍   | 20/31 [00:17<00:08,  1.35it/s]"
     ]
    },
    {
     "name": "stdout",
     "output_type": "stream",
     "text": [
      "LQ IMAGE SHAPE:  (20, 500, 500)\n"
     ]
    },
    {
     "name": "stderr",
     "output_type": "stream",
     "text": [
      "\r",
      " 68%|██████▊   | 21/31 [00:17<00:07,  1.31it/s]"
     ]
    },
    {
     "name": "stdout",
     "output_type": "stream",
     "text": [
      "LQ IMAGE SHAPE:  (20, 500, 500)\n"
     ]
    },
    {
     "name": "stderr",
     "output_type": "stream",
     "text": [
      "\r",
      " 71%|███████   | 22/31 [00:18<00:06,  1.34it/s]"
     ]
    },
    {
     "name": "stdout",
     "output_type": "stream",
     "text": [
      "LQ IMAGE SHAPE:  (20, 500, 500)\n"
     ]
    },
    {
     "name": "stderr",
     "output_type": "stream",
     "text": [
      "\r",
      " 74%|███████▍  | 23/31 [00:19<00:05,  1.39it/s]"
     ]
    },
    {
     "name": "stdout",
     "output_type": "stream",
     "text": [
      "LQ IMAGE SHAPE:  (20, 500, 500)\n"
     ]
    },
    {
     "name": "stderr",
     "output_type": "stream",
     "text": [
      "\r",
      " 77%|███████▋  | 24/31 [00:20<00:05,  1.24it/s]"
     ]
    },
    {
     "name": "stdout",
     "output_type": "stream",
     "text": [
      "LQ IMAGE SHAPE:  (20, 500, 500)\n"
     ]
    },
    {
     "name": "stderr",
     "output_type": "stream",
     "text": [
      "\r",
      " 81%|████████  | 25/31 [00:21<00:05,  1.14it/s]"
     ]
    },
    {
     "name": "stdout",
     "output_type": "stream",
     "text": [
      "LQ IMAGE SHAPE:  (20, 500, 500)\n"
     ]
    },
    {
     "name": "stderr",
     "output_type": "stream",
     "text": [
      "\r",
      " 84%|████████▍ | 26/31 [00:21<00:04,  1.23it/s]"
     ]
    },
    {
     "name": "stdout",
     "output_type": "stream",
     "text": [
      "LQ IMAGE SHAPE:  (20, 500, 500)\n"
     ]
    },
    {
     "name": "stderr",
     "output_type": "stream",
     "text": [
      "\r",
      " 87%|████████▋ | 27/31 [00:23<00:04,  1.17s/it]"
     ]
    },
    {
     "name": "stdout",
     "output_type": "stream",
     "text": [
      "LQ IMAGE SHAPE:  (20, 500, 500)\n"
     ]
    },
    {
     "name": "stderr",
     "output_type": "stream",
     "text": [
      "\r",
      " 90%|█████████ | 28/31 [00:24<00:03,  1.08s/it]"
     ]
    },
    {
     "name": "stdout",
     "output_type": "stream",
     "text": [
      "LQ IMAGE SHAPE:  (20, 500, 500)\n"
     ]
    },
    {
     "name": "stderr",
     "output_type": "stream",
     "text": [
      "\r",
      " 94%|█████████▎| 29/31 [00:25<00:01,  1.04it/s]"
     ]
    },
    {
     "name": "stdout",
     "output_type": "stream",
     "text": [
      "LQ IMAGE SHAPE:  (20, 500, 500)\n"
     ]
    },
    {
     "name": "stderr",
     "output_type": "stream",
     "text": [
      "\r",
      " 97%|█████████▋| 30/31 [00:26<00:00,  1.06it/s]"
     ]
    },
    {
     "name": "stdout",
     "output_type": "stream",
     "text": [
      "LQ IMAGE SHAPE:  (20, 500, 500)\n"
     ]
    },
    {
     "name": "stderr",
     "output_type": "stream",
     "text": [
      "100%|██████████| 31/31 [00:27<00:00,  1.13it/s]"
     ]
    },
    {
     "name": "stdout",
     "output_type": "stream",
     "text": [
      "LQ IMAGE SHAPE:  (20, 500, 500)\n",
      "Computing losses\n"
     ]
    },
    {
     "name": "stderr",
     "output_type": "stream",
     "text": [
      "\n"
     ]
    },
    {
     "data": {
      "application/vnd.jupyter.widget-view+json": {
       "model_id": "39bc4eec2765451a852544e05582f98d",
       "version_major": 2,
       "version_minor": 0
      },
      "text/plain": [
       "HBox(children=(FloatProgress(value=0.0, max=500.0), HTML(value='')))"
      ]
     },
     "metadata": {},
     "output_type": "display_data"
    },
    {
     "name": "stderr",
     "output_type": "stream",
     "text": [
      "2024-04-30 20:52:56,328 INFO: Dataset PairedImageDataset - COMBO is created.\n"
     ]
    },
    {
     "name": "stdout",
     "output_type": "stream",
     "text": [
      "\n",
      "\\input key =  lq\n",
      "\\gt key =  gt\n",
      "\n",
      "INPUT LMDB KEYS =  ['/home/gridsan/tye/NAFNet/datasets/calib_0422_ch4/02/train/input_crops/33_01_s001.pt', '/home/gridsan/tye/NAFNet/datasets/calib_0422_ch4/02/train/input_crops/33_02_s001.pt', '/home/gridsan/tye/NAFNet/datasets/calib_0422_ch4/02/train/input_crops/34_02_s001.pt', '/home/gridsan/tye/NAFNet/datasets/calib_0422_ch4/02/train/input_crops/35_02_s001.pt', '/home/gridsan/tye/NAFNet/datasets/calib_0422_ch4/02/train/input_crops/36_02_s001.pt', '/home/gridsan/tye/NAFNet/datasets/calib_0422_ch4/02/train/input_crops/37_02_s001.pt', '/home/gridsan/tye/NAFNet/datasets/calib_0422_ch4/02/train/input_crops/38_02_s001.pt', '/home/gridsan/tye/NAFNet/datasets/calib_0422_ch4/02/train/input_crops/39_02_s001.pt', '/home/gridsan/tye/NAFNet/datasets/calib_0422_ch4/02/train/input_crops/40_02_s001.pt', '/home/gridsan/tye/NAFNet/datasets/calib_0422_ch4/02/train/input_crops/41_02_s001.pt']\n",
      "\n",
      "GT LMDB KEYS =  ['/home/gridsan/tye/NAFNet/datasets/calib_0422_ch4/02/train/gt_crops/33_01_s001.pt', '/home/gridsan/tye/NAFNet/datasets/calib_0422_ch4/02/train/gt_crops/33_02_s001.pt', '/home/gridsan/tye/NAFNet/datasets/calib_0422_ch4/02/train/gt_crops/34_02_s001.pt', '/home/gridsan/tye/NAFNet/datasets/calib_0422_ch4/02/train/gt_crops/35_02_s001.pt', '/home/gridsan/tye/NAFNet/datasets/calib_0422_ch4/02/train/gt_crops/36_02_s001.pt', '/home/gridsan/tye/NAFNet/datasets/calib_0422_ch4/02/train/gt_crops/37_02_s001.pt', '/home/gridsan/tye/NAFNet/datasets/calib_0422_ch4/02/train/gt_crops/38_02_s001.pt', '/home/gridsan/tye/NAFNet/datasets/calib_0422_ch4/02/train/gt_crops/39_02_s001.pt', '/home/gridsan/tye/NAFNet/datasets/calib_0422_ch4/02/train/gt_crops/40_02_s001.pt', '/home/gridsan/tye/NAFNet/datasets/calib_0422_ch4/02/train/gt_crops/41_02_s001.pt']\n"
     ]
    },
    {
     "name": "stderr",
     "output_type": "stream",
     "text": [
      "\r",
      "  0%|          | 0/32 [00:00<?, ?it/s]"
     ]
    },
    {
     "name": "stdout",
     "output_type": "stream",
     "text": [
      "LQ IMAGE SHAPE:  (20, 500, 500)\n",
      "LQ IMAGE SHAPE:  (20, 500, 500)\n",
      "LQ IMAGE SHAPE:  (20, 500, 500)\n"
     ]
    },
    {
     "name": "stderr",
     "output_type": "stream",
     "text": [
      "\r",
      "  6%|▋         | 2/32 [00:00<00:12,  2.39it/s]"
     ]
    },
    {
     "name": "stdout",
     "output_type": "stream",
     "text": [
      "LQ IMAGE SHAPE:  (20, 500, 500)\n"
     ]
    },
    {
     "name": "stderr",
     "output_type": "stream",
     "text": [
      "\r",
      "  9%|▉         | 3/32 [00:01<00:17,  1.69it/s]"
     ]
    },
    {
     "name": "stdout",
     "output_type": "stream",
     "text": [
      "LQ IMAGE SHAPE:  (20, 500, 500)\n"
     ]
    },
    {
     "name": "stderr",
     "output_type": "stream",
     "text": [
      "\r",
      " 12%|█▎        | 4/32 [00:02<00:21,  1.33it/s]"
     ]
    },
    {
     "name": "stdout",
     "output_type": "stream",
     "text": [
      "LQ IMAGE SHAPE:  (20, 500, 500)\n"
     ]
    },
    {
     "name": "stderr",
     "output_type": "stream",
     "text": [
      "\r",
      " 16%|█▌        | 5/32 [00:03<00:20,  1.31it/s]"
     ]
    },
    {
     "name": "stdout",
     "output_type": "stream",
     "text": [
      "LQ IMAGE SHAPE:  (20, 500, 500)\n"
     ]
    },
    {
     "name": "stderr",
     "output_type": "stream",
     "text": [
      "\r",
      " 19%|█▉        | 6/32 [00:04<00:20,  1.30it/s]"
     ]
    },
    {
     "name": "stdout",
     "output_type": "stream",
     "text": [
      "LQ IMAGE SHAPE:  (20, 500, 500)\n"
     ]
    },
    {
     "name": "stderr",
     "output_type": "stream",
     "text": [
      "\r",
      " 22%|██▏       | 7/32 [00:05<00:20,  1.22it/s]"
     ]
    },
    {
     "name": "stdout",
     "output_type": "stream",
     "text": [
      "LQ IMAGE SHAPE:  (20, 500, 500)\n"
     ]
    },
    {
     "name": "stderr",
     "output_type": "stream",
     "text": [
      "\r",
      " 25%|██▌       | 8/32 [00:06<00:18,  1.26it/s]"
     ]
    },
    {
     "name": "stdout",
     "output_type": "stream",
     "text": [
      "LQ IMAGE SHAPE:  (20, 500, 500)\n"
     ]
    },
    {
     "name": "stderr",
     "output_type": "stream",
     "text": [
      "\r",
      " 28%|██▊       | 9/32 [00:07<00:19,  1.19it/s]"
     ]
    },
    {
     "name": "stdout",
     "output_type": "stream",
     "text": [
      "LQ IMAGE SHAPE:  (20, 500, 500)\n"
     ]
    },
    {
     "name": "stderr",
     "output_type": "stream",
     "text": [
      "\r",
      " 31%|███▏      | 10/32 [00:07<00:17,  1.23it/s]"
     ]
    },
    {
     "name": "stdout",
     "output_type": "stream",
     "text": [
      "LQ IMAGE SHAPE:  (20, 500, 500)\n"
     ]
    },
    {
     "name": "stderr",
     "output_type": "stream",
     "text": [
      "\r",
      " 34%|███▍      | 11/32 [00:08<00:17,  1.22it/s]"
     ]
    },
    {
     "name": "stdout",
     "output_type": "stream",
     "text": [
      "LQ IMAGE SHAPE:  (20, 500, 500)\n"
     ]
    },
    {
     "name": "stderr",
     "output_type": "stream",
     "text": [
      "\r",
      " 38%|███▊      | 12/32 [00:09<00:16,  1.25it/s]"
     ]
    },
    {
     "name": "stdout",
     "output_type": "stream",
     "text": [
      "LQ IMAGE SHAPE:  (20, 500, 500)\n"
     ]
    },
    {
     "name": "stderr",
     "output_type": "stream",
     "text": [
      "\r",
      " 41%|████      | 13/32 [00:10<00:15,  1.26it/s]"
     ]
    },
    {
     "name": "stdout",
     "output_type": "stream",
     "text": [
      "LQ IMAGE SHAPE:  (20, 500, 500)\n"
     ]
    },
    {
     "name": "stderr",
     "output_type": "stream",
     "text": [
      "\r",
      " 44%|████▍     | 14/32 [00:11<00:14,  1.23it/s]"
     ]
    },
    {
     "name": "stdout",
     "output_type": "stream",
     "text": [
      "LQ IMAGE SHAPE:  (20, 500, 500)\n"
     ]
    },
    {
     "name": "stderr",
     "output_type": "stream",
     "text": [
      "\r",
      " 47%|████▋     | 15/32 [00:11<00:13,  1.26it/s]"
     ]
    },
    {
     "name": "stdout",
     "output_type": "stream",
     "text": [
      "LQ IMAGE SHAPE:  (20, 500, 500)\n"
     ]
    },
    {
     "name": "stderr",
     "output_type": "stream",
     "text": [
      "\r",
      " 50%|█████     | 16/32 [00:12<00:12,  1.29it/s]"
     ]
    },
    {
     "name": "stdout",
     "output_type": "stream",
     "text": [
      "LQ IMAGE SHAPE:  (20, 500, 500)\n"
     ]
    },
    {
     "name": "stderr",
     "output_type": "stream",
     "text": [
      "\r",
      " 53%|█████▎    | 17/32 [00:13<00:12,  1.17it/s]"
     ]
    },
    {
     "name": "stdout",
     "output_type": "stream",
     "text": [
      "LQ IMAGE SHAPE:  (20, 500, 500)\n"
     ]
    },
    {
     "name": "stderr",
     "output_type": "stream",
     "text": [
      "\r",
      " 56%|█████▋    | 18/32 [00:14<00:12,  1.16it/s]"
     ]
    },
    {
     "name": "stdout",
     "output_type": "stream",
     "text": [
      "LQ IMAGE SHAPE:  (20, 500, 500)\n"
     ]
    },
    {
     "name": "stderr",
     "output_type": "stream",
     "text": [
      "\r",
      " 59%|█████▉    | 19/32 [00:15<00:11,  1.14it/s]"
     ]
    },
    {
     "name": "stdout",
     "output_type": "stream",
     "text": [
      "LQ IMAGE SHAPE:  (20, 500, 500)\n"
     ]
    },
    {
     "name": "stderr",
     "output_type": "stream",
     "text": [
      "\r",
      " 62%|██████▎   | 20/32 [00:16<00:11,  1.02it/s]"
     ]
    },
    {
     "name": "stdout",
     "output_type": "stream",
     "text": [
      "LQ IMAGE SHAPE:  (20, 500, 500)\n"
     ]
    },
    {
     "name": "stderr",
     "output_type": "stream",
     "text": [
      "\r",
      " 66%|██████▌   | 21/32 [00:17<00:11,  1.01s/it]"
     ]
    },
    {
     "name": "stdout",
     "output_type": "stream",
     "text": [
      "LQ IMAGE SHAPE:  (20, 500, 500)\n"
     ]
    },
    {
     "name": "stderr",
     "output_type": "stream",
     "text": [
      "\r",
      " 69%|██████▉   | 22/32 [00:20<00:14,  1.44s/it]"
     ]
    },
    {
     "name": "stdout",
     "output_type": "stream",
     "text": [
      "LQ IMAGE SHAPE:  (20, 500, 500)\n"
     ]
    },
    {
     "name": "stderr",
     "output_type": "stream",
     "text": [
      "\r",
      " 72%|███████▏  | 23/32 [00:21<00:11,  1.26s/it]"
     ]
    },
    {
     "name": "stdout",
     "output_type": "stream",
     "text": [
      "LQ IMAGE SHAPE:  (20, 500, 500)\n"
     ]
    },
    {
     "name": "stderr",
     "output_type": "stream",
     "text": [
      "\r",
      " 75%|███████▌  | 24/32 [00:21<00:09,  1.16s/it]"
     ]
    },
    {
     "name": "stdout",
     "output_type": "stream",
     "text": [
      "LQ IMAGE SHAPE:  (20, 500, 500)\n"
     ]
    },
    {
     "name": "stderr",
     "output_type": "stream",
     "text": [
      "\r",
      " 78%|███████▊  | 25/32 [00:22<00:07,  1.10s/it]"
     ]
    },
    {
     "name": "stdout",
     "output_type": "stream",
     "text": [
      "LQ IMAGE SHAPE:  (20, 500, 500)\n"
     ]
    },
    {
     "name": "stderr",
     "output_type": "stream",
     "text": [
      "\r",
      " 81%|████████▏ | 26/32 [00:23<00:06,  1.04s/it]"
     ]
    },
    {
     "name": "stdout",
     "output_type": "stream",
     "text": [
      "LQ IMAGE SHAPE:  (20, 500, 500)\n"
     ]
    },
    {
     "name": "stderr",
     "output_type": "stream",
     "text": [
      "\r",
      " 84%|████████▍ | 27/32 [00:24<00:05,  1.04s/it]"
     ]
    },
    {
     "name": "stdout",
     "output_type": "stream",
     "text": [
      "LQ IMAGE SHAPE:  (20, 500, 500)\n"
     ]
    },
    {
     "name": "stderr",
     "output_type": "stream",
     "text": [
      "\r",
      " 88%|████████▊ | 28/32 [00:25<00:03,  1.04it/s]"
     ]
    },
    {
     "name": "stdout",
     "output_type": "stream",
     "text": [
      "LQ IMAGE SHAPE:  (20, 500, 500)\n"
     ]
    },
    {
     "name": "stderr",
     "output_type": "stream",
     "text": [
      "\r",
      " 91%|█████████ | 29/32 [00:26<00:02,  1.11it/s]"
     ]
    },
    {
     "name": "stdout",
     "output_type": "stream",
     "text": [
      "LQ IMAGE SHAPE:  (20, 500, 500)\n"
     ]
    },
    {
     "name": "stderr",
     "output_type": "stream",
     "text": [
      "\r",
      " 94%|█████████▍| 30/32 [00:27<00:01,  1.17it/s]"
     ]
    },
    {
     "name": "stdout",
     "output_type": "stream",
     "text": [
      "LQ IMAGE SHAPE:  (20, 500, 500)\n"
     ]
    },
    {
     "name": "stderr",
     "output_type": "stream",
     "text": [
      "\r",
      " 97%|█████████▋| 31/32 [00:27<00:00,  1.17it/s]"
     ]
    },
    {
     "name": "stdout",
     "output_type": "stream",
     "text": [
      "LQ IMAGE SHAPE:  (20, 500, 500)\n"
     ]
    },
    {
     "name": "stderr",
     "output_type": "stream",
     "text": [
      "100%|██████████| 32/32 [00:28<00:00,  1.12it/s]"
     ]
    },
    {
     "name": "stdout",
     "output_type": "stream",
     "text": [
      "LQ IMAGE SHAPE:  (20, 500, 500)\n",
      "Computing losses\n"
     ]
    },
    {
     "name": "stderr",
     "output_type": "stream",
     "text": [
      "\n"
     ]
    },
    {
     "data": {
      "application/vnd.jupyter.widget-view+json": {
       "model_id": "7946b396eb38451c8dfb3b454c81fe43",
       "version_major": 2,
       "version_minor": 0
      },
      "text/plain": [
       "HBox(children=(FloatProgress(value=0.0, max=500.0), HTML(value='')))"
      ]
     },
     "metadata": {},
     "output_type": "display_data"
    },
    {
     "name": "stderr",
     "output_type": "stream",
     "text": [
      "2024-04-30 20:53:31,169 INFO: Dataset PairedImageDataset - COMBO is created.\n"
     ]
    },
    {
     "name": "stdout",
     "output_type": "stream",
     "text": [
      "\n",
      "\\input key =  lq\n",
      "\\gt key =  gt\n",
      "\n",
      "INPUT LMDB KEYS =  ['/home/gridsan/tye/NAFNet/datasets/calib_0422_ch4/03/train/input_crops/33_02_s001.pt', '/home/gridsan/tye/NAFNet/datasets/calib_0422_ch4/03/train/input_crops/33_03_s001.pt', '/home/gridsan/tye/NAFNet/datasets/calib_0422_ch4/03/train/input_crops/34_03_s001.pt', '/home/gridsan/tye/NAFNet/datasets/calib_0422_ch4/03/train/input_crops/35_03_s001.pt', '/home/gridsan/tye/NAFNet/datasets/calib_0422_ch4/03/train/input_crops/36_03_s001.pt', '/home/gridsan/tye/NAFNet/datasets/calib_0422_ch4/03/train/input_crops/37_03_s001.pt', '/home/gridsan/tye/NAFNet/datasets/calib_0422_ch4/03/train/input_crops/38_03_s001.pt', '/home/gridsan/tye/NAFNet/datasets/calib_0422_ch4/03/train/input_crops/39_03_s001.pt', '/home/gridsan/tye/NAFNet/datasets/calib_0422_ch4/03/train/input_crops/40_03_s001.pt', '/home/gridsan/tye/NAFNet/datasets/calib_0422_ch4/03/train/input_crops/41_03_s001.pt']\n",
      "\n",
      "GT LMDB KEYS =  ['/home/gridsan/tye/NAFNet/datasets/calib_0422_ch4/03/train/gt_crops/33_02_s001.pt', '/home/gridsan/tye/NAFNet/datasets/calib_0422_ch4/03/train/gt_crops/33_03_s001.pt', '/home/gridsan/tye/NAFNet/datasets/calib_0422_ch4/03/train/gt_crops/34_03_s001.pt', '/home/gridsan/tye/NAFNet/datasets/calib_0422_ch4/03/train/gt_crops/35_03_s001.pt', '/home/gridsan/tye/NAFNet/datasets/calib_0422_ch4/03/train/gt_crops/36_03_s001.pt', '/home/gridsan/tye/NAFNet/datasets/calib_0422_ch4/03/train/gt_crops/37_03_s001.pt', '/home/gridsan/tye/NAFNet/datasets/calib_0422_ch4/03/train/gt_crops/38_03_s001.pt', '/home/gridsan/tye/NAFNet/datasets/calib_0422_ch4/03/train/gt_crops/39_03_s001.pt', '/home/gridsan/tye/NAFNet/datasets/calib_0422_ch4/03/train/gt_crops/40_03_s001.pt', '/home/gridsan/tye/NAFNet/datasets/calib_0422_ch4/03/train/gt_crops/41_03_s001.pt']\n"
     ]
    },
    {
     "name": "stderr",
     "output_type": "stream",
     "text": [
      "\r",
      "  0%|          | 0/32 [00:00<?, ?it/s]"
     ]
    },
    {
     "name": "stdout",
     "output_type": "stream",
     "text": [
      "LQ IMAGE SHAPE:  (20, 500, 500)\n",
      "LQ IMAGE SHAPE:  (20, 500, 500)\n",
      "LQ IMAGE SHAPE:  (20, 500, 500)\n"
     ]
    },
    {
     "name": "stderr",
     "output_type": "stream",
     "text": [
      "\r",
      "  6%|▋         | 2/32 [00:00<00:12,  2.31it/s]"
     ]
    },
    {
     "name": "stdout",
     "output_type": "stream",
     "text": [
      "LQ IMAGE SHAPE:  (20, 500, 500)\n"
     ]
    },
    {
     "name": "stderr",
     "output_type": "stream",
     "text": [
      "\r",
      "  9%|▉         | 3/32 [00:01<00:15,  1.89it/s]"
     ]
    },
    {
     "name": "stdout",
     "output_type": "stream",
     "text": [
      "LQ IMAGE SHAPE:  (20, 500, 500)\n"
     ]
    },
    {
     "name": "stderr",
     "output_type": "stream",
     "text": [
      "\r",
      " 12%|█▎        | 4/32 [00:02<00:16,  1.72it/s]"
     ]
    },
    {
     "name": "stdout",
     "output_type": "stream",
     "text": [
      "LQ IMAGE SHAPE:  (20, 500, 500)\n"
     ]
    },
    {
     "name": "stderr",
     "output_type": "stream",
     "text": [
      "\r",
      " 16%|█▌        | 5/32 [00:03<00:17,  1.54it/s]"
     ]
    },
    {
     "name": "stdout",
     "output_type": "stream",
     "text": [
      "LQ IMAGE SHAPE:  (20, 500, 500)\n"
     ]
    },
    {
     "name": "stderr",
     "output_type": "stream",
     "text": [
      "\r",
      " 19%|█▉        | 6/32 [00:03<00:18,  1.41it/s]"
     ]
    },
    {
     "name": "stdout",
     "output_type": "stream",
     "text": [
      "LQ IMAGE SHAPE:  (20, 500, 500)\n"
     ]
    },
    {
     "name": "stderr",
     "output_type": "stream",
     "text": [
      "\r",
      " 22%|██▏       | 7/32 [00:05<00:23,  1.09it/s]"
     ]
    },
    {
     "name": "stdout",
     "output_type": "stream",
     "text": [
      "LQ IMAGE SHAPE:  (20, 500, 500)\n"
     ]
    },
    {
     "name": "stderr",
     "output_type": "stream",
     "text": [
      "\r",
      " 25%|██▌       | 8/32 [00:06<00:20,  1.15it/s]"
     ]
    },
    {
     "name": "stdout",
     "output_type": "stream",
     "text": [
      "LQ IMAGE SHAPE:  (20, 500, 500)\n"
     ]
    },
    {
     "name": "stderr",
     "output_type": "stream",
     "text": [
      "\r",
      " 28%|██▊       | 9/32 [00:07<00:20,  1.14it/s]"
     ]
    },
    {
     "name": "stdout",
     "output_type": "stream",
     "text": [
      "LQ IMAGE SHAPE:  (20, 500, 500)\n"
     ]
    },
    {
     "name": "stderr",
     "output_type": "stream",
     "text": [
      "\r",
      " 31%|███▏      | 10/32 [00:08<00:20,  1.05it/s]"
     ]
    },
    {
     "name": "stdout",
     "output_type": "stream",
     "text": [
      "LQ IMAGE SHAPE:  (20, 500, 500)\n"
     ]
    },
    {
     "name": "stderr",
     "output_type": "stream",
     "text": [
      "\r",
      " 34%|███▍      | 11/32 [00:09<00:21,  1.03s/it]"
     ]
    },
    {
     "name": "stdout",
     "output_type": "stream",
     "text": [
      "LQ IMAGE SHAPE:  (20, 500, 500)\n"
     ]
    },
    {
     "name": "stderr",
     "output_type": "stream",
     "text": [
      "\r",
      " 38%|███▊      | 12/32 [00:10<00:18,  1.09it/s]"
     ]
    },
    {
     "name": "stdout",
     "output_type": "stream",
     "text": [
      "LQ IMAGE SHAPE:  (20, 500, 500)\n"
     ]
    },
    {
     "name": "stderr",
     "output_type": "stream",
     "text": [
      "\r",
      " 41%|████      | 13/32 [00:10<00:16,  1.16it/s]"
     ]
    },
    {
     "name": "stdout",
     "output_type": "stream",
     "text": [
      "LQ IMAGE SHAPE:  (20, 500, 500)\n"
     ]
    },
    {
     "name": "stderr",
     "output_type": "stream",
     "text": [
      "\r",
      " 44%|████▍     | 14/32 [00:11<00:16,  1.08it/s]"
     ]
    },
    {
     "name": "stdout",
     "output_type": "stream",
     "text": [
      "LQ IMAGE SHAPE:  (20, 500, 500)\n"
     ]
    },
    {
     "name": "stderr",
     "output_type": "stream",
     "text": [
      "\r",
      " 47%|████▋     | 15/32 [00:12<00:14,  1.15it/s]"
     ]
    },
    {
     "name": "stdout",
     "output_type": "stream",
     "text": [
      "LQ IMAGE SHAPE:  (20, 500, 500)\n"
     ]
    },
    {
     "name": "stderr",
     "output_type": "stream",
     "text": [
      "\r",
      " 50%|█████     | 16/32 [00:13<00:13,  1.18it/s]"
     ]
    },
    {
     "name": "stdout",
     "output_type": "stream",
     "text": [
      "LQ IMAGE SHAPE:  (20, 500, 500)\n"
     ]
    },
    {
     "name": "stderr",
     "output_type": "stream",
     "text": [
      "\r",
      " 53%|█████▎    | 17/32 [00:14<00:13,  1.08it/s]"
     ]
    },
    {
     "name": "stdout",
     "output_type": "stream",
     "text": [
      "LQ IMAGE SHAPE:  (20, 500, 500)\n"
     ]
    },
    {
     "name": "stderr",
     "output_type": "stream",
     "text": [
      "\r",
      " 56%|█████▋    | 18/32 [00:15<00:12,  1.12it/s]"
     ]
    },
    {
     "name": "stdout",
     "output_type": "stream",
     "text": [
      "LQ IMAGE SHAPE:  (20, 500, 500)\n"
     ]
    },
    {
     "name": "stderr",
     "output_type": "stream",
     "text": [
      "\r",
      " 59%|█████▉    | 19/32 [00:15<00:10,  1.23it/s]"
     ]
    },
    {
     "name": "stdout",
     "output_type": "stream",
     "text": [
      "LQ IMAGE SHAPE:  (20, 500, 500)\n"
     ]
    },
    {
     "name": "stderr",
     "output_type": "stream",
     "text": [
      "\r",
      " 62%|██████▎   | 20/32 [00:16<00:09,  1.28it/s]"
     ]
    },
    {
     "name": "stdout",
     "output_type": "stream",
     "text": [
      "LQ IMAGE SHAPE:  (20, 500, 500)\n"
     ]
    },
    {
     "name": "stderr",
     "output_type": "stream",
     "text": [
      "\r",
      " 66%|██████▌   | 21/32 [00:17<00:08,  1.30it/s]"
     ]
    },
    {
     "name": "stdout",
     "output_type": "stream",
     "text": [
      "LQ IMAGE SHAPE:  (20, 500, 500)\n"
     ]
    },
    {
     "name": "stderr",
     "output_type": "stream",
     "text": [
      "\r",
      " 69%|██████▉   | 22/32 [00:18<00:08,  1.25it/s]"
     ]
    },
    {
     "name": "stdout",
     "output_type": "stream",
     "text": [
      "LQ IMAGE SHAPE:  (20, 500, 500)\n"
     ]
    },
    {
     "name": "stderr",
     "output_type": "stream",
     "text": [
      "\r",
      " 72%|███████▏  | 23/32 [00:19<00:07,  1.19it/s]"
     ]
    },
    {
     "name": "stdout",
     "output_type": "stream",
     "text": [
      "LQ IMAGE SHAPE:  (20, 500, 500)\n"
     ]
    },
    {
     "name": "stderr",
     "output_type": "stream",
     "text": [
      "\r",
      " 75%|███████▌  | 24/32 [00:19<00:06,  1.22it/s]"
     ]
    },
    {
     "name": "stdout",
     "output_type": "stream",
     "text": [
      "LQ IMAGE SHAPE:  (20, 500, 500)\n"
     ]
    },
    {
     "name": "stderr",
     "output_type": "stream",
     "text": [
      "\r",
      " 78%|███████▊  | 25/32 [00:22<00:08,  1.21s/it]"
     ]
    },
    {
     "name": "stdout",
     "output_type": "stream",
     "text": [
      "LQ IMAGE SHAPE:  (20, 500, 500)\n"
     ]
    },
    {
     "name": "stderr",
     "output_type": "stream",
     "text": [
      "\r",
      " 81%|████████▏ | 26/32 [00:22<00:06,  1.08s/it]"
     ]
    },
    {
     "name": "stdout",
     "output_type": "stream",
     "text": [
      "LQ IMAGE SHAPE:  (20, 500, 500)\n"
     ]
    },
    {
     "name": "stderr",
     "output_type": "stream",
     "text": [
      "\r",
      " 84%|████████▍ | 27/32 [00:24<00:05,  1.15s/it]"
     ]
    },
    {
     "name": "stdout",
     "output_type": "stream",
     "text": [
      "LQ IMAGE SHAPE:  (20, 500, 500)\n"
     ]
    },
    {
     "name": "stderr",
     "output_type": "stream",
     "text": [
      "\r",
      " 88%|████████▊ | 28/32 [00:25<00:04,  1.15s/it]"
     ]
    },
    {
     "name": "stdout",
     "output_type": "stream",
     "text": [
      "LQ IMAGE SHAPE:  (20, 500, 500)\n"
     ]
    },
    {
     "name": "stderr",
     "output_type": "stream",
     "text": [
      "\r",
      " 91%|█████████ | 29/32 [00:26<00:03,  1.04s/it]"
     ]
    },
    {
     "name": "stdout",
     "output_type": "stream",
     "text": [
      "LQ IMAGE SHAPE:  (20, 500, 500)\n"
     ]
    },
    {
     "name": "stderr",
     "output_type": "stream",
     "text": [
      "\r",
      " 94%|█████████▍| 30/32 [00:26<00:01,  1.01it/s]"
     ]
    },
    {
     "name": "stdout",
     "output_type": "stream",
     "text": [
      "LQ IMAGE SHAPE:  (20, 500, 500)\n"
     ]
    },
    {
     "name": "stderr",
     "output_type": "stream",
     "text": [
      "\r",
      " 97%|█████████▋| 31/32 [00:28<00:01,  1.16s/it]"
     ]
    },
    {
     "name": "stdout",
     "output_type": "stream",
     "text": [
      "LQ IMAGE SHAPE:  (20, 500, 500)\n"
     ]
    },
    {
     "name": "stderr",
     "output_type": "stream",
     "text": [
      "100%|██████████| 32/32 [00:29<00:00,  1.09it/s]"
     ]
    },
    {
     "name": "stdout",
     "output_type": "stream",
     "text": [
      "LQ IMAGE SHAPE:  (20, 500, 500)\n",
      "Computing losses\n"
     ]
    },
    {
     "name": "stderr",
     "output_type": "stream",
     "text": [
      "\n"
     ]
    },
    {
     "data": {
      "application/vnd.jupyter.widget-view+json": {
       "model_id": "27cfb63bb6ba484ab39062fc6252cd51",
       "version_major": 2,
       "version_minor": 0
      },
      "text/plain": [
       "HBox(children=(FloatProgress(value=0.0, max=500.0), HTML(value='')))"
      ]
     },
     "metadata": {},
     "output_type": "display_data"
    },
    {
     "name": "stderr",
     "output_type": "stream",
     "text": [
      "2024-04-30 20:54:07,309 INFO: Dataset PairedImageDataset - COMBO is created.\n"
     ]
    },
    {
     "name": "stdout",
     "output_type": "stream",
     "text": [
      "\n",
      "\\input key =  lq\n",
      "\\gt key =  gt\n",
      "\n",
      "INPUT LMDB KEYS =  ['/home/gridsan/tye/NAFNet/datasets/calib_0422_ch4/04/train/input_crops/33_03_s001.pt', '/home/gridsan/tye/NAFNet/datasets/calib_0422_ch4/04/train/input_crops/33_04_s001.pt', '/home/gridsan/tye/NAFNet/datasets/calib_0422_ch4/04/train/input_crops/34_04_s001.pt', '/home/gridsan/tye/NAFNet/datasets/calib_0422_ch4/04/train/input_crops/35_04_s001.pt', '/home/gridsan/tye/NAFNet/datasets/calib_0422_ch4/04/train/input_crops/36_04_s001.pt', '/home/gridsan/tye/NAFNet/datasets/calib_0422_ch4/04/train/input_crops/37_04_s001.pt', '/home/gridsan/tye/NAFNet/datasets/calib_0422_ch4/04/train/input_crops/38_04_s001.pt', '/home/gridsan/tye/NAFNet/datasets/calib_0422_ch4/04/train/input_crops/39_04_s001.pt', '/home/gridsan/tye/NAFNet/datasets/calib_0422_ch4/04/train/input_crops/40_04_s001.pt', '/home/gridsan/tye/NAFNet/datasets/calib_0422_ch4/04/train/input_crops/41_04_s001.pt']\n",
      "\n",
      "GT LMDB KEYS =  ['/home/gridsan/tye/NAFNet/datasets/calib_0422_ch4/04/train/gt_crops/33_03_s001.pt', '/home/gridsan/tye/NAFNet/datasets/calib_0422_ch4/04/train/gt_crops/33_04_s001.pt', '/home/gridsan/tye/NAFNet/datasets/calib_0422_ch4/04/train/gt_crops/34_04_s001.pt', '/home/gridsan/tye/NAFNet/datasets/calib_0422_ch4/04/train/gt_crops/35_04_s001.pt', '/home/gridsan/tye/NAFNet/datasets/calib_0422_ch4/04/train/gt_crops/36_04_s001.pt', '/home/gridsan/tye/NAFNet/datasets/calib_0422_ch4/04/train/gt_crops/37_04_s001.pt', '/home/gridsan/tye/NAFNet/datasets/calib_0422_ch4/04/train/gt_crops/38_04_s001.pt', '/home/gridsan/tye/NAFNet/datasets/calib_0422_ch4/04/train/gt_crops/39_04_s001.pt', '/home/gridsan/tye/NAFNet/datasets/calib_0422_ch4/04/train/gt_crops/40_04_s001.pt', '/home/gridsan/tye/NAFNet/datasets/calib_0422_ch4/04/train/gt_crops/41_04_s001.pt']\n"
     ]
    },
    {
     "name": "stderr",
     "output_type": "stream",
     "text": [
      "\r",
      "  0%|          | 0/32 [00:00<?, ?it/s]"
     ]
    },
    {
     "name": "stdout",
     "output_type": "stream",
     "text": [
      "LQ IMAGE SHAPE:  (20, 500, 500)\n",
      "LQ IMAGE SHAPE:  (20, 500, 500)\n",
      "LQ IMAGE SHAPE:  (20, 500, 500)\n"
     ]
    },
    {
     "name": "stderr",
     "output_type": "stream",
     "text": [
      "\r",
      "  6%|▋         | 2/32 [00:00<00:13,  2.26it/s]"
     ]
    },
    {
     "name": "stdout",
     "output_type": "stream",
     "text": [
      "LQ IMAGE SHAPE:  (20, 500, 500)\n"
     ]
    },
    {
     "name": "stderr",
     "output_type": "stream",
     "text": [
      "\r",
      "  9%|▉         | 3/32 [00:01<00:16,  1.71it/s]"
     ]
    },
    {
     "name": "stdout",
     "output_type": "stream",
     "text": [
      "LQ IMAGE SHAPE:  (20, 500, 500)\n"
     ]
    },
    {
     "name": "stderr",
     "output_type": "stream",
     "text": [
      "\r",
      " 12%|█▎        | 4/32 [00:02<00:18,  1.50it/s]"
     ]
    },
    {
     "name": "stdout",
     "output_type": "stream",
     "text": [
      "LQ IMAGE SHAPE:  (20, 500, 500)\n"
     ]
    },
    {
     "name": "stderr",
     "output_type": "stream",
     "text": [
      "\r",
      " 16%|█▌        | 5/32 [00:03<00:18,  1.44it/s]"
     ]
    },
    {
     "name": "stdout",
     "output_type": "stream",
     "text": [
      "LQ IMAGE SHAPE:  (20, 500, 500)\n"
     ]
    },
    {
     "name": "stderr",
     "output_type": "stream",
     "text": [
      "\r",
      " 19%|█▉        | 6/32 [00:04<00:21,  1.18it/s]"
     ]
    },
    {
     "name": "stdout",
     "output_type": "stream",
     "text": [
      "LQ IMAGE SHAPE:  (20, 500, 500)\n"
     ]
    },
    {
     "name": "stderr",
     "output_type": "stream",
     "text": [
      "\r",
      " 22%|██▏       | 7/32 [00:05<00:21,  1.19it/s]"
     ]
    },
    {
     "name": "stdout",
     "output_type": "stream",
     "text": [
      "LQ IMAGE SHAPE:  (20, 500, 500)\n"
     ]
    },
    {
     "name": "stderr",
     "output_type": "stream",
     "text": [
      "\r",
      " 25%|██▌       | 8/32 [00:06<00:23,  1.01it/s]"
     ]
    },
    {
     "name": "stdout",
     "output_type": "stream",
     "text": [
      "LQ IMAGE SHAPE:  (20, 500, 500)\n"
     ]
    },
    {
     "name": "stderr",
     "output_type": "stream",
     "text": [
      "\r",
      " 28%|██▊       | 9/32 [00:07<00:21,  1.07it/s]"
     ]
    },
    {
     "name": "stdout",
     "output_type": "stream",
     "text": [
      "LQ IMAGE SHAPE:  (20, 500, 500)\n"
     ]
    },
    {
     "name": "stderr",
     "output_type": "stream",
     "text": [
      "\r",
      " 31%|███▏      | 10/32 [00:08<00:19,  1.11it/s]"
     ]
    },
    {
     "name": "stdout",
     "output_type": "stream",
     "text": [
      "LQ IMAGE SHAPE:  (20, 500, 500)\n"
     ]
    },
    {
     "name": "stderr",
     "output_type": "stream",
     "text": [
      "\r",
      " 34%|███▍      | 11/32 [00:09<00:18,  1.12it/s]"
     ]
    },
    {
     "name": "stdout",
     "output_type": "stream",
     "text": [
      "LQ IMAGE SHAPE:  (20, 500, 500)\n"
     ]
    },
    {
     "name": "stderr",
     "output_type": "stream",
     "text": [
      "\r",
      " 38%|███▊      | 12/32 [00:10<00:21,  1.05s/it]"
     ]
    },
    {
     "name": "stdout",
     "output_type": "stream",
     "text": [
      "LQ IMAGE SHAPE:  (20, 500, 500)\n"
     ]
    },
    {
     "name": "stderr",
     "output_type": "stream",
     "text": [
      "\r",
      " 41%|████      | 13/32 [00:12<00:21,  1.15s/it]"
     ]
    },
    {
     "name": "stdout",
     "output_type": "stream",
     "text": [
      "LQ IMAGE SHAPE:  (20, 500, 500)\n"
     ]
    },
    {
     "name": "stderr",
     "output_type": "stream",
     "text": [
      "\r",
      " 44%|████▍     | 14/32 [00:14<00:26,  1.50s/it]"
     ]
    },
    {
     "name": "stdout",
     "output_type": "stream",
     "text": [
      "LQ IMAGE SHAPE:  (20, 500, 500)\n"
     ]
    },
    {
     "name": "stderr",
     "output_type": "stream",
     "text": [
      "\r",
      " 47%|████▋     | 15/32 [00:15<00:21,  1.25s/it]"
     ]
    },
    {
     "name": "stdout",
     "output_type": "stream",
     "text": [
      "LQ IMAGE SHAPE:  (20, 500, 500)\n"
     ]
    },
    {
     "name": "stderr",
     "output_type": "stream",
     "text": [
      "\r",
      " 50%|█████     | 16/32 [00:15<00:17,  1.08s/it]"
     ]
    },
    {
     "name": "stdout",
     "output_type": "stream",
     "text": [
      "LQ IMAGE SHAPE:  (20, 500, 500)\n"
     ]
    },
    {
     "name": "stderr",
     "output_type": "stream",
     "text": [
      "\r",
      " 53%|█████▎    | 17/32 [00:16<00:15,  1.02s/it]"
     ]
    },
    {
     "name": "stdout",
     "output_type": "stream",
     "text": [
      "LQ IMAGE SHAPE:  (20, 500, 500)\n"
     ]
    },
    {
     "name": "stderr",
     "output_type": "stream",
     "text": [
      "\r",
      " 56%|█████▋    | 18/32 [00:17<00:13,  1.05it/s]"
     ]
    },
    {
     "name": "stdout",
     "output_type": "stream",
     "text": [
      "LQ IMAGE SHAPE:  (20, 500, 500)\n"
     ]
    },
    {
     "name": "stderr",
     "output_type": "stream",
     "text": [
      "\r",
      " 59%|█████▉    | 19/32 [00:18<00:11,  1.09it/s]"
     ]
    },
    {
     "name": "stdout",
     "output_type": "stream",
     "text": [
      "LQ IMAGE SHAPE:  (20, 500, 500)\n"
     ]
    },
    {
     "name": "stderr",
     "output_type": "stream",
     "text": [
      "\r",
      " 62%|██████▎   | 20/32 [00:19<00:12,  1.08s/it]"
     ]
    },
    {
     "name": "stdout",
     "output_type": "stream",
     "text": [
      "LQ IMAGE SHAPE:  (20, 500, 500)\n"
     ]
    },
    {
     "name": "stderr",
     "output_type": "stream",
     "text": [
      "\r",
      " 66%|██████▌   | 21/32 [00:20<00:12,  1.12s/it]"
     ]
    },
    {
     "name": "stdout",
     "output_type": "stream",
     "text": [
      "LQ IMAGE SHAPE:  (20, 500, 500)\n"
     ]
    },
    {
     "name": "stderr",
     "output_type": "stream",
     "text": [
      "\r",
      " 69%|██████▉   | 22/32 [00:22<00:12,  1.22s/it]"
     ]
    },
    {
     "name": "stdout",
     "output_type": "stream",
     "text": [
      "LQ IMAGE SHAPE:  (20, 500, 500)\n"
     ]
    },
    {
     "name": "stderr",
     "output_type": "stream",
     "text": [
      "\r",
      " 72%|███████▏  | 23/32 [00:23<00:11,  1.27s/it]"
     ]
    },
    {
     "name": "stdout",
     "output_type": "stream",
     "text": [
      "LQ IMAGE SHAPE:  (20, 500, 500)\n"
     ]
    },
    {
     "name": "stderr",
     "output_type": "stream",
     "text": [
      "\r",
      " 75%|███████▌  | 24/32 [00:24<00:09,  1.21s/it]"
     ]
    },
    {
     "name": "stdout",
     "output_type": "stream",
     "text": [
      "LQ IMAGE SHAPE:  (20, 500, 500)\n"
     ]
    },
    {
     "name": "stderr",
     "output_type": "stream",
     "text": [
      "\r",
      " 78%|███████▊  | 25/32 [00:26<00:08,  1.20s/it]"
     ]
    },
    {
     "name": "stdout",
     "output_type": "stream",
     "text": [
      "LQ IMAGE SHAPE:  (20, 500, 500)\n"
     ]
    },
    {
     "name": "stderr",
     "output_type": "stream",
     "text": [
      "\r",
      " 81%|████████▏ | 26/32 [00:27<00:07,  1.20s/it]"
     ]
    },
    {
     "name": "stdout",
     "output_type": "stream",
     "text": [
      "LQ IMAGE SHAPE:  (20, 500, 500)\n"
     ]
    },
    {
     "name": "stderr",
     "output_type": "stream",
     "text": [
      "\r",
      " 84%|████████▍ | 27/32 [00:27<00:05,  1.06s/it]"
     ]
    },
    {
     "name": "stdout",
     "output_type": "stream",
     "text": [
      "LQ IMAGE SHAPE:  (20, 500, 500)\n"
     ]
    },
    {
     "name": "stderr",
     "output_type": "stream",
     "text": [
      "\r",
      " 88%|████████▊ | 28/32 [00:28<00:03,  1.01it/s]"
     ]
    },
    {
     "name": "stdout",
     "output_type": "stream",
     "text": [
      "LQ IMAGE SHAPE:  (20, 500, 500)\n"
     ]
    },
    {
     "name": "stderr",
     "output_type": "stream",
     "text": [
      "\r",
      " 91%|█████████ | 29/32 [00:29<00:02,  1.10it/s]"
     ]
    },
    {
     "name": "stdout",
     "output_type": "stream",
     "text": [
      "LQ IMAGE SHAPE:  (20, 500, 500)\n"
     ]
    },
    {
     "name": "stderr",
     "output_type": "stream",
     "text": [
      "\r",
      " 94%|█████████▍| 30/32 [00:30<00:01,  1.16it/s]"
     ]
    },
    {
     "name": "stdout",
     "output_type": "stream",
     "text": [
      "LQ IMAGE SHAPE:  (20, 500, 500)\n"
     ]
    },
    {
     "name": "stderr",
     "output_type": "stream",
     "text": [
      "\r",
      " 97%|█████████▋| 31/32 [00:30<00:00,  1.25it/s]"
     ]
    },
    {
     "name": "stdout",
     "output_type": "stream",
     "text": [
      "LQ IMAGE SHAPE:  (20, 500, 500)\n"
     ]
    },
    {
     "name": "stderr",
     "output_type": "stream",
     "text": [
      "100%|██████████| 32/32 [00:31<00:00,  1.01it/s]"
     ]
    },
    {
     "name": "stdout",
     "output_type": "stream",
     "text": [
      "LQ IMAGE SHAPE:  (20, 500, 500)\n",
      "Computing losses\n"
     ]
    },
    {
     "name": "stderr",
     "output_type": "stream",
     "text": [
      "\n"
     ]
    },
    {
     "data": {
      "application/vnd.jupyter.widget-view+json": {
       "model_id": "00b218626c584f15a168206b4080099f",
       "version_major": 2,
       "version_minor": 0
      },
      "text/plain": [
       "HBox(children=(FloatProgress(value=0.0, max=500.0), HTML(value='')))"
      ]
     },
     "metadata": {},
     "output_type": "display_data"
    },
    {
     "name": "stderr",
     "output_type": "stream",
     "text": [
      "2024-04-30 20:54:45,485 INFO: Dataset PairedImageDataset - COMBO is created.\n"
     ]
    },
    {
     "name": "stdout",
     "output_type": "stream",
     "text": [
      "\n",
      "\\input key =  lq\n",
      "\\gt key =  gt\n",
      "\n",
      "INPUT LMDB KEYS =  ['/home/gridsan/tye/NAFNet/datasets/calib_0422_ch4/05/train/input_crops/33_04_s001.pt', '/home/gridsan/tye/NAFNet/datasets/calib_0422_ch4/05/train/input_crops/33_05_s001.pt', '/home/gridsan/tye/NAFNet/datasets/calib_0422_ch4/05/train/input_crops/34_05_s001.pt', '/home/gridsan/tye/NAFNet/datasets/calib_0422_ch4/05/train/input_crops/35_05_s001.pt', '/home/gridsan/tye/NAFNet/datasets/calib_0422_ch4/05/train/input_crops/36_05_s001.pt', '/home/gridsan/tye/NAFNet/datasets/calib_0422_ch4/05/train/input_crops/37_05_s001.pt', '/home/gridsan/tye/NAFNet/datasets/calib_0422_ch4/05/train/input_crops/38_05_s001.pt', '/home/gridsan/tye/NAFNet/datasets/calib_0422_ch4/05/train/input_crops/39_05_s001.pt', '/home/gridsan/tye/NAFNet/datasets/calib_0422_ch4/05/train/input_crops/40_05_s001.pt', '/home/gridsan/tye/NAFNet/datasets/calib_0422_ch4/05/train/input_crops/41_05_s001.pt']\n",
      "\n",
      "GT LMDB KEYS =  ['/home/gridsan/tye/NAFNet/datasets/calib_0422_ch4/05/train/gt_crops/33_04_s001.pt', '/home/gridsan/tye/NAFNet/datasets/calib_0422_ch4/05/train/gt_crops/33_05_s001.pt', '/home/gridsan/tye/NAFNet/datasets/calib_0422_ch4/05/train/gt_crops/34_05_s001.pt', '/home/gridsan/tye/NAFNet/datasets/calib_0422_ch4/05/train/gt_crops/35_05_s001.pt', '/home/gridsan/tye/NAFNet/datasets/calib_0422_ch4/05/train/gt_crops/36_05_s001.pt', '/home/gridsan/tye/NAFNet/datasets/calib_0422_ch4/05/train/gt_crops/37_05_s001.pt', '/home/gridsan/tye/NAFNet/datasets/calib_0422_ch4/05/train/gt_crops/38_05_s001.pt', '/home/gridsan/tye/NAFNet/datasets/calib_0422_ch4/05/train/gt_crops/39_05_s001.pt', '/home/gridsan/tye/NAFNet/datasets/calib_0422_ch4/05/train/gt_crops/40_05_s001.pt', '/home/gridsan/tye/NAFNet/datasets/calib_0422_ch4/05/train/gt_crops/41_05_s001.pt']\n"
     ]
    },
    {
     "name": "stderr",
     "output_type": "stream",
     "text": [
      "\r",
      "  0%|          | 0/32 [00:00<?, ?it/s]"
     ]
    },
    {
     "name": "stdout",
     "output_type": "stream",
     "text": [
      "LQ IMAGE SHAPE:  (20, 500, 500)\n",
      "LQ IMAGE SHAPE:  (20, 500, 500)\n",
      "LQ IMAGE SHAPE:  (20, 500, 500)\n"
     ]
    },
    {
     "name": "stderr",
     "output_type": "stream",
     "text": [
      "\r",
      "  6%|▋         | 2/32 [00:00<00:13,  2.14it/s]"
     ]
    },
    {
     "name": "stdout",
     "output_type": "stream",
     "text": [
      "LQ IMAGE SHAPE:  (20, 500, 500)\n"
     ]
    },
    {
     "name": "stderr",
     "output_type": "stream",
     "text": [
      "\r",
      "  9%|▉         | 3/32 [00:02<00:19,  1.49it/s]"
     ]
    },
    {
     "name": "stdout",
     "output_type": "stream",
     "text": [
      "LQ IMAGE SHAPE:  (20, 500, 500)\n"
     ]
    },
    {
     "name": "stderr",
     "output_type": "stream",
     "text": [
      "\r",
      " 12%|█▎        | 4/32 [00:02<00:17,  1.57it/s]"
     ]
    },
    {
     "name": "stdout",
     "output_type": "stream",
     "text": [
      "LQ IMAGE SHAPE:  (20, 500, 500)\n"
     ]
    },
    {
     "name": "stderr",
     "output_type": "stream",
     "text": [
      "\r",
      " 16%|█▌        | 5/32 [00:03<00:18,  1.46it/s]"
     ]
    },
    {
     "name": "stdout",
     "output_type": "stream",
     "text": [
      "LQ IMAGE SHAPE:  (20, 500, 500)\n"
     ]
    },
    {
     "name": "stderr",
     "output_type": "stream",
     "text": [
      "\r",
      " 19%|█▉        | 6/32 [00:04<00:17,  1.52it/s]"
     ]
    },
    {
     "name": "stdout",
     "output_type": "stream",
     "text": [
      "LQ IMAGE SHAPE:  (20, 500, 500)\n"
     ]
    },
    {
     "name": "stderr",
     "output_type": "stream",
     "text": [
      "\r",
      " 22%|██▏       | 7/32 [00:04<00:15,  1.58it/s]"
     ]
    },
    {
     "name": "stdout",
     "output_type": "stream",
     "text": [
      "LQ IMAGE SHAPE:  (20, 500, 500)\n"
     ]
    },
    {
     "name": "stderr",
     "output_type": "stream",
     "text": [
      "\r",
      " 25%|██▌       | 8/32 [00:05<00:15,  1.52it/s]"
     ]
    },
    {
     "name": "stdout",
     "output_type": "stream",
     "text": [
      "LQ IMAGE SHAPE:  (20, 500, 500)\n"
     ]
    },
    {
     "name": "stderr",
     "output_type": "stream",
     "text": [
      "\r",
      " 28%|██▊       | 9/32 [00:05<00:14,  1.63it/s]"
     ]
    },
    {
     "name": "stdout",
     "output_type": "stream",
     "text": [
      "LQ IMAGE SHAPE:  (20, 500, 500)\n"
     ]
    },
    {
     "name": "stderr",
     "output_type": "stream",
     "text": [
      "\r",
      " 31%|███▏      | 10/32 [00:06<00:14,  1.56it/s]"
     ]
    },
    {
     "name": "stdout",
     "output_type": "stream",
     "text": [
      "LQ IMAGE SHAPE:  (20, 500, 500)\n"
     ]
    },
    {
     "name": "stderr",
     "output_type": "stream",
     "text": [
      "\r",
      " 34%|███▍      | 11/32 [00:07<00:15,  1.39it/s]"
     ]
    },
    {
     "name": "stdout",
     "output_type": "stream",
     "text": [
      "LQ IMAGE SHAPE:  (20, 500, 500)\n"
     ]
    },
    {
     "name": "stderr",
     "output_type": "stream",
     "text": [
      "\r",
      " 38%|███▊      | 12/32 [00:08<00:14,  1.34it/s]"
     ]
    },
    {
     "name": "stdout",
     "output_type": "stream",
     "text": [
      "LQ IMAGE SHAPE:  (20, 500, 500)\n"
     ]
    },
    {
     "name": "stderr",
     "output_type": "stream",
     "text": [
      "\r",
      " 41%|████      | 13/32 [00:09<00:17,  1.08it/s]"
     ]
    },
    {
     "name": "stdout",
     "output_type": "stream",
     "text": [
      "LQ IMAGE SHAPE:  (20, 500, 500)\n"
     ]
    },
    {
     "name": "stderr",
     "output_type": "stream",
     "text": [
      "\r",
      " 44%|████▍     | 14/32 [00:10<00:16,  1.11it/s]"
     ]
    },
    {
     "name": "stdout",
     "output_type": "stream",
     "text": [
      "LQ IMAGE SHAPE:  (20, 500, 500)\n"
     ]
    },
    {
     "name": "stderr",
     "output_type": "stream",
     "text": [
      "\r",
      " 47%|████▋     | 15/32 [00:11<00:14,  1.19it/s]"
     ]
    },
    {
     "name": "stdout",
     "output_type": "stream",
     "text": [
      "LQ IMAGE SHAPE:  (20, 500, 500)\n"
     ]
    },
    {
     "name": "stderr",
     "output_type": "stream",
     "text": [
      "\r",
      " 50%|█████     | 16/32 [00:11<00:12,  1.28it/s]"
     ]
    },
    {
     "name": "stdout",
     "output_type": "stream",
     "text": [
      "LQ IMAGE SHAPE:  (20, 500, 500)\n"
     ]
    },
    {
     "name": "stderr",
     "output_type": "stream",
     "text": [
      "\r",
      " 53%|█████▎    | 17/32 [00:12<00:12,  1.22it/s]"
     ]
    },
    {
     "name": "stdout",
     "output_type": "stream",
     "text": [
      "LQ IMAGE SHAPE:  (20, 500, 500)\n"
     ]
    },
    {
     "name": "stderr",
     "output_type": "stream",
     "text": [
      "\r",
      " 56%|█████▋    | 18/32 [00:13<00:12,  1.16it/s]"
     ]
    },
    {
     "name": "stdout",
     "output_type": "stream",
     "text": [
      "LQ IMAGE SHAPE:  (20, 500, 500)\n"
     ]
    },
    {
     "name": "stderr",
     "output_type": "stream",
     "text": [
      "\r",
      " 59%|█████▉    | 19/32 [00:14<00:11,  1.11it/s]"
     ]
    },
    {
     "name": "stdout",
     "output_type": "stream",
     "text": [
      "LQ IMAGE SHAPE:  (20, 500, 500)\n"
     ]
    },
    {
     "name": "stderr",
     "output_type": "stream",
     "text": [
      "\r",
      " 62%|██████▎   | 20/32 [00:15<00:10,  1.17it/s]"
     ]
    },
    {
     "name": "stdout",
     "output_type": "stream",
     "text": [
      "LQ IMAGE SHAPE:  (20, 500, 500)\n"
     ]
    },
    {
     "name": "stderr",
     "output_type": "stream",
     "text": [
      "\r",
      " 66%|██████▌   | 21/32 [00:16<00:09,  1.14it/s]"
     ]
    },
    {
     "name": "stdout",
     "output_type": "stream",
     "text": [
      "LQ IMAGE SHAPE:  (20, 500, 500)\n"
     ]
    },
    {
     "name": "stderr",
     "output_type": "stream",
     "text": [
      "\r",
      " 69%|██████▉   | 22/32 [00:17<00:09,  1.09it/s]"
     ]
    },
    {
     "name": "stdout",
     "output_type": "stream",
     "text": [
      "LQ IMAGE SHAPE:  (20, 500, 500)\n"
     ]
    },
    {
     "name": "stderr",
     "output_type": "stream",
     "text": [
      "\r",
      " 72%|███████▏  | 23/32 [00:18<00:08,  1.06it/s]"
     ]
    },
    {
     "name": "stdout",
     "output_type": "stream",
     "text": [
      "LQ IMAGE SHAPE:  (20, 500, 500)\n"
     ]
    },
    {
     "name": "stderr",
     "output_type": "stream",
     "text": [
      "\r",
      " 75%|███████▌  | 24/32 [00:19<00:07,  1.12it/s]"
     ]
    },
    {
     "name": "stdout",
     "output_type": "stream",
     "text": [
      "LQ IMAGE SHAPE:  (20, 500, 500)\n"
     ]
    },
    {
     "name": "stderr",
     "output_type": "stream",
     "text": [
      "\r",
      " 78%|███████▊  | 25/32 [00:20<00:06,  1.04it/s]"
     ]
    },
    {
     "name": "stdout",
     "output_type": "stream",
     "text": [
      "LQ IMAGE SHAPE:  (20, 500, 500)\n"
     ]
    },
    {
     "name": "stderr",
     "output_type": "stream",
     "text": [
      "\r",
      " 81%|████████▏ | 26/32 [00:20<00:05,  1.17it/s]"
     ]
    },
    {
     "name": "stdout",
     "output_type": "stream",
     "text": [
      "LQ IMAGE SHAPE:  (20, 500, 500)\n"
     ]
    },
    {
     "name": "stderr",
     "output_type": "stream",
     "text": [
      "\r",
      " 84%|████████▍ | 27/32 [00:22<00:04,  1.04it/s]"
     ]
    },
    {
     "name": "stdout",
     "output_type": "stream",
     "text": [
      "LQ IMAGE SHAPE:  (20, 500, 500)\n"
     ]
    },
    {
     "name": "stderr",
     "output_type": "stream",
     "text": [
      "\r",
      " 88%|████████▊ | 28/32 [00:22<00:03,  1.09it/s]"
     ]
    },
    {
     "name": "stdout",
     "output_type": "stream",
     "text": [
      "LQ IMAGE SHAPE:  (20, 500, 500)\n"
     ]
    },
    {
     "name": "stderr",
     "output_type": "stream",
     "text": [
      "\r",
      " 91%|█████████ | 29/32 [00:23<00:02,  1.03it/s]"
     ]
    },
    {
     "name": "stdout",
     "output_type": "stream",
     "text": [
      "LQ IMAGE SHAPE:  (20, 500, 500)\n"
     ]
    },
    {
     "name": "stderr",
     "output_type": "stream",
     "text": [
      "\r",
      " 94%|█████████▍| 30/32 [00:24<00:01,  1.10it/s]"
     ]
    },
    {
     "name": "stdout",
     "output_type": "stream",
     "text": [
      "LQ IMAGE SHAPE:  (20, 500, 500)\n"
     ]
    },
    {
     "name": "stderr",
     "output_type": "stream",
     "text": [
      "\r",
      " 97%|█████████▋| 31/32 [00:25<00:00,  1.05it/s]"
     ]
    },
    {
     "name": "stdout",
     "output_type": "stream",
     "text": [
      "LQ IMAGE SHAPE:  (20, 500, 500)\n"
     ]
    },
    {
     "name": "stderr",
     "output_type": "stream",
     "text": [
      "100%|██████████| 32/32 [00:26<00:00,  1.20it/s]"
     ]
    },
    {
     "name": "stdout",
     "output_type": "stream",
     "text": [
      "LQ IMAGE SHAPE:  (20, 500, 500)\n",
      "Computing losses\n"
     ]
    },
    {
     "name": "stderr",
     "output_type": "stream",
     "text": [
      "\n"
     ]
    },
    {
     "data": {
      "application/vnd.jupyter.widget-view+json": {
       "model_id": "4ea2d46efe6b4737b658c200b4d46b51",
       "version_major": 2,
       "version_minor": 0
      },
      "text/plain": [
       "HBox(children=(FloatProgress(value=0.0, max=500.0), HTML(value='')))"
      ]
     },
     "metadata": {},
     "output_type": "display_data"
    },
    {
     "name": "stderr",
     "output_type": "stream",
     "text": [
      "2024-04-30 20:55:18,357 INFO: Dataset PairedImageDataset - COMBO is created.\n"
     ]
    },
    {
     "name": "stdout",
     "output_type": "stream",
     "text": [
      "\n",
      "\\input key =  lq\n",
      "\\gt key =  gt\n",
      "\n",
      "INPUT LMDB KEYS =  ['/home/gridsan/tye/NAFNet/datasets/calib_0422_ch4/06/train/input_crops/33_05_s001.pt', '/home/gridsan/tye/NAFNet/datasets/calib_0422_ch4/06/train/input_crops/33_06_s001.pt', '/home/gridsan/tye/NAFNet/datasets/calib_0422_ch4/06/train/input_crops/34_06_s001.pt', '/home/gridsan/tye/NAFNet/datasets/calib_0422_ch4/06/train/input_crops/35_06_s001.pt', '/home/gridsan/tye/NAFNet/datasets/calib_0422_ch4/06/train/input_crops/36_06_s001.pt', '/home/gridsan/tye/NAFNet/datasets/calib_0422_ch4/06/train/input_crops/37_06_s001.pt', '/home/gridsan/tye/NAFNet/datasets/calib_0422_ch4/06/train/input_crops/38_06_s001.pt', '/home/gridsan/tye/NAFNet/datasets/calib_0422_ch4/06/train/input_crops/39_06_s001.pt', '/home/gridsan/tye/NAFNet/datasets/calib_0422_ch4/06/train/input_crops/40_06_s001.pt', '/home/gridsan/tye/NAFNet/datasets/calib_0422_ch4/06/train/input_crops/41_06_s001.pt']\n",
      "\n",
      "GT LMDB KEYS =  ['/home/gridsan/tye/NAFNet/datasets/calib_0422_ch4/06/train/gt_crops/33_05_s001.pt', '/home/gridsan/tye/NAFNet/datasets/calib_0422_ch4/06/train/gt_crops/33_06_s001.pt', '/home/gridsan/tye/NAFNet/datasets/calib_0422_ch4/06/train/gt_crops/34_06_s001.pt', '/home/gridsan/tye/NAFNet/datasets/calib_0422_ch4/06/train/gt_crops/35_06_s001.pt', '/home/gridsan/tye/NAFNet/datasets/calib_0422_ch4/06/train/gt_crops/36_06_s001.pt', '/home/gridsan/tye/NAFNet/datasets/calib_0422_ch4/06/train/gt_crops/37_06_s001.pt', '/home/gridsan/tye/NAFNet/datasets/calib_0422_ch4/06/train/gt_crops/38_06_s001.pt', '/home/gridsan/tye/NAFNet/datasets/calib_0422_ch4/06/train/gt_crops/39_06_s001.pt', '/home/gridsan/tye/NAFNet/datasets/calib_0422_ch4/06/train/gt_crops/40_06_s001.pt', '/home/gridsan/tye/NAFNet/datasets/calib_0422_ch4/06/train/gt_crops/41_06_s001.pt']\n"
     ]
    },
    {
     "name": "stderr",
     "output_type": "stream",
     "text": [
      "\r",
      "  0%|          | 0/32 [00:00<?, ?it/s]"
     ]
    },
    {
     "name": "stdout",
     "output_type": "stream",
     "text": [
      "LQ IMAGE SHAPE:  (20, 500, 500)\n",
      "LQ IMAGE SHAPE:  (20, 500, 500)\n",
      "LQ IMAGE SHAPE:  (20, 500, 500)\n"
     ]
    },
    {
     "name": "stderr",
     "output_type": "stream",
     "text": [
      "\r",
      "  6%|▋         | 2/32 [00:01<00:15,  1.96it/s]"
     ]
    },
    {
     "name": "stdout",
     "output_type": "stream",
     "text": [
      "LQ IMAGE SHAPE:  (20, 500, 500)\n"
     ]
    },
    {
     "name": "stderr",
     "output_type": "stream",
     "text": [
      "\r",
      "  9%|▉         | 3/32 [00:02<00:21,  1.36it/s]"
     ]
    },
    {
     "name": "stdout",
     "output_type": "stream",
     "text": [
      "LQ IMAGE SHAPE:  (20, 500, 500)\n"
     ]
    },
    {
     "name": "stderr",
     "output_type": "stream",
     "text": [
      "\r",
      " 12%|█▎        | 4/32 [00:03<00:21,  1.31it/s]"
     ]
    },
    {
     "name": "stdout",
     "output_type": "stream",
     "text": [
      "LQ IMAGE SHAPE:  (20, 500, 500)\n"
     ]
    },
    {
     "name": "stderr",
     "output_type": "stream",
     "text": [
      "\r",
      " 16%|█▌        | 5/32 [00:03<00:19,  1.40it/s]"
     ]
    },
    {
     "name": "stdout",
     "output_type": "stream",
     "text": [
      "LQ IMAGE SHAPE:  (20, 500, 500)\n"
     ]
    },
    {
     "name": "stderr",
     "output_type": "stream",
     "text": [
      "\r",
      " 19%|█▉        | 6/32 [00:04<00:22,  1.16it/s]"
     ]
    },
    {
     "name": "stdout",
     "output_type": "stream",
     "text": [
      "LQ IMAGE SHAPE:  (20, 500, 500)\n"
     ]
    },
    {
     "name": "stderr",
     "output_type": "stream",
     "text": [
      "\r",
      " 22%|██▏       | 7/32 [00:06<00:26,  1.08s/it]"
     ]
    },
    {
     "name": "stdout",
     "output_type": "stream",
     "text": [
      "LQ IMAGE SHAPE:  (20, 500, 500)\n"
     ]
    },
    {
     "name": "stderr",
     "output_type": "stream",
     "text": [
      "\r",
      " 25%|██▌       | 8/32 [00:07<00:28,  1.19s/it]"
     ]
    },
    {
     "name": "stdout",
     "output_type": "stream",
     "text": [
      "LQ IMAGE SHAPE:  (20, 500, 500)\n"
     ]
    },
    {
     "name": "stderr",
     "output_type": "stream",
     "text": [
      "\r",
      " 28%|██▊       | 9/32 [00:09<00:27,  1.21s/it]"
     ]
    },
    {
     "name": "stdout",
     "output_type": "stream",
     "text": [
      "LQ IMAGE SHAPE:  (20, 500, 500)\n"
     ]
    },
    {
     "name": "stderr",
     "output_type": "stream",
     "text": [
      "\r",
      " 31%|███▏      | 10/32 [00:13<00:43,  2.00s/it]"
     ]
    },
    {
     "name": "stdout",
     "output_type": "stream",
     "text": [
      "LQ IMAGE SHAPE:  (20, 500, 500)\n"
     ]
    },
    {
     "name": "stderr",
     "output_type": "stream",
     "text": [
      "\r",
      " 34%|███▍      | 11/32 [00:13<00:34,  1.64s/it]"
     ]
    },
    {
     "name": "stdout",
     "output_type": "stream",
     "text": [
      "LQ IMAGE SHAPE:  (20, 500, 500)\n"
     ]
    },
    {
     "name": "stderr",
     "output_type": "stream",
     "text": [
      "\r",
      " 38%|███▊      | 12/32 [00:14<00:28,  1.43s/it]"
     ]
    },
    {
     "name": "stdout",
     "output_type": "stream",
     "text": [
      "LQ IMAGE SHAPE:  (20, 500, 500)\n"
     ]
    },
    {
     "name": "stderr",
     "output_type": "stream",
     "text": [
      "\r",
      " 41%|████      | 13/32 [00:15<00:22,  1.21s/it]"
     ]
    },
    {
     "name": "stdout",
     "output_type": "stream",
     "text": [
      "LQ IMAGE SHAPE:  (20, 500, 500)\n"
     ]
    },
    {
     "name": "stderr",
     "output_type": "stream",
     "text": [
      "\r",
      " 44%|████▍     | 14/32 [00:16<00:18,  1.05s/it]"
     ]
    },
    {
     "name": "stdout",
     "output_type": "stream",
     "text": [
      "LQ IMAGE SHAPE:  (20, 500, 500)\n"
     ]
    },
    {
     "name": "stderr",
     "output_type": "stream",
     "text": [
      "\r",
      " 47%|████▋     | 15/32 [00:16<00:15,  1.07it/s]"
     ]
    },
    {
     "name": "stdout",
     "output_type": "stream",
     "text": [
      "LQ IMAGE SHAPE:  (20, 500, 500)\n"
     ]
    },
    {
     "name": "stderr",
     "output_type": "stream",
     "text": [
      "\r",
      " 50%|█████     | 16/32 [00:17<00:14,  1.10it/s]"
     ]
    },
    {
     "name": "stdout",
     "output_type": "stream",
     "text": [
      "LQ IMAGE SHAPE:  (20, 500, 500)\n"
     ]
    },
    {
     "name": "stderr",
     "output_type": "stream",
     "text": [
      "\r",
      " 53%|█████▎    | 17/32 [00:18<00:13,  1.10it/s]"
     ]
    },
    {
     "name": "stdout",
     "output_type": "stream",
     "text": [
      "LQ IMAGE SHAPE:  (20, 500, 500)\n"
     ]
    },
    {
     "name": "stderr",
     "output_type": "stream",
     "text": [
      "\r",
      " 56%|█████▋    | 18/32 [00:19<00:12,  1.15it/s]"
     ]
    },
    {
     "name": "stdout",
     "output_type": "stream",
     "text": [
      "LQ IMAGE SHAPE:  (20, 500, 500)\n"
     ]
    },
    {
     "name": "stderr",
     "output_type": "stream",
     "text": [
      "\r",
      " 59%|█████▉    | 19/32 [00:20<00:11,  1.12it/s]"
     ]
    },
    {
     "name": "stdout",
     "output_type": "stream",
     "text": [
      "LQ IMAGE SHAPE:  (20, 500, 500)\n"
     ]
    },
    {
     "name": "stderr",
     "output_type": "stream",
     "text": [
      "\r",
      " 62%|██████▎   | 20/32 [00:21<00:10,  1.10it/s]"
     ]
    },
    {
     "name": "stdout",
     "output_type": "stream",
     "text": [
      "LQ IMAGE SHAPE:  (20, 500, 500)\n"
     ]
    },
    {
     "name": "stderr",
     "output_type": "stream",
     "text": [
      "\r",
      " 66%|██████▌   | 21/32 [00:22<00:09,  1.13it/s]"
     ]
    },
    {
     "name": "stdout",
     "output_type": "stream",
     "text": [
      "LQ IMAGE SHAPE:  (20, 500, 500)\n"
     ]
    },
    {
     "name": "stderr",
     "output_type": "stream",
     "text": [
      "\r",
      " 69%|██████▉   | 22/32 [00:22<00:08,  1.21it/s]"
     ]
    },
    {
     "name": "stdout",
     "output_type": "stream",
     "text": [
      "LQ IMAGE SHAPE:  (20, 500, 500)\n"
     ]
    },
    {
     "name": "stderr",
     "output_type": "stream",
     "text": [
      "\r",
      " 72%|███████▏  | 23/32 [00:23<00:06,  1.29it/s]"
     ]
    },
    {
     "name": "stdout",
     "output_type": "stream",
     "text": [
      "LQ IMAGE SHAPE:  (20, 500, 500)\n"
     ]
    },
    {
     "name": "stderr",
     "output_type": "stream",
     "text": [
      "\r",
      " 75%|███████▌  | 24/32 [00:24<00:06,  1.24it/s]"
     ]
    },
    {
     "name": "stdout",
     "output_type": "stream",
     "text": [
      "LQ IMAGE SHAPE:  (20, 500, 500)\n"
     ]
    },
    {
     "name": "stderr",
     "output_type": "stream",
     "text": [
      "\r",
      " 78%|███████▊  | 25/32 [00:24<00:05,  1.33it/s]"
     ]
    },
    {
     "name": "stdout",
     "output_type": "stream",
     "text": [
      "LQ IMAGE SHAPE:  (20, 500, 500)\n"
     ]
    },
    {
     "name": "stderr",
     "output_type": "stream",
     "text": [
      "\r",
      " 81%|████████▏ | 26/32 [00:25<00:04,  1.30it/s]"
     ]
    },
    {
     "name": "stdout",
     "output_type": "stream",
     "text": [
      "LQ IMAGE SHAPE:  (20, 500, 500)\n"
     ]
    },
    {
     "name": "stderr",
     "output_type": "stream",
     "text": [
      "\r",
      " 84%|████████▍ | 27/32 [00:26<00:03,  1.33it/s]"
     ]
    },
    {
     "name": "stdout",
     "output_type": "stream",
     "text": [
      "LQ IMAGE SHAPE:  (20, 500, 500)\n"
     ]
    },
    {
     "name": "stderr",
     "output_type": "stream",
     "text": [
      "\r",
      " 88%|████████▊ | 28/32 [00:27<00:02,  1.41it/s]"
     ]
    },
    {
     "name": "stdout",
     "output_type": "stream",
     "text": [
      "LQ IMAGE SHAPE:  (20, 500, 500)\n"
     ]
    },
    {
     "name": "stderr",
     "output_type": "stream",
     "text": [
      "\r",
      " 91%|█████████ | 29/32 [00:28<00:02,  1.23it/s]"
     ]
    },
    {
     "name": "stdout",
     "output_type": "stream",
     "text": [
      "LQ IMAGE SHAPE:  (20, 500, 500)\n"
     ]
    },
    {
     "name": "stderr",
     "output_type": "stream",
     "text": [
      "\r",
      " 94%|█████████▍| 30/32 [00:28<00:01,  1.24it/s]"
     ]
    },
    {
     "name": "stdout",
     "output_type": "stream",
     "text": [
      "LQ IMAGE SHAPE:  (20, 500, 500)\n"
     ]
    },
    {
     "name": "stderr",
     "output_type": "stream",
     "text": [
      "\r",
      " 97%|█████████▋| 31/32 [00:30<00:01,  1.08s/it]"
     ]
    },
    {
     "name": "stdout",
     "output_type": "stream",
     "text": [
      "LQ IMAGE SHAPE:  (20, 500, 500)\n"
     ]
    },
    {
     "name": "stderr",
     "output_type": "stream",
     "text": [
      "100%|██████████| 32/32 [00:31<00:00,  1.01it/s]"
     ]
    },
    {
     "name": "stdout",
     "output_type": "stream",
     "text": [
      "LQ IMAGE SHAPE:  (20, 500, 500)\n",
      "Computing losses\n"
     ]
    },
    {
     "name": "stderr",
     "output_type": "stream",
     "text": [
      "\n"
     ]
    },
    {
     "data": {
      "application/vnd.jupyter.widget-view+json": {
       "model_id": "1c9325d8f01a4e008b6a601eb9c18fa5",
       "version_major": 2,
       "version_minor": 0
      },
      "text/plain": [
       "HBox(children=(FloatProgress(value=0.0, max=500.0), HTML(value='')))"
      ]
     },
     "metadata": {},
     "output_type": "display_data"
    },
    {
     "name": "stderr",
     "output_type": "stream",
     "text": [
      "2024-04-30 20:55:56,310 INFO: Dataset PairedImageDataset - COMBO is created.\n"
     ]
    },
    {
     "name": "stdout",
     "output_type": "stream",
     "text": [
      "\n",
      "\\input key =  lq\n",
      "\\gt key =  gt\n",
      "\n",
      "INPUT LMDB KEYS =  ['/home/gridsan/tye/NAFNet/datasets/calib_0422_ch4/07/train/input_crops/33_06_s001.pt', '/home/gridsan/tye/NAFNet/datasets/calib_0422_ch4/07/train/input_crops/33_07_s001.pt', '/home/gridsan/tye/NAFNet/datasets/calib_0422_ch4/07/train/input_crops/34_07_s001.pt', '/home/gridsan/tye/NAFNet/datasets/calib_0422_ch4/07/train/input_crops/35_07_s001.pt', '/home/gridsan/tye/NAFNet/datasets/calib_0422_ch4/07/train/input_crops/36_07_s001.pt', '/home/gridsan/tye/NAFNet/datasets/calib_0422_ch4/07/train/input_crops/37_07_s001.pt', '/home/gridsan/tye/NAFNet/datasets/calib_0422_ch4/07/train/input_crops/38_07_s001.pt', '/home/gridsan/tye/NAFNet/datasets/calib_0422_ch4/07/train/input_crops/39_07_s001.pt', '/home/gridsan/tye/NAFNet/datasets/calib_0422_ch4/07/train/input_crops/40_07_s001.pt', '/home/gridsan/tye/NAFNet/datasets/calib_0422_ch4/07/train/input_crops/41_07_s001.pt']\n",
      "\n",
      "GT LMDB KEYS =  ['/home/gridsan/tye/NAFNet/datasets/calib_0422_ch4/07/train/gt_crops/33_06_s001.pt', '/home/gridsan/tye/NAFNet/datasets/calib_0422_ch4/07/train/gt_crops/33_07_s001.pt', '/home/gridsan/tye/NAFNet/datasets/calib_0422_ch4/07/train/gt_crops/34_07_s001.pt', '/home/gridsan/tye/NAFNet/datasets/calib_0422_ch4/07/train/gt_crops/35_07_s001.pt', '/home/gridsan/tye/NAFNet/datasets/calib_0422_ch4/07/train/gt_crops/36_07_s001.pt', '/home/gridsan/tye/NAFNet/datasets/calib_0422_ch4/07/train/gt_crops/37_07_s001.pt', '/home/gridsan/tye/NAFNet/datasets/calib_0422_ch4/07/train/gt_crops/38_07_s001.pt', '/home/gridsan/tye/NAFNet/datasets/calib_0422_ch4/07/train/gt_crops/39_07_s001.pt', '/home/gridsan/tye/NAFNet/datasets/calib_0422_ch4/07/train/gt_crops/40_07_s001.pt', '/home/gridsan/tye/NAFNet/datasets/calib_0422_ch4/07/train/gt_crops/41_07_s001.pt']\n"
     ]
    },
    {
     "name": "stderr",
     "output_type": "stream",
     "text": [
      "\r",
      "  0%|          | 0/32 [00:00<?, ?it/s]"
     ]
    },
    {
     "name": "stdout",
     "output_type": "stream",
     "text": [
      "LQ IMAGE SHAPE:  (20, 500, 500)\n",
      "LQ IMAGE SHAPE:  (20, 500, 500)\n",
      "LQ IMAGE SHAPE:  (20, 500, 500)\n"
     ]
    },
    {
     "name": "stderr",
     "output_type": "stream",
     "text": [
      "\r",
      "  6%|▋         | 2/32 [00:00<00:12,  2.44it/s]"
     ]
    },
    {
     "name": "stdout",
     "output_type": "stream",
     "text": [
      "LQ IMAGE SHAPE:  (20, 500, 500)\n"
     ]
    },
    {
     "name": "stderr",
     "output_type": "stream",
     "text": [
      "\r",
      "  9%|▉         | 3/32 [00:01<00:17,  1.64it/s]"
     ]
    },
    {
     "name": "stdout",
     "output_type": "stream",
     "text": [
      "LQ IMAGE SHAPE:  (20, 500, 500)\n"
     ]
    },
    {
     "name": "stderr",
     "output_type": "stream",
     "text": [
      "\r",
      " 12%|█▎        | 4/32 [00:02<00:17,  1.57it/s]"
     ]
    },
    {
     "name": "stdout",
     "output_type": "stream",
     "text": [
      "LQ IMAGE SHAPE:  (20, 500, 500)\n"
     ]
    },
    {
     "name": "stderr",
     "output_type": "stream",
     "text": [
      "\r",
      " 16%|█▌        | 5/32 [00:03<00:20,  1.29it/s]"
     ]
    },
    {
     "name": "stdout",
     "output_type": "stream",
     "text": [
      "LQ IMAGE SHAPE:  (20, 500, 500)\n"
     ]
    },
    {
     "name": "stderr",
     "output_type": "stream",
     "text": [
      "\r",
      " 19%|█▉        | 6/32 [00:04<00:20,  1.25it/s]"
     ]
    },
    {
     "name": "stdout",
     "output_type": "stream",
     "text": [
      "LQ IMAGE SHAPE:  (20, 500, 500)\n"
     ]
    },
    {
     "name": "stderr",
     "output_type": "stream",
     "text": [
      "\r",
      " 22%|██▏       | 7/32 [00:05<00:20,  1.24it/s]"
     ]
    },
    {
     "name": "stdout",
     "output_type": "stream",
     "text": [
      "LQ IMAGE SHAPE:  (20, 500, 500)\n"
     ]
    },
    {
     "name": "stderr",
     "output_type": "stream",
     "text": [
      "\r",
      " 25%|██▌       | 8/32 [00:06<00:21,  1.09it/s]"
     ]
    },
    {
     "name": "stdout",
     "output_type": "stream",
     "text": [
      "LQ IMAGE SHAPE:  (20, 500, 500)\n"
     ]
    },
    {
     "name": "stderr",
     "output_type": "stream",
     "text": [
      "\r",
      " 28%|██▊       | 9/32 [00:07<00:20,  1.10it/s]"
     ]
    },
    {
     "name": "stdout",
     "output_type": "stream",
     "text": [
      "LQ IMAGE SHAPE:  (20, 500, 500)\n"
     ]
    },
    {
     "name": "stderr",
     "output_type": "stream",
     "text": [
      "\r",
      " 31%|███▏      | 10/32 [00:08<00:19,  1.15it/s]"
     ]
    },
    {
     "name": "stdout",
     "output_type": "stream",
     "text": [
      "LQ IMAGE SHAPE:  (20, 500, 500)\n"
     ]
    },
    {
     "name": "stderr",
     "output_type": "stream",
     "text": [
      "\r",
      " 34%|███▍      | 11/32 [00:09<00:17,  1.17it/s]"
     ]
    },
    {
     "name": "stdout",
     "output_type": "stream",
     "text": [
      "LQ IMAGE SHAPE:  (20, 500, 500)\n"
     ]
    },
    {
     "name": "stderr",
     "output_type": "stream",
     "text": [
      "\r",
      " 38%|███▊      | 12/32 [00:09<00:15,  1.27it/s]"
     ]
    },
    {
     "name": "stdout",
     "output_type": "stream",
     "text": [
      "LQ IMAGE SHAPE:  (20, 500, 500)\n"
     ]
    },
    {
     "name": "stderr",
     "output_type": "stream",
     "text": [
      "\r",
      " 41%|████      | 13/32 [00:10<00:14,  1.29it/s]"
     ]
    },
    {
     "name": "stdout",
     "output_type": "stream",
     "text": [
      "LQ IMAGE SHAPE:  (20, 500, 500)\n"
     ]
    },
    {
     "name": "stderr",
     "output_type": "stream",
     "text": [
      "\r",
      " 44%|████▍     | 14/32 [00:11<00:13,  1.33it/s]"
     ]
    },
    {
     "name": "stdout",
     "output_type": "stream",
     "text": [
      "LQ IMAGE SHAPE:  (20, 500, 500)\n"
     ]
    },
    {
     "name": "stderr",
     "output_type": "stream",
     "text": [
      "\r",
      " 47%|████▋     | 15/32 [00:11<00:12,  1.32it/s]"
     ]
    },
    {
     "name": "stdout",
     "output_type": "stream",
     "text": [
      "LQ IMAGE SHAPE:  (20, 500, 500)\n"
     ]
    },
    {
     "name": "stderr",
     "output_type": "stream",
     "text": [
      "\r",
      " 50%|█████     | 16/32 [00:14<00:22,  1.42s/it]"
     ]
    },
    {
     "name": "stdout",
     "output_type": "stream",
     "text": [
      "LQ IMAGE SHAPE:  (20, 500, 500)\n"
     ]
    },
    {
     "name": "stderr",
     "output_type": "stream",
     "text": [
      "\r",
      " 53%|█████▎    | 17/32 [00:16<00:23,  1.53s/it]"
     ]
    },
    {
     "name": "stdout",
     "output_type": "stream",
     "text": [
      "LQ IMAGE SHAPE:  (20, 500, 500)\n"
     ]
    },
    {
     "name": "stderr",
     "output_type": "stream",
     "text": [
      "\r",
      " 56%|█████▋    | 18/32 [00:17<00:18,  1.34s/it]"
     ]
    },
    {
     "name": "stdout",
     "output_type": "stream",
     "text": [
      "LQ IMAGE SHAPE:  (20, 500, 500)\n"
     ]
    },
    {
     "name": "stderr",
     "output_type": "stream",
     "text": [
      "\r",
      " 59%|█████▉    | 19/32 [00:18<00:14,  1.14s/it]"
     ]
    },
    {
     "name": "stdout",
     "output_type": "stream",
     "text": [
      "LQ IMAGE SHAPE:  (20, 500, 500)\n"
     ]
    },
    {
     "name": "stderr",
     "output_type": "stream",
     "text": [
      "\r",
      " 62%|██████▎   | 20/32 [00:19<00:12,  1.05s/it]"
     ]
    },
    {
     "name": "stdout",
     "output_type": "stream",
     "text": [
      "LQ IMAGE SHAPE:  (20, 500, 500)\n"
     ]
    },
    {
     "name": "stderr",
     "output_type": "stream",
     "text": [
      "\r",
      " 66%|██████▌   | 21/32 [00:19<00:10,  1.07it/s]"
     ]
    },
    {
     "name": "stdout",
     "output_type": "stream",
     "text": [
      "LQ IMAGE SHAPE:  (20, 500, 500)\n"
     ]
    },
    {
     "name": "stderr",
     "output_type": "stream",
     "text": [
      "\r",
      " 69%|██████▉   | 22/32 [00:20<00:09,  1.10it/s]"
     ]
    },
    {
     "name": "stdout",
     "output_type": "stream",
     "text": [
      "LQ IMAGE SHAPE:  (20, 500, 500)\n"
     ]
    },
    {
     "name": "stderr",
     "output_type": "stream",
     "text": [
      "\r",
      " 72%|███████▏  | 23/32 [00:21<00:07,  1.17it/s]"
     ]
    },
    {
     "name": "stdout",
     "output_type": "stream",
     "text": [
      "LQ IMAGE SHAPE:  (20, 500, 500)\n"
     ]
    },
    {
     "name": "stderr",
     "output_type": "stream",
     "text": [
      "\r",
      " 75%|███████▌  | 24/32 [00:22<00:07,  1.14it/s]"
     ]
    },
    {
     "name": "stdout",
     "output_type": "stream",
     "text": [
      "LQ IMAGE SHAPE:  (20, 500, 500)\n"
     ]
    },
    {
     "name": "stderr",
     "output_type": "stream",
     "text": [
      "\r",
      " 78%|███████▊  | 25/32 [00:23<00:06,  1.04it/s]"
     ]
    },
    {
     "name": "stdout",
     "output_type": "stream",
     "text": [
      "LQ IMAGE SHAPE:  (20, 500, 500)\n"
     ]
    },
    {
     "name": "stderr",
     "output_type": "stream",
     "text": [
      "\r",
      " 81%|████████▏ | 26/32 [00:24<00:05,  1.14it/s]"
     ]
    },
    {
     "name": "stdout",
     "output_type": "stream",
     "text": [
      "LQ IMAGE SHAPE:  (20, 500, 500)\n"
     ]
    },
    {
     "name": "stderr",
     "output_type": "stream",
     "text": [
      "\r",
      " 84%|████████▍ | 27/32 [00:24<00:04,  1.17it/s]"
     ]
    },
    {
     "name": "stdout",
     "output_type": "stream",
     "text": [
      "LQ IMAGE SHAPE:  (20, 500, 500)\n"
     ]
    },
    {
     "name": "stderr",
     "output_type": "stream",
     "text": [
      "\r",
      " 88%|████████▊ | 28/32 [00:26<00:03,  1.03it/s]"
     ]
    },
    {
     "name": "stdout",
     "output_type": "stream",
     "text": [
      "LQ IMAGE SHAPE:  (20, 500, 500)\n"
     ]
    },
    {
     "name": "stderr",
     "output_type": "stream",
     "text": [
      "\r",
      " 91%|█████████ | 29/32 [00:26<00:02,  1.15it/s]"
     ]
    },
    {
     "name": "stdout",
     "output_type": "stream",
     "text": [
      "LQ IMAGE SHAPE:  (20, 500, 500)\n"
     ]
    },
    {
     "name": "stderr",
     "output_type": "stream",
     "text": [
      "\r",
      " 94%|█████████▍| 30/32 [00:28<00:01,  1.01it/s]"
     ]
    },
    {
     "name": "stdout",
     "output_type": "stream",
     "text": [
      "LQ IMAGE SHAPE:  (20, 500, 500)\n"
     ]
    },
    {
     "name": "stderr",
     "output_type": "stream",
     "text": [
      "\r",
      " 97%|█████████▋| 31/32 [00:28<00:00,  1.07it/s]"
     ]
    },
    {
     "name": "stdout",
     "output_type": "stream",
     "text": [
      "LQ IMAGE SHAPE:  (20, 500, 500)\n"
     ]
    },
    {
     "name": "stderr",
     "output_type": "stream",
     "text": [
      "100%|██████████| 32/32 [00:29<00:00,  1.09it/s]"
     ]
    },
    {
     "name": "stdout",
     "output_type": "stream",
     "text": [
      "LQ IMAGE SHAPE:  (20, 500, 500)\n",
      "Computing losses\n"
     ]
    },
    {
     "name": "stderr",
     "output_type": "stream",
     "text": [
      "\n"
     ]
    },
    {
     "data": {
      "application/vnd.jupyter.widget-view+json": {
       "model_id": "0f2d2438d8d24561bf2e54b344a6ae61",
       "version_major": 2,
       "version_minor": 0
      },
      "text/plain": [
       "HBox(children=(FloatProgress(value=0.0, max=500.0), HTML(value='')))"
      ]
     },
     "metadata": {},
     "output_type": "display_data"
    },
    {
     "name": "stderr",
     "output_type": "stream",
     "text": [
      "2024-04-30 20:56:31,890 INFO: Dataset PairedImageDataset - COMBO is created.\n"
     ]
    },
    {
     "name": "stdout",
     "output_type": "stream",
     "text": [
      "\n",
      "\\input key =  lq\n",
      "\\gt key =  gt\n",
      "\n",
      "INPUT LMDB KEYS =  ['/home/gridsan/tye/NAFNet/datasets/calib_0422_ch4/08/train/input_crops/33_07_s001.pt', '/home/gridsan/tye/NAFNet/datasets/calib_0422_ch4/08/train/input_crops/33_08_s001.pt', '/home/gridsan/tye/NAFNet/datasets/calib_0422_ch4/08/train/input_crops/34_08_s001.pt', '/home/gridsan/tye/NAFNet/datasets/calib_0422_ch4/08/train/input_crops/35_08_s001.pt', '/home/gridsan/tye/NAFNet/datasets/calib_0422_ch4/08/train/input_crops/36_08_s001.pt', '/home/gridsan/tye/NAFNet/datasets/calib_0422_ch4/08/train/input_crops/37_08_s001.pt', '/home/gridsan/tye/NAFNet/datasets/calib_0422_ch4/08/train/input_crops/38_08_s001.pt', '/home/gridsan/tye/NAFNet/datasets/calib_0422_ch4/08/train/input_crops/39_08_s001.pt', '/home/gridsan/tye/NAFNet/datasets/calib_0422_ch4/08/train/input_crops/40_08_s001.pt', '/home/gridsan/tye/NAFNet/datasets/calib_0422_ch4/08/train/input_crops/41_08_s001.pt']\n",
      "\n",
      "GT LMDB KEYS =  ['/home/gridsan/tye/NAFNet/datasets/calib_0422_ch4/08/train/gt_crops/33_07_s001.pt', '/home/gridsan/tye/NAFNet/datasets/calib_0422_ch4/08/train/gt_crops/33_08_s001.pt', '/home/gridsan/tye/NAFNet/datasets/calib_0422_ch4/08/train/gt_crops/34_08_s001.pt', '/home/gridsan/tye/NAFNet/datasets/calib_0422_ch4/08/train/gt_crops/35_08_s001.pt', '/home/gridsan/tye/NAFNet/datasets/calib_0422_ch4/08/train/gt_crops/36_08_s001.pt', '/home/gridsan/tye/NAFNet/datasets/calib_0422_ch4/08/train/gt_crops/37_08_s001.pt', '/home/gridsan/tye/NAFNet/datasets/calib_0422_ch4/08/train/gt_crops/38_08_s001.pt', '/home/gridsan/tye/NAFNet/datasets/calib_0422_ch4/08/train/gt_crops/39_08_s001.pt', '/home/gridsan/tye/NAFNet/datasets/calib_0422_ch4/08/train/gt_crops/40_08_s001.pt', '/home/gridsan/tye/NAFNet/datasets/calib_0422_ch4/08/train/gt_crops/41_08_s001.pt']\n"
     ]
    },
    {
     "name": "stderr",
     "output_type": "stream",
     "text": [
      "\r",
      "  0%|          | 0/32 [00:00<?, ?it/s]"
     ]
    },
    {
     "name": "stdout",
     "output_type": "stream",
     "text": [
      "LQ IMAGE SHAPE:  (20, 500, 500)\n",
      "LQ IMAGE SHAPE:  (20, 500, 500)\n",
      "LQ IMAGE SHAPE:  (20, 500, 500)\n"
     ]
    },
    {
     "name": "stderr",
     "output_type": "stream",
     "text": [
      "\r",
      "  6%|▋         | 2/32 [00:00<00:12,  2.47it/s]"
     ]
    },
    {
     "name": "stdout",
     "output_type": "stream",
     "text": [
      "LQ IMAGE SHAPE:  (20, 500, 500)\n"
     ]
    },
    {
     "name": "stderr",
     "output_type": "stream",
     "text": [
      "\r",
      "  9%|▉         | 3/32 [00:01<00:14,  1.97it/s]"
     ]
    },
    {
     "name": "stdout",
     "output_type": "stream",
     "text": [
      "LQ IMAGE SHAPE:  (20, 500, 500)\n"
     ]
    },
    {
     "name": "stderr",
     "output_type": "stream",
     "text": [
      "\r",
      " 12%|█▎        | 4/32 [00:02<00:15,  1.84it/s]"
     ]
    },
    {
     "name": "stdout",
     "output_type": "stream",
     "text": [
      "LQ IMAGE SHAPE:  (20, 500, 500)\n"
     ]
    },
    {
     "name": "stderr",
     "output_type": "stream",
     "text": [
      "\r",
      " 16%|█▌        | 5/32 [00:03<00:18,  1.42it/s]"
     ]
    },
    {
     "name": "stdout",
     "output_type": "stream",
     "text": [
      "LQ IMAGE SHAPE:  (20, 500, 500)\n"
     ]
    },
    {
     "name": "stderr",
     "output_type": "stream",
     "text": [
      "\r",
      " 19%|█▉        | 6/32 [00:03<00:17,  1.46it/s]"
     ]
    },
    {
     "name": "stdout",
     "output_type": "stream",
     "text": [
      "LQ IMAGE SHAPE:  (20, 500, 500)\n"
     ]
    },
    {
     "name": "stderr",
     "output_type": "stream",
     "text": [
      "\r",
      " 22%|██▏       | 7/32 [00:04<00:17,  1.44it/s]"
     ]
    },
    {
     "name": "stdout",
     "output_type": "stream",
     "text": [
      "LQ IMAGE SHAPE:  (20, 500, 500)\n"
     ]
    },
    {
     "name": "stderr",
     "output_type": "stream",
     "text": [
      "\r",
      " 25%|██▌       | 8/32 [00:05<00:16,  1.44it/s]"
     ]
    },
    {
     "name": "stdout",
     "output_type": "stream",
     "text": [
      "LQ IMAGE SHAPE:  (20, 500, 500)\n"
     ]
    },
    {
     "name": "stderr",
     "output_type": "stream",
     "text": [
      "\r",
      " 28%|██▊       | 9/32 [00:06<00:17,  1.34it/s]"
     ]
    },
    {
     "name": "stdout",
     "output_type": "stream",
     "text": [
      "LQ IMAGE SHAPE:  (20, 500, 500)\n"
     ]
    },
    {
     "name": "stderr",
     "output_type": "stream",
     "text": [
      "\r",
      " 31%|███▏      | 10/32 [00:06<00:16,  1.37it/s]"
     ]
    },
    {
     "name": "stdout",
     "output_type": "stream",
     "text": [
      "LQ IMAGE SHAPE:  (20, 500, 500)\n"
     ]
    },
    {
     "name": "stderr",
     "output_type": "stream",
     "text": [
      "\r",
      " 34%|███▍      | 11/32 [00:08<00:18,  1.16it/s]"
     ]
    },
    {
     "name": "stdout",
     "output_type": "stream",
     "text": [
      "LQ IMAGE SHAPE:  (20, 500, 500)\n"
     ]
    },
    {
     "name": "stderr",
     "output_type": "stream",
     "text": [
      "\r",
      " 38%|███▊      | 12/32 [00:08<00:15,  1.26it/s]"
     ]
    },
    {
     "name": "stdout",
     "output_type": "stream",
     "text": [
      "LQ IMAGE SHAPE:  (20, 500, 500)\n"
     ]
    },
    {
     "name": "stderr",
     "output_type": "stream",
     "text": [
      "\r",
      " 41%|████      | 13/32 [00:09<00:14,  1.30it/s]"
     ]
    },
    {
     "name": "stdout",
     "output_type": "stream",
     "text": [
      "LQ IMAGE SHAPE:  (20, 500, 500)\n"
     ]
    },
    {
     "name": "stderr",
     "output_type": "stream",
     "text": [
      "\r",
      " 44%|████▍     | 14/32 [00:10<00:13,  1.34it/s]"
     ]
    },
    {
     "name": "stdout",
     "output_type": "stream",
     "text": [
      "LQ IMAGE SHAPE:  (20, 500, 500)\n"
     ]
    },
    {
     "name": "stderr",
     "output_type": "stream",
     "text": [
      "\r",
      " 47%|████▋     | 15/32 [00:10<00:12,  1.38it/s]"
     ]
    },
    {
     "name": "stdout",
     "output_type": "stream",
     "text": [
      "LQ IMAGE SHAPE:  (20, 500, 500)\n"
     ]
    },
    {
     "name": "stderr",
     "output_type": "stream",
     "text": [
      "\r",
      " 50%|█████     | 16/32 [00:11<00:13,  1.21it/s]"
     ]
    },
    {
     "name": "stdout",
     "output_type": "stream",
     "text": [
      "LQ IMAGE SHAPE:  (20, 500, 500)\n"
     ]
    },
    {
     "name": "stderr",
     "output_type": "stream",
     "text": [
      "\r",
      " 53%|█████▎    | 17/32 [00:12<00:12,  1.20it/s]"
     ]
    },
    {
     "name": "stdout",
     "output_type": "stream",
     "text": [
      "LQ IMAGE SHAPE:  (20, 500, 500)\n"
     ]
    },
    {
     "name": "stderr",
     "output_type": "stream",
     "text": [
      "\r",
      " 56%|█████▋    | 18/32 [00:13<00:11,  1.23it/s]"
     ]
    },
    {
     "name": "stdout",
     "output_type": "stream",
     "text": [
      "LQ IMAGE SHAPE:  (20, 500, 500)\n"
     ]
    },
    {
     "name": "stderr",
     "output_type": "stream",
     "text": [
      "\r",
      " 59%|█████▉    | 19/32 [00:14<00:10,  1.24it/s]"
     ]
    },
    {
     "name": "stdout",
     "output_type": "stream",
     "text": [
      "LQ IMAGE SHAPE:  (20, 500, 500)\n"
     ]
    },
    {
     "name": "stderr",
     "output_type": "stream",
     "text": [
      "\r",
      " 62%|██████▎   | 20/32 [00:15<00:10,  1.13it/s]"
     ]
    },
    {
     "name": "stdout",
     "output_type": "stream",
     "text": [
      "LQ IMAGE SHAPE:  (20, 500, 500)\n"
     ]
    },
    {
     "name": "stderr",
     "output_type": "stream",
     "text": [
      "\r",
      " 66%|██████▌   | 21/32 [00:16<00:09,  1.19it/s]"
     ]
    },
    {
     "name": "stdout",
     "output_type": "stream",
     "text": [
      "LQ IMAGE SHAPE:  (20, 500, 500)\n"
     ]
    },
    {
     "name": "stderr",
     "output_type": "stream",
     "text": [
      "\r",
      " 69%|██████▉   | 22/32 [00:16<00:07,  1.27it/s]"
     ]
    },
    {
     "name": "stdout",
     "output_type": "stream",
     "text": [
      "LQ IMAGE SHAPE:  (20, 500, 500)\n"
     ]
    },
    {
     "name": "stderr",
     "output_type": "stream",
     "text": [
      "\r",
      " 72%|███████▏  | 23/32 [00:17<00:06,  1.32it/s]"
     ]
    },
    {
     "name": "stdout",
     "output_type": "stream",
     "text": [
      "LQ IMAGE SHAPE:  (20, 500, 500)\n"
     ]
    },
    {
     "name": "stderr",
     "output_type": "stream",
     "text": [
      "\r",
      " 75%|███████▌  | 24/32 [00:18<00:05,  1.37it/s]"
     ]
    },
    {
     "name": "stdout",
     "output_type": "stream",
     "text": [
      "LQ IMAGE SHAPE:  (20, 500, 500)\n"
     ]
    },
    {
     "name": "stderr",
     "output_type": "stream",
     "text": [
      "\r",
      " 78%|███████▊  | 25/32 [00:18<00:05,  1.33it/s]"
     ]
    },
    {
     "name": "stdout",
     "output_type": "stream",
     "text": [
      "LQ IMAGE SHAPE:  (20, 500, 500)\n"
     ]
    },
    {
     "name": "stderr",
     "output_type": "stream",
     "text": [
      "\r",
      " 81%|████████▏ | 26/32 [00:19<00:04,  1.25it/s]"
     ]
    },
    {
     "name": "stdout",
     "output_type": "stream",
     "text": [
      "LQ IMAGE SHAPE:  (20, 500, 500)\n"
     ]
    },
    {
     "name": "stderr",
     "output_type": "stream",
     "text": [
      "\r",
      " 84%|████████▍ | 27/32 [00:20<00:03,  1.31it/s]"
     ]
    },
    {
     "name": "stdout",
     "output_type": "stream",
     "text": [
      "LQ IMAGE SHAPE:  (20, 500, 500)\n"
     ]
    },
    {
     "name": "stderr",
     "output_type": "stream",
     "text": [
      "\r",
      " 88%|████████▊ | 28/32 [00:21<00:03,  1.28it/s]"
     ]
    },
    {
     "name": "stdout",
     "output_type": "stream",
     "text": [
      "LQ IMAGE SHAPE:  (20, 500, 500)\n"
     ]
    },
    {
     "name": "stderr",
     "output_type": "stream",
     "text": [
      "\r",
      " 91%|█████████ | 29/32 [00:22<00:02,  1.23it/s]"
     ]
    },
    {
     "name": "stdout",
     "output_type": "stream",
     "text": [
      "LQ IMAGE SHAPE:  (20, 500, 500)\n"
     ]
    },
    {
     "name": "stderr",
     "output_type": "stream",
     "text": [
      "\r",
      " 94%|█████████▍| 30/32 [00:22<00:01,  1.27it/s]"
     ]
    },
    {
     "name": "stdout",
     "output_type": "stream",
     "text": [
      "LQ IMAGE SHAPE:  (20, 500, 500)\n"
     ]
    },
    {
     "name": "stderr",
     "output_type": "stream",
     "text": [
      "\r",
      " 97%|█████████▋| 31/32 [00:23<00:00,  1.36it/s]"
     ]
    },
    {
     "name": "stdout",
     "output_type": "stream",
     "text": [
      "LQ IMAGE SHAPE:  (20, 500, 500)\n"
     ]
    },
    {
     "name": "stderr",
     "output_type": "stream",
     "text": [
      "100%|██████████| 32/32 [00:24<00:00,  1.31it/s]"
     ]
    },
    {
     "name": "stdout",
     "output_type": "stream",
     "text": [
      "LQ IMAGE SHAPE:  (20, 500, 500)\n",
      "Computing losses\n"
     ]
    },
    {
     "name": "stderr",
     "output_type": "stream",
     "text": [
      "\n"
     ]
    },
    {
     "data": {
      "application/vnd.jupyter.widget-view+json": {
       "model_id": "f899d9240aae462c82b58db816c71ce6",
       "version_major": 2,
       "version_minor": 0
      },
      "text/plain": [
       "HBox(children=(FloatProgress(value=0.0, max=500.0), HTML(value='')))"
      ]
     },
     "metadata": {},
     "output_type": "display_data"
    },
    {
     "name": "stderr",
     "output_type": "stream",
     "text": [
      "2024-04-30 20:57:02,449 INFO: Dataset PairedImageDataset - COMBO is created.\n"
     ]
    },
    {
     "name": "stdout",
     "output_type": "stream",
     "text": [
      "\n",
      "\\input key =  lq\n",
      "\\gt key =  gt\n",
      "\n",
      "INPUT LMDB KEYS =  ['/home/gridsan/tye/NAFNet/datasets/calib_0422_ch4/09/train/input_crops/33_08_s001.pt', '/home/gridsan/tye/NAFNet/datasets/calib_0422_ch4/09/train/input_crops/33_09_s001.pt', '/home/gridsan/tye/NAFNet/datasets/calib_0422_ch4/09/train/input_crops/34_09_s001.pt', '/home/gridsan/tye/NAFNet/datasets/calib_0422_ch4/09/train/input_crops/35_09_s001.pt', '/home/gridsan/tye/NAFNet/datasets/calib_0422_ch4/09/train/input_crops/36_09_s001.pt', '/home/gridsan/tye/NAFNet/datasets/calib_0422_ch4/09/train/input_crops/37_09_s001.pt', '/home/gridsan/tye/NAFNet/datasets/calib_0422_ch4/09/train/input_crops/38_09_s001.pt', '/home/gridsan/tye/NAFNet/datasets/calib_0422_ch4/09/train/input_crops/39_09_s001.pt', '/home/gridsan/tye/NAFNet/datasets/calib_0422_ch4/09/train/input_crops/40_09_s001.pt', '/home/gridsan/tye/NAFNet/datasets/calib_0422_ch4/09/train/input_crops/41_09_s001.pt']\n",
      "\n",
      "GT LMDB KEYS =  ['/home/gridsan/tye/NAFNet/datasets/calib_0422_ch4/09/train/gt_crops/33_08_s001.pt', '/home/gridsan/tye/NAFNet/datasets/calib_0422_ch4/09/train/gt_crops/33_09_s001.pt', '/home/gridsan/tye/NAFNet/datasets/calib_0422_ch4/09/train/gt_crops/34_09_s001.pt', '/home/gridsan/tye/NAFNet/datasets/calib_0422_ch4/09/train/gt_crops/35_09_s001.pt', '/home/gridsan/tye/NAFNet/datasets/calib_0422_ch4/09/train/gt_crops/36_09_s001.pt', '/home/gridsan/tye/NAFNet/datasets/calib_0422_ch4/09/train/gt_crops/37_09_s001.pt', '/home/gridsan/tye/NAFNet/datasets/calib_0422_ch4/09/train/gt_crops/38_09_s001.pt', '/home/gridsan/tye/NAFNet/datasets/calib_0422_ch4/09/train/gt_crops/39_09_s001.pt', '/home/gridsan/tye/NAFNet/datasets/calib_0422_ch4/09/train/gt_crops/40_09_s001.pt', '/home/gridsan/tye/NAFNet/datasets/calib_0422_ch4/09/train/gt_crops/41_09_s001.pt']\n"
     ]
    },
    {
     "name": "stderr",
     "output_type": "stream",
     "text": [
      "\r",
      "  0%|          | 0/32 [00:00<?, ?it/s]"
     ]
    },
    {
     "name": "stdout",
     "output_type": "stream",
     "text": [
      "LQ IMAGE SHAPE:  (20, 500, 500)\n",
      "LQ IMAGE SHAPE:  (20, 500, 500)\n",
      "LQ IMAGE SHAPE:  (20, 500, 500)\n"
     ]
    },
    {
     "name": "stderr",
     "output_type": "stream",
     "text": [
      "\r",
      "  6%|▋         | 2/32 [00:00<00:14,  2.11it/s]"
     ]
    },
    {
     "name": "stdout",
     "output_type": "stream",
     "text": [
      "LQ IMAGE SHAPE:  (20, 500, 500)\n"
     ]
    },
    {
     "name": "stderr",
     "output_type": "stream",
     "text": [
      "\r",
      "  9%|▉         | 3/32 [00:02<00:19,  1.47it/s]"
     ]
    },
    {
     "name": "stdout",
     "output_type": "stream",
     "text": [
      "LQ IMAGE SHAPE:  (20, 500, 500)\n"
     ]
    },
    {
     "name": "stderr",
     "output_type": "stream",
     "text": [
      "\r",
      " 12%|█▎        | 4/32 [00:04<00:34,  1.23s/it]"
     ]
    },
    {
     "name": "stdout",
     "output_type": "stream",
     "text": [
      "LQ IMAGE SHAPE:  (20, 500, 500)\n"
     ]
    },
    {
     "name": "stderr",
     "output_type": "stream",
     "text": [
      "\r",
      " 16%|█▌        | 5/32 [00:05<00:32,  1.19s/it]"
     ]
    },
    {
     "name": "stdout",
     "output_type": "stream",
     "text": [
      "LQ IMAGE SHAPE:  (20, 500, 500)\n"
     ]
    },
    {
     "name": "stderr",
     "output_type": "stream",
     "text": [
      "\r",
      " 19%|█▉        | 6/32 [00:07<00:35,  1.36s/it]"
     ]
    },
    {
     "name": "stdout",
     "output_type": "stream",
     "text": [
      "LQ IMAGE SHAPE:  (20, 500, 500)\n"
     ]
    },
    {
     "name": "stderr",
     "output_type": "stream",
     "text": [
      "\r",
      " 22%|██▏       | 7/32 [00:08<00:29,  1.18s/it]"
     ]
    },
    {
     "name": "stdout",
     "output_type": "stream",
     "text": [
      "LQ IMAGE SHAPE:  (20, 500, 500)\n"
     ]
    },
    {
     "name": "stderr",
     "output_type": "stream",
     "text": [
      "\r",
      " 25%|██▌       | 8/32 [00:08<00:25,  1.04s/it]"
     ]
    },
    {
     "name": "stdout",
     "output_type": "stream",
     "text": [
      "LQ IMAGE SHAPE:  (20, 500, 500)\n"
     ]
    },
    {
     "name": "stderr",
     "output_type": "stream",
     "text": [
      "\r",
      " 28%|██▊       | 9/32 [00:09<00:23,  1.00s/it]"
     ]
    },
    {
     "name": "stdout",
     "output_type": "stream",
     "text": [
      "LQ IMAGE SHAPE:  (20, 500, 500)\n"
     ]
    },
    {
     "name": "stderr",
     "output_type": "stream",
     "text": [
      "\r",
      " 31%|███▏      | 10/32 [00:10<00:19,  1.11it/s]"
     ]
    },
    {
     "name": "stdout",
     "output_type": "stream",
     "text": [
      "LQ IMAGE SHAPE:  (20, 500, 500)\n"
     ]
    },
    {
     "name": "stderr",
     "output_type": "stream",
     "text": [
      "\r",
      " 34%|███▍      | 11/32 [00:11<00:20,  1.03it/s]"
     ]
    },
    {
     "name": "stdout",
     "output_type": "stream",
     "text": [
      "LQ IMAGE SHAPE:  (20, 500, 500)\n"
     ]
    },
    {
     "name": "stderr",
     "output_type": "stream",
     "text": [
      "\r",
      " 38%|███▊      | 12/32 [00:12<00:18,  1.07it/s]"
     ]
    },
    {
     "name": "stdout",
     "output_type": "stream",
     "text": [
      "LQ IMAGE SHAPE:  (20, 500, 500)\n"
     ]
    },
    {
     "name": "stderr",
     "output_type": "stream",
     "text": [
      "\r",
      " 41%|████      | 13/32 [00:13<00:16,  1.14it/s]"
     ]
    },
    {
     "name": "stdout",
     "output_type": "stream",
     "text": [
      "LQ IMAGE SHAPE:  (20, 500, 500)\n"
     ]
    },
    {
     "name": "stderr",
     "output_type": "stream",
     "text": [
      "\r",
      " 44%|████▍     | 14/32 [00:14<00:15,  1.15it/s]"
     ]
    },
    {
     "name": "stdout",
     "output_type": "stream",
     "text": [
      "LQ IMAGE SHAPE:  (20, 500, 500)\n"
     ]
    },
    {
     "name": "stderr",
     "output_type": "stream",
     "text": [
      "\r",
      " 47%|████▋     | 15/32 [00:15<00:15,  1.07it/s]"
     ]
    },
    {
     "name": "stdout",
     "output_type": "stream",
     "text": [
      "LQ IMAGE SHAPE:  (20, 500, 500)\n"
     ]
    },
    {
     "name": "stderr",
     "output_type": "stream",
     "text": [
      "\r",
      " 50%|█████     | 16/32 [00:16<00:16,  1.02s/it]"
     ]
    },
    {
     "name": "stdout",
     "output_type": "stream",
     "text": [
      "LQ IMAGE SHAPE:  (20, 500, 500)\n"
     ]
    },
    {
     "name": "stderr",
     "output_type": "stream",
     "text": [
      "\r",
      " 53%|█████▎    | 17/32 [00:17<00:16,  1.08s/it]"
     ]
    },
    {
     "name": "stdout",
     "output_type": "stream",
     "text": [
      "LQ IMAGE SHAPE:  (20, 500, 500)\n"
     ]
    },
    {
     "name": "stderr",
     "output_type": "stream",
     "text": [
      "\r",
      " 56%|█████▋    | 18/32 [00:18<00:13,  1.02it/s]"
     ]
    },
    {
     "name": "stdout",
     "output_type": "stream",
     "text": [
      "LQ IMAGE SHAPE:  (20, 500, 500)\n"
     ]
    },
    {
     "name": "stderr",
     "output_type": "stream",
     "text": [
      "\r",
      " 59%|█████▉    | 19/32 [00:19<00:12,  1.08it/s]"
     ]
    },
    {
     "name": "stdout",
     "output_type": "stream",
     "text": [
      "LQ IMAGE SHAPE:  (20, 500, 500)\n"
     ]
    },
    {
     "name": "stderr",
     "output_type": "stream",
     "text": [
      "\r",
      " 62%|██████▎   | 20/32 [00:19<00:10,  1.15it/s]"
     ]
    },
    {
     "name": "stdout",
     "output_type": "stream",
     "text": [
      "LQ IMAGE SHAPE:  (20, 500, 500)\n"
     ]
    },
    {
     "name": "stderr",
     "output_type": "stream",
     "text": [
      "\r",
      " 66%|██████▌   | 21/32 [00:20<00:09,  1.10it/s]"
     ]
    },
    {
     "name": "stdout",
     "output_type": "stream",
     "text": [
      "LQ IMAGE SHAPE:  (20, 500, 500)\n"
     ]
    },
    {
     "name": "stderr",
     "output_type": "stream",
     "text": [
      "\r",
      " 69%|██████▉   | 22/32 [00:21<00:08,  1.15it/s]"
     ]
    },
    {
     "name": "stdout",
     "output_type": "stream",
     "text": [
      "LQ IMAGE SHAPE:  (20, 500, 500)\n"
     ]
    },
    {
     "name": "stderr",
     "output_type": "stream",
     "text": [
      "\r",
      " 72%|███████▏  | 23/32 [00:22<00:07,  1.18it/s]"
     ]
    },
    {
     "name": "stdout",
     "output_type": "stream",
     "text": [
      "LQ IMAGE SHAPE:  (20, 500, 500)\n"
     ]
    },
    {
     "name": "stderr",
     "output_type": "stream",
     "text": [
      "\r",
      " 75%|███████▌  | 24/32 [00:23<00:06,  1.24it/s]"
     ]
    },
    {
     "name": "stdout",
     "output_type": "stream",
     "text": [
      "LQ IMAGE SHAPE:  (20, 500, 500)\n"
     ]
    },
    {
     "name": "stderr",
     "output_type": "stream",
     "text": [
      "\r",
      " 78%|███████▊  | 25/32 [00:24<00:06,  1.16it/s]"
     ]
    },
    {
     "name": "stdout",
     "output_type": "stream",
     "text": [
      "LQ IMAGE SHAPE:  (20, 500, 500)\n"
     ]
    },
    {
     "name": "stderr",
     "output_type": "stream",
     "text": [
      "\r",
      " 81%|████████▏ | 26/32 [00:24<00:04,  1.20it/s]"
     ]
    },
    {
     "name": "stdout",
     "output_type": "stream",
     "text": [
      "LQ IMAGE SHAPE:  (20, 500, 500)\n"
     ]
    },
    {
     "name": "stderr",
     "output_type": "stream",
     "text": [
      "\r",
      " 84%|████████▍ | 27/32 [00:25<00:03,  1.25it/s]"
     ]
    },
    {
     "name": "stdout",
     "output_type": "stream",
     "text": [
      "LQ IMAGE SHAPE:  (20, 500, 500)\n"
     ]
    },
    {
     "name": "stderr",
     "output_type": "stream",
     "text": [
      "\r",
      " 88%|████████▊ | 28/32 [00:26<00:03,  1.18it/s]"
     ]
    },
    {
     "name": "stdout",
     "output_type": "stream",
     "text": [
      "LQ IMAGE SHAPE:  (20, 500, 500)\n"
     ]
    },
    {
     "name": "stderr",
     "output_type": "stream",
     "text": [
      "\r",
      " 91%|█████████ | 29/32 [00:27<00:02,  1.14it/s]"
     ]
    },
    {
     "name": "stdout",
     "output_type": "stream",
     "text": [
      "LQ IMAGE SHAPE:  (20, 500, 500)\n"
     ]
    },
    {
     "name": "stderr",
     "output_type": "stream",
     "text": [
      "\r",
      " 94%|█████████▍| 30/32 [00:28<00:01,  1.16it/s]"
     ]
    },
    {
     "name": "stdout",
     "output_type": "stream",
     "text": [
      "LQ IMAGE SHAPE:  (20, 500, 500)\n"
     ]
    },
    {
     "name": "stderr",
     "output_type": "stream",
     "text": [
      "\r",
      " 97%|█████████▋| 31/32 [00:29<00:00,  1.18it/s]"
     ]
    },
    {
     "name": "stdout",
     "output_type": "stream",
     "text": [
      "LQ IMAGE SHAPE:  (20, 500, 500)\n"
     ]
    },
    {
     "name": "stderr",
     "output_type": "stream",
     "text": [
      "100%|██████████| 32/32 [00:30<00:00,  1.05it/s]"
     ]
    },
    {
     "name": "stdout",
     "output_type": "stream",
     "text": [
      "LQ IMAGE SHAPE:  (20, 500, 500)\n",
      "Computing losses\n"
     ]
    },
    {
     "name": "stderr",
     "output_type": "stream",
     "text": [
      "\n"
     ]
    },
    {
     "data": {
      "application/vnd.jupyter.widget-view+json": {
       "model_id": "aa0c4a2b895646499da9da966bbc4df5",
       "version_major": 2,
       "version_minor": 0
      },
      "text/plain": [
       "HBox(children=(FloatProgress(value=0.0, max=500.0), HTML(value='')))"
      ]
     },
     "metadata": {},
     "output_type": "display_data"
    },
    {
     "name": "stderr",
     "output_type": "stream",
     "text": [
      "2024-04-30 20:57:39,093 INFO: Dataset PairedImageDataset - COMBO is created.\n"
     ]
    },
    {
     "name": "stdout",
     "output_type": "stream",
     "text": [
      "\n",
      "\\input key =  lq\n",
      "\\gt key =  gt\n",
      "\n",
      "INPUT LMDB KEYS =  ['/home/gridsan/tye/NAFNet/datasets/calib_0422_ch4/10/train/input_crops/33_09_s001.pt', '/home/gridsan/tye/NAFNet/datasets/calib_0422_ch4/10/train/input_crops/33_10_s001.pt', '/home/gridsan/tye/NAFNet/datasets/calib_0422_ch4/10/train/input_crops/34_10_s001.pt', '/home/gridsan/tye/NAFNet/datasets/calib_0422_ch4/10/train/input_crops/35_10_s001.pt', '/home/gridsan/tye/NAFNet/datasets/calib_0422_ch4/10/train/input_crops/36_10_s001.pt', '/home/gridsan/tye/NAFNet/datasets/calib_0422_ch4/10/train/input_crops/37_10_s001.pt', '/home/gridsan/tye/NAFNet/datasets/calib_0422_ch4/10/train/input_crops/38_10_s001.pt', '/home/gridsan/tye/NAFNet/datasets/calib_0422_ch4/10/train/input_crops/39_10_s001.pt', '/home/gridsan/tye/NAFNet/datasets/calib_0422_ch4/10/train/input_crops/40_10_s001.pt', '/home/gridsan/tye/NAFNet/datasets/calib_0422_ch4/10/train/input_crops/41_10_s001.pt']\n",
      "\n",
      "GT LMDB KEYS =  ['/home/gridsan/tye/NAFNet/datasets/calib_0422_ch4/10/train/gt_crops/33_09_s001.pt', '/home/gridsan/tye/NAFNet/datasets/calib_0422_ch4/10/train/gt_crops/33_10_s001.pt', '/home/gridsan/tye/NAFNet/datasets/calib_0422_ch4/10/train/gt_crops/34_10_s001.pt', '/home/gridsan/tye/NAFNet/datasets/calib_0422_ch4/10/train/gt_crops/35_10_s001.pt', '/home/gridsan/tye/NAFNet/datasets/calib_0422_ch4/10/train/gt_crops/36_10_s001.pt', '/home/gridsan/tye/NAFNet/datasets/calib_0422_ch4/10/train/gt_crops/37_10_s001.pt', '/home/gridsan/tye/NAFNet/datasets/calib_0422_ch4/10/train/gt_crops/38_10_s001.pt', '/home/gridsan/tye/NAFNet/datasets/calib_0422_ch4/10/train/gt_crops/39_10_s001.pt', '/home/gridsan/tye/NAFNet/datasets/calib_0422_ch4/10/train/gt_crops/40_10_s001.pt', '/home/gridsan/tye/NAFNet/datasets/calib_0422_ch4/10/train/gt_crops/41_10_s001.pt']\n"
     ]
    },
    {
     "name": "stderr",
     "output_type": "stream",
     "text": [
      "\r",
      "  0%|          | 0/32 [00:00<?, ?it/s]"
     ]
    },
    {
     "name": "stdout",
     "output_type": "stream",
     "text": [
      "LQ IMAGE SHAPE:  (20, 500, 500)\n",
      "LQ IMAGE SHAPE:  (20, 500, 500)\n",
      "LQ IMAGE SHAPE:  (20, 500, 500)\n"
     ]
    },
    {
     "name": "stderr",
     "output_type": "stream",
     "text": [
      "\r",
      "  6%|▋         | 2/32 [00:00<00:12,  2.32it/s]"
     ]
    },
    {
     "name": "stdout",
     "output_type": "stream",
     "text": [
      "LQ IMAGE SHAPE:  (20, 500, 500)\n"
     ]
    },
    {
     "name": "stderr",
     "output_type": "stream",
     "text": [
      "\r",
      "  9%|▉         | 3/32 [00:01<00:16,  1.75it/s]"
     ]
    },
    {
     "name": "stdout",
     "output_type": "stream",
     "text": [
      "LQ IMAGE SHAPE:  (20, 500, 500)\n"
     ]
    },
    {
     "name": "stderr",
     "output_type": "stream",
     "text": [
      "\r",
      " 12%|█▎        | 4/32 [00:02<00:18,  1.55it/s]"
     ]
    },
    {
     "name": "stdout",
     "output_type": "stream",
     "text": [
      "LQ IMAGE SHAPE:  (20, 500, 500)\n"
     ]
    },
    {
     "name": "stderr",
     "output_type": "stream",
     "text": [
      "\r",
      " 16%|█▌        | 5/32 [00:03<00:19,  1.40it/s]"
     ]
    },
    {
     "name": "stdout",
     "output_type": "stream",
     "text": [
      "LQ IMAGE SHAPE:  (20, 500, 500)\n"
     ]
    },
    {
     "name": "stderr",
     "output_type": "stream",
     "text": [
      "\r",
      " 19%|█▉        | 6/32 [00:04<00:18,  1.38it/s]"
     ]
    },
    {
     "name": "stdout",
     "output_type": "stream",
     "text": [
      "LQ IMAGE SHAPE:  (20, 500, 500)\n"
     ]
    },
    {
     "name": "stderr",
     "output_type": "stream",
     "text": [
      "\r",
      " 22%|██▏       | 7/32 [00:04<00:18,  1.38it/s]"
     ]
    },
    {
     "name": "stdout",
     "output_type": "stream",
     "text": [
      "LQ IMAGE SHAPE:  (20, 500, 500)\n"
     ]
    },
    {
     "name": "stderr",
     "output_type": "stream",
     "text": [
      "\r",
      " 25%|██▌       | 8/32 [00:05<00:17,  1.38it/s]"
     ]
    },
    {
     "name": "stdout",
     "output_type": "stream",
     "text": [
      "LQ IMAGE SHAPE:  (20, 500, 500)\n"
     ]
    },
    {
     "name": "stderr",
     "output_type": "stream",
     "text": [
      "\r",
      " 28%|██▊       | 9/32 [00:06<00:17,  1.33it/s]"
     ]
    },
    {
     "name": "stdout",
     "output_type": "stream",
     "text": [
      "LQ IMAGE SHAPE:  (20, 500, 500)\n"
     ]
    },
    {
     "name": "stderr",
     "output_type": "stream",
     "text": [
      "\r",
      " 31%|███▏      | 10/32 [00:07<00:16,  1.32it/s]"
     ]
    },
    {
     "name": "stdout",
     "output_type": "stream",
     "text": [
      "LQ IMAGE SHAPE:  (20, 500, 500)\n"
     ]
    },
    {
     "name": "stderr",
     "output_type": "stream",
     "text": [
      "\r",
      " 34%|███▍      | 11/32 [00:07<00:15,  1.37it/s]"
     ]
    },
    {
     "name": "stdout",
     "output_type": "stream",
     "text": [
      "LQ IMAGE SHAPE:  (20, 500, 500)\n"
     ]
    },
    {
     "name": "stderr",
     "output_type": "stream",
     "text": [
      "\r",
      " 38%|███▊      | 12/32 [00:08<00:14,  1.34it/s]"
     ]
    },
    {
     "name": "stdout",
     "output_type": "stream",
     "text": [
      "LQ IMAGE SHAPE:  (20, 500, 500)\n"
     ]
    },
    {
     "name": "stderr",
     "output_type": "stream",
     "text": [
      "\r",
      " 41%|████      | 13/32 [00:09<00:14,  1.34it/s]"
     ]
    },
    {
     "name": "stdout",
     "output_type": "stream",
     "text": [
      "LQ IMAGE SHAPE:  (20, 500, 500)\n"
     ]
    },
    {
     "name": "stderr",
     "output_type": "stream",
     "text": [
      "\r",
      " 44%|████▍     | 14/32 [00:10<00:14,  1.22it/s]"
     ]
    },
    {
     "name": "stdout",
     "output_type": "stream",
     "text": [
      "LQ IMAGE SHAPE:  (20, 500, 500)\n"
     ]
    },
    {
     "name": "stderr",
     "output_type": "stream",
     "text": [
      "\r",
      " 47%|████▋     | 15/32 [00:11<00:13,  1.30it/s]"
     ]
    },
    {
     "name": "stdout",
     "output_type": "stream",
     "text": [
      "LQ IMAGE SHAPE:  (20, 500, 500)\n"
     ]
    },
    {
     "name": "stderr",
     "output_type": "stream",
     "text": [
      "\r",
      " 50%|█████     | 16/32 [00:11<00:12,  1.29it/s]"
     ]
    },
    {
     "name": "stdout",
     "output_type": "stream",
     "text": [
      "LQ IMAGE SHAPE:  (20, 500, 500)\n"
     ]
    },
    {
     "name": "stderr",
     "output_type": "stream",
     "text": [
      "\r",
      " 53%|█████▎    | 17/32 [00:12<00:10,  1.42it/s]"
     ]
    },
    {
     "name": "stdout",
     "output_type": "stream",
     "text": [
      "LQ IMAGE SHAPE:  (20, 500, 500)\n"
     ]
    },
    {
     "name": "stderr",
     "output_type": "stream",
     "text": [
      "\r",
      " 56%|█████▋    | 18/32 [00:13<00:12,  1.09it/s]"
     ]
    },
    {
     "name": "stdout",
     "output_type": "stream",
     "text": [
      "LQ IMAGE SHAPE:  (20, 500, 500)\n"
     ]
    },
    {
     "name": "stderr",
     "output_type": "stream",
     "text": [
      "\r",
      " 59%|█████▉    | 19/32 [00:14<00:11,  1.18it/s]"
     ]
    },
    {
     "name": "stdout",
     "output_type": "stream",
     "text": [
      "LQ IMAGE SHAPE:  (20, 500, 500)\n"
     ]
    },
    {
     "name": "stderr",
     "output_type": "stream",
     "text": [
      "\r",
      " 62%|██████▎   | 20/32 [00:15<00:11,  1.06it/s]"
     ]
    },
    {
     "name": "stdout",
     "output_type": "stream",
     "text": [
      "LQ IMAGE SHAPE:  (20, 500, 500)\n"
     ]
    },
    {
     "name": "stderr",
     "output_type": "stream",
     "text": [
      "\r",
      " 66%|██████▌   | 21/32 [00:16<00:10,  1.06it/s]"
     ]
    },
    {
     "name": "stdout",
     "output_type": "stream",
     "text": [
      "LQ IMAGE SHAPE:  (20, 500, 500)\n"
     ]
    },
    {
     "name": "stderr",
     "output_type": "stream",
     "text": [
      "\r",
      " 69%|██████▉   | 22/32 [00:17<00:08,  1.14it/s]"
     ]
    },
    {
     "name": "stdout",
     "output_type": "stream",
     "text": [
      "LQ IMAGE SHAPE:  (20, 500, 500)\n"
     ]
    },
    {
     "name": "stderr",
     "output_type": "stream",
     "text": [
      "\r",
      " 72%|███████▏  | 23/32 [00:17<00:07,  1.24it/s]"
     ]
    },
    {
     "name": "stdout",
     "output_type": "stream",
     "text": [
      "LQ IMAGE SHAPE:  (20, 500, 500)\n"
     ]
    },
    {
     "name": "stderr",
     "output_type": "stream",
     "text": [
      "\r",
      " 75%|███████▌  | 24/32 [00:18<00:06,  1.22it/s]"
     ]
    },
    {
     "name": "stdout",
     "output_type": "stream",
     "text": [
      "LQ IMAGE SHAPE:  (20, 500, 500)\n"
     ]
    },
    {
     "name": "stderr",
     "output_type": "stream",
     "text": [
      "\r",
      " 78%|███████▊  | 25/32 [00:20<00:06,  1.05it/s]"
     ]
    },
    {
     "name": "stdout",
     "output_type": "stream",
     "text": [
      "LQ IMAGE SHAPE:  (20, 500, 500)\n"
     ]
    },
    {
     "name": "stderr",
     "output_type": "stream",
     "text": [
      "\r",
      " 81%|████████▏ | 26/32 [00:20<00:05,  1.13it/s]"
     ]
    },
    {
     "name": "stdout",
     "output_type": "stream",
     "text": [
      "LQ IMAGE SHAPE:  (20, 500, 500)\n"
     ]
    },
    {
     "name": "stderr",
     "output_type": "stream",
     "text": [
      "\r",
      " 84%|████████▍ | 27/32 [00:21<00:04,  1.14it/s]"
     ]
    },
    {
     "name": "stdout",
     "output_type": "stream",
     "text": [
      "LQ IMAGE SHAPE:  (20, 500, 500)\n"
     ]
    },
    {
     "name": "stderr",
     "output_type": "stream",
     "text": [
      "\r",
      " 88%|████████▊ | 28/32 [00:22<00:03,  1.24it/s]"
     ]
    },
    {
     "name": "stdout",
     "output_type": "stream",
     "text": [
      "LQ IMAGE SHAPE:  (20, 500, 500)\n"
     ]
    },
    {
     "name": "stderr",
     "output_type": "stream",
     "text": [
      "\r",
      " 91%|█████████ | 29/32 [00:23<00:02,  1.24it/s]"
     ]
    },
    {
     "name": "stdout",
     "output_type": "stream",
     "text": [
      "LQ IMAGE SHAPE:  (20, 500, 500)\n"
     ]
    },
    {
     "name": "stderr",
     "output_type": "stream",
     "text": [
      "\r",
      " 94%|█████████▍| 30/32 [00:23<00:01,  1.34it/s]"
     ]
    },
    {
     "name": "stdout",
     "output_type": "stream",
     "text": [
      "LQ IMAGE SHAPE:  (20, 500, 500)\n"
     ]
    },
    {
     "name": "stderr",
     "output_type": "stream",
     "text": [
      "\r",
      " 97%|█████████▋| 31/32 [00:24<00:00,  1.24it/s]"
     ]
    },
    {
     "name": "stdout",
     "output_type": "stream",
     "text": [
      "LQ IMAGE SHAPE:  (20, 500, 500)\n"
     ]
    },
    {
     "name": "stderr",
     "output_type": "stream",
     "text": [
      "100%|██████████| 32/32 [00:25<00:00,  1.26it/s]"
     ]
    },
    {
     "name": "stdout",
     "output_type": "stream",
     "text": [
      "LQ IMAGE SHAPE:  (20, 500, 500)\n",
      "Computing losses\n"
     ]
    },
    {
     "name": "stderr",
     "output_type": "stream",
     "text": [
      "\n"
     ]
    },
    {
     "data": {
      "application/vnd.jupyter.widget-view+json": {
       "model_id": "206bf6bd03f849e1b62acf65b4d970c6",
       "version_major": 2,
       "version_minor": 0
      },
      "text/plain": [
       "HBox(children=(FloatProgress(value=0.0, max=500.0), HTML(value='')))"
      ]
     },
     "metadata": {},
     "output_type": "display_data"
    },
    {
     "name": "stderr",
     "output_type": "stream",
     "text": [
      "2024-04-30 20:58:10,666 INFO: Dataset PairedImageDataset - COMBO is created.\n"
     ]
    },
    {
     "name": "stdout",
     "output_type": "stream",
     "text": [
      "\n",
      "\\input key =  lq\n",
      "\\gt key =  gt\n",
      "\n",
      "INPUT LMDB KEYS =  ['/home/gridsan/tye/NAFNet/datasets/calib_0422_ch4/11/train/input_crops/33_10_s001.pt', '/home/gridsan/tye/NAFNet/datasets/calib_0422_ch4/11/train/input_crops/33_11_s001.pt', '/home/gridsan/tye/NAFNet/datasets/calib_0422_ch4/11/train/input_crops/34_11_s001.pt', '/home/gridsan/tye/NAFNet/datasets/calib_0422_ch4/11/train/input_crops/35_11_s001.pt', '/home/gridsan/tye/NAFNet/datasets/calib_0422_ch4/11/train/input_crops/36_11_s001.pt', '/home/gridsan/tye/NAFNet/datasets/calib_0422_ch4/11/train/input_crops/37_11_s001.pt', '/home/gridsan/tye/NAFNet/datasets/calib_0422_ch4/11/train/input_crops/38_11_s001.pt', '/home/gridsan/tye/NAFNet/datasets/calib_0422_ch4/11/train/input_crops/39_11_s001.pt', '/home/gridsan/tye/NAFNet/datasets/calib_0422_ch4/11/train/input_crops/40_11_s001.pt', '/home/gridsan/tye/NAFNet/datasets/calib_0422_ch4/11/train/input_crops/41_11_s001.pt']\n",
      "\n",
      "GT LMDB KEYS =  ['/home/gridsan/tye/NAFNet/datasets/calib_0422_ch4/11/train/gt_crops/33_10_s001.pt', '/home/gridsan/tye/NAFNet/datasets/calib_0422_ch4/11/train/gt_crops/33_11_s001.pt', '/home/gridsan/tye/NAFNet/datasets/calib_0422_ch4/11/train/gt_crops/34_11_s001.pt', '/home/gridsan/tye/NAFNet/datasets/calib_0422_ch4/11/train/gt_crops/35_11_s001.pt', '/home/gridsan/tye/NAFNet/datasets/calib_0422_ch4/11/train/gt_crops/36_11_s001.pt', '/home/gridsan/tye/NAFNet/datasets/calib_0422_ch4/11/train/gt_crops/37_11_s001.pt', '/home/gridsan/tye/NAFNet/datasets/calib_0422_ch4/11/train/gt_crops/38_11_s001.pt', '/home/gridsan/tye/NAFNet/datasets/calib_0422_ch4/11/train/gt_crops/39_11_s001.pt', '/home/gridsan/tye/NAFNet/datasets/calib_0422_ch4/11/train/gt_crops/40_11_s001.pt', '/home/gridsan/tye/NAFNet/datasets/calib_0422_ch4/11/train/gt_crops/41_11_s001.pt']\n"
     ]
    },
    {
     "name": "stderr",
     "output_type": "stream",
     "text": [
      "\r",
      "  0%|          | 0/32 [00:00<?, ?it/s]"
     ]
    },
    {
     "name": "stdout",
     "output_type": "stream",
     "text": [
      "LQ IMAGE SHAPE:  (20, 500, 500)\n",
      "LQ IMAGE SHAPE:  (20, 500, 500)\n",
      "LQ IMAGE SHAPE:  (20, 500, 500)\n"
     ]
    },
    {
     "name": "stderr",
     "output_type": "stream",
     "text": [
      "\r",
      "  6%|▋         | 2/32 [00:00<00:11,  2.52it/s]"
     ]
    },
    {
     "name": "stdout",
     "output_type": "stream",
     "text": [
      "LQ IMAGE SHAPE:  (20, 500, 500)\n"
     ]
    },
    {
     "name": "stderr",
     "output_type": "stream",
     "text": [
      "\r",
      "  9%|▉         | 3/32 [00:02<00:22,  1.27it/s]"
     ]
    },
    {
     "name": "stdout",
     "output_type": "stream",
     "text": [
      "LQ IMAGE SHAPE:  (20, 500, 500)\n"
     ]
    },
    {
     "name": "stderr",
     "output_type": "stream",
     "text": [
      "\r",
      " 12%|█▎        | 4/32 [00:03<00:24,  1.16it/s]"
     ]
    },
    {
     "name": "stdout",
     "output_type": "stream",
     "text": [
      "LQ IMAGE SHAPE:  (20, 500, 500)\n"
     ]
    },
    {
     "name": "stderr",
     "output_type": "stream",
     "text": [
      "\r",
      " 16%|█▌        | 5/32 [00:04<00:22,  1.18it/s]"
     ]
    },
    {
     "name": "stdout",
     "output_type": "stream",
     "text": [
      "LQ IMAGE SHAPE:  (20, 500, 500)\n"
     ]
    },
    {
     "name": "stderr",
     "output_type": "stream",
     "text": [
      "\r",
      " 19%|█▉        | 6/32 [00:05<00:21,  1.18it/s]"
     ]
    },
    {
     "name": "stdout",
     "output_type": "stream",
     "text": [
      "LQ IMAGE SHAPE:  (20, 500, 500)\n"
     ]
    },
    {
     "name": "stderr",
     "output_type": "stream",
     "text": [
      "\r",
      " 22%|██▏       | 7/32 [00:06<00:21,  1.14it/s]"
     ]
    },
    {
     "name": "stdout",
     "output_type": "stream",
     "text": [
      "LQ IMAGE SHAPE:  (20, 500, 500)\n"
     ]
    },
    {
     "name": "stderr",
     "output_type": "stream",
     "text": [
      "\r",
      " 25%|██▌       | 8/32 [00:06<00:20,  1.19it/s]"
     ]
    },
    {
     "name": "stdout",
     "output_type": "stream",
     "text": [
      "LQ IMAGE SHAPE:  (20, 500, 500)\n"
     ]
    },
    {
     "name": "stderr",
     "output_type": "stream",
     "text": [
      "\r",
      " 28%|██▊       | 9/32 [00:09<00:28,  1.23s/it]"
     ]
    },
    {
     "name": "stdout",
     "output_type": "stream",
     "text": [
      "LQ IMAGE SHAPE:  (20, 500, 500)\n"
     ]
    },
    {
     "name": "stderr",
     "output_type": "stream",
     "text": [
      "\r",
      " 31%|███▏      | 10/32 [00:09<00:23,  1.08s/it]"
     ]
    },
    {
     "name": "stdout",
     "output_type": "stream",
     "text": [
      "LQ IMAGE SHAPE:  (20, 500, 500)\n"
     ]
    },
    {
     "name": "stderr",
     "output_type": "stream",
     "text": [
      "\r",
      " 34%|███▍      | 11/32 [00:10<00:20,  1.02it/s]"
     ]
    },
    {
     "name": "stdout",
     "output_type": "stream",
     "text": [
      "LQ IMAGE SHAPE:  (20, 500, 500)\n"
     ]
    },
    {
     "name": "stderr",
     "output_type": "stream",
     "text": [
      "\r",
      " 38%|███▊      | 12/32 [00:11<00:18,  1.10it/s]"
     ]
    },
    {
     "name": "stdout",
     "output_type": "stream",
     "text": [
      "LQ IMAGE SHAPE:  (20, 500, 500)\n"
     ]
    },
    {
     "name": "stderr",
     "output_type": "stream",
     "text": [
      "\r",
      " 41%|████      | 13/32 [00:12<00:16,  1.13it/s]"
     ]
    },
    {
     "name": "stdout",
     "output_type": "stream",
     "text": [
      "LQ IMAGE SHAPE:  (20, 500, 500)\n"
     ]
    },
    {
     "name": "stderr",
     "output_type": "stream",
     "text": [
      "\r",
      " 44%|████▍     | 14/32 [00:12<00:15,  1.19it/s]"
     ]
    },
    {
     "name": "stdout",
     "output_type": "stream",
     "text": [
      "LQ IMAGE SHAPE:  (20, 500, 500)\n"
     ]
    },
    {
     "name": "stderr",
     "output_type": "stream",
     "text": [
      "\r",
      " 47%|████▋     | 15/32 [00:13<00:14,  1.16it/s]"
     ]
    },
    {
     "name": "stdout",
     "output_type": "stream",
     "text": [
      "LQ IMAGE SHAPE:  (20, 500, 500)\n"
     ]
    },
    {
     "name": "stderr",
     "output_type": "stream",
     "text": [
      "\r",
      " 50%|█████     | 16/32 [00:14<00:12,  1.23it/s]"
     ]
    },
    {
     "name": "stdout",
     "output_type": "stream",
     "text": [
      "LQ IMAGE SHAPE:  (20, 500, 500)\n"
     ]
    },
    {
     "name": "stderr",
     "output_type": "stream",
     "text": [
      "\r",
      " 53%|█████▎    | 17/32 [00:15<00:12,  1.18it/s]"
     ]
    },
    {
     "name": "stdout",
     "output_type": "stream",
     "text": [
      "LQ IMAGE SHAPE:  (20, 500, 500)\n"
     ]
    },
    {
     "name": "stderr",
     "output_type": "stream",
     "text": [
      "\r",
      " 56%|█████▋    | 18/32 [00:16<00:12,  1.13it/s]"
     ]
    },
    {
     "name": "stdout",
     "output_type": "stream",
     "text": [
      "LQ IMAGE SHAPE:  (20, 500, 500)\n"
     ]
    },
    {
     "name": "stderr",
     "output_type": "stream",
     "text": [
      "\r",
      " 59%|█████▉    | 19/32 [00:17<00:10,  1.21it/s]"
     ]
    },
    {
     "name": "stdout",
     "output_type": "stream",
     "text": [
      "LQ IMAGE SHAPE:  (20, 500, 500)\n"
     ]
    },
    {
     "name": "stderr",
     "output_type": "stream",
     "text": [
      "\r",
      " 62%|██████▎   | 20/32 [00:17<00:09,  1.27it/s]"
     ]
    },
    {
     "name": "stdout",
     "output_type": "stream",
     "text": [
      "LQ IMAGE SHAPE:  (20, 500, 500)\n"
     ]
    },
    {
     "name": "stderr",
     "output_type": "stream",
     "text": [
      "\r",
      " 66%|██████▌   | 21/32 [00:18<00:09,  1.22it/s]"
     ]
    },
    {
     "name": "stdout",
     "output_type": "stream",
     "text": [
      "LQ IMAGE SHAPE:  (20, 500, 500)\n"
     ]
    },
    {
     "name": "stderr",
     "output_type": "stream",
     "text": [
      "\r",
      " 69%|██████▉   | 22/32 [00:19<00:08,  1.22it/s]"
     ]
    },
    {
     "name": "stdout",
     "output_type": "stream",
     "text": [
      "LQ IMAGE SHAPE:  (20, 500, 500)\n"
     ]
    },
    {
     "name": "stderr",
     "output_type": "stream",
     "text": [
      "\r",
      " 72%|███████▏  | 23/32 [00:20<00:07,  1.21it/s]"
     ]
    },
    {
     "name": "stdout",
     "output_type": "stream",
     "text": [
      "LQ IMAGE SHAPE:  (20, 500, 500)\n"
     ]
    },
    {
     "name": "stderr",
     "output_type": "stream",
     "text": [
      "\r",
      " 75%|███████▌  | 24/32 [00:20<00:06,  1.30it/s]"
     ]
    },
    {
     "name": "stdout",
     "output_type": "stream",
     "text": [
      "LQ IMAGE SHAPE:  (20, 500, 500)\n"
     ]
    },
    {
     "name": "stderr",
     "output_type": "stream",
     "text": [
      "\r",
      " 78%|███████▊  | 25/32 [00:21<00:05,  1.36it/s]"
     ]
    },
    {
     "name": "stdout",
     "output_type": "stream",
     "text": [
      "LQ IMAGE SHAPE:  (20, 500, 500)\n"
     ]
    },
    {
     "name": "stderr",
     "output_type": "stream",
     "text": [
      "\r",
      " 81%|████████▏ | 26/32 [00:22<00:04,  1.41it/s]"
     ]
    },
    {
     "name": "stdout",
     "output_type": "stream",
     "text": [
      "LQ IMAGE SHAPE:  (20, 500, 500)\n"
     ]
    },
    {
     "name": "stderr",
     "output_type": "stream",
     "text": [
      "\r",
      " 84%|████████▍ | 27/32 [00:23<00:03,  1.30it/s]"
     ]
    },
    {
     "name": "stdout",
     "output_type": "stream",
     "text": [
      "LQ IMAGE SHAPE:  (20, 500, 500)\n"
     ]
    },
    {
     "name": "stderr",
     "output_type": "stream",
     "text": [
      "\r",
      " 88%|████████▊ | 28/32 [00:24<00:03,  1.24it/s]"
     ]
    },
    {
     "name": "stdout",
     "output_type": "stream",
     "text": [
      "LQ IMAGE SHAPE:  (20, 500, 500)\n"
     ]
    },
    {
     "name": "stderr",
     "output_type": "stream",
     "text": [
      "\r",
      " 91%|█████████ | 29/32 [00:24<00:02,  1.25it/s]"
     ]
    },
    {
     "name": "stdout",
     "output_type": "stream",
     "text": [
      "LQ IMAGE SHAPE:  (20, 500, 500)\n"
     ]
    },
    {
     "name": "stderr",
     "output_type": "stream",
     "text": [
      "\r",
      " 94%|█████████▍| 30/32 [00:27<00:02,  1.49s/it]"
     ]
    },
    {
     "name": "stdout",
     "output_type": "stream",
     "text": [
      "LQ IMAGE SHAPE:  (20, 500, 500)\n"
     ]
    },
    {
     "name": "stderr",
     "output_type": "stream",
     "text": [
      "\r",
      " 97%|█████████▋| 31/32 [00:28<00:01,  1.31s/it]"
     ]
    },
    {
     "name": "stdout",
     "output_type": "stream",
     "text": [
      "LQ IMAGE SHAPE:  (20, 500, 500)\n"
     ]
    },
    {
     "name": "stderr",
     "output_type": "stream",
     "text": [
      "100%|██████████| 32/32 [00:29<00:00,  1.08it/s]"
     ]
    },
    {
     "name": "stdout",
     "output_type": "stream",
     "text": [
      "LQ IMAGE SHAPE:  (20, 500, 500)\n",
      "Computing losses\n"
     ]
    },
    {
     "name": "stderr",
     "output_type": "stream",
     "text": [
      "\n"
     ]
    },
    {
     "data": {
      "application/vnd.jupyter.widget-view+json": {
       "model_id": "7e700f3dd6734f06aecd213b9625a95d",
       "version_major": 2,
       "version_minor": 0
      },
      "text/plain": [
       "HBox(children=(FloatProgress(value=0.0, max=500.0), HTML(value='')))"
      ]
     },
     "metadata": {},
     "output_type": "display_data"
    },
    {
     "name": "stderr",
     "output_type": "stream",
     "text": [
      "2024-04-30 20:58:47,128 INFO: Dataset PairedImageDataset - COMBO is created.\n"
     ]
    },
    {
     "name": "stdout",
     "output_type": "stream",
     "text": [
      "\n",
      "\\input key =  lq\n",
      "\\gt key =  gt\n",
      "\n",
      "INPUT LMDB KEYS =  ['/home/gridsan/tye/NAFNet/datasets/calib_0422_ch4/12/train/input_crops/33_11_s001.pt', '/home/gridsan/tye/NAFNet/datasets/calib_0422_ch4/12/train/input_crops/33_12_s001.pt', '/home/gridsan/tye/NAFNet/datasets/calib_0422_ch4/12/train/input_crops/34_12_s001.pt', '/home/gridsan/tye/NAFNet/datasets/calib_0422_ch4/12/train/input_crops/35_12_s001.pt', '/home/gridsan/tye/NAFNet/datasets/calib_0422_ch4/12/train/input_crops/36_12_s001.pt', '/home/gridsan/tye/NAFNet/datasets/calib_0422_ch4/12/train/input_crops/37_12_s001.pt', '/home/gridsan/tye/NAFNet/datasets/calib_0422_ch4/12/train/input_crops/38_12_s001.pt', '/home/gridsan/tye/NAFNet/datasets/calib_0422_ch4/12/train/input_crops/39_12_s001.pt', '/home/gridsan/tye/NAFNet/datasets/calib_0422_ch4/12/train/input_crops/40_12_s001.pt', '/home/gridsan/tye/NAFNet/datasets/calib_0422_ch4/12/train/input_crops/41_12_s001.pt']\n",
      "\n",
      "GT LMDB KEYS =  ['/home/gridsan/tye/NAFNet/datasets/calib_0422_ch4/12/train/gt_crops/33_11_s001.pt', '/home/gridsan/tye/NAFNet/datasets/calib_0422_ch4/12/train/gt_crops/33_12_s001.pt', '/home/gridsan/tye/NAFNet/datasets/calib_0422_ch4/12/train/gt_crops/34_12_s001.pt', '/home/gridsan/tye/NAFNet/datasets/calib_0422_ch4/12/train/gt_crops/35_12_s001.pt', '/home/gridsan/tye/NAFNet/datasets/calib_0422_ch4/12/train/gt_crops/36_12_s001.pt', '/home/gridsan/tye/NAFNet/datasets/calib_0422_ch4/12/train/gt_crops/37_12_s001.pt', '/home/gridsan/tye/NAFNet/datasets/calib_0422_ch4/12/train/gt_crops/38_12_s001.pt', '/home/gridsan/tye/NAFNet/datasets/calib_0422_ch4/12/train/gt_crops/39_12_s001.pt', '/home/gridsan/tye/NAFNet/datasets/calib_0422_ch4/12/train/gt_crops/40_12_s001.pt', '/home/gridsan/tye/NAFNet/datasets/calib_0422_ch4/12/train/gt_crops/41_12_s001.pt']\n"
     ]
    },
    {
     "name": "stderr",
     "output_type": "stream",
     "text": [
      "\r",
      "  0%|          | 0/32 [00:00<?, ?it/s]"
     ]
    },
    {
     "name": "stdout",
     "output_type": "stream",
     "text": [
      "LQ IMAGE SHAPE:  (20, 500, 500)\n",
      "LQ IMAGE SHAPE:  (20, 500, 500)\n",
      "LQ IMAGE SHAPE:  (20, 500, 500)\n"
     ]
    },
    {
     "name": "stderr",
     "output_type": "stream",
     "text": [
      "\r",
      "  6%|▋         | 2/32 [00:01<00:20,  1.48it/s]"
     ]
    },
    {
     "name": "stdout",
     "output_type": "stream",
     "text": [
      "LQ IMAGE SHAPE:  (20, 500, 500)\n"
     ]
    },
    {
     "name": "stderr",
     "output_type": "stream",
     "text": [
      "\r",
      "  9%|▉         | 3/32 [00:02<00:21,  1.36it/s]"
     ]
    },
    {
     "name": "stdout",
     "output_type": "stream",
     "text": [
      "LQ IMAGE SHAPE:  (20, 500, 500)\n"
     ]
    },
    {
     "name": "stderr",
     "output_type": "stream",
     "text": [
      "\r",
      " 12%|█▎        | 4/32 [00:04<00:29,  1.05s/it]"
     ]
    },
    {
     "name": "stdout",
     "output_type": "stream",
     "text": [
      "LQ IMAGE SHAPE:  (20, 500, 500)\n"
     ]
    },
    {
     "name": "stderr",
     "output_type": "stream",
     "text": [
      "\r",
      " 16%|█▌        | 5/32 [00:04<00:27,  1.00s/it]"
     ]
    },
    {
     "name": "stdout",
     "output_type": "stream",
     "text": [
      "LQ IMAGE SHAPE:  (20, 500, 500)\n"
     ]
    },
    {
     "name": "stderr",
     "output_type": "stream",
     "text": [
      "\r",
      " 19%|█▉        | 6/32 [00:05<00:25,  1.01it/s]"
     ]
    },
    {
     "name": "stdout",
     "output_type": "stream",
     "text": [
      "LQ IMAGE SHAPE:  (20, 500, 500)\n"
     ]
    },
    {
     "name": "stderr",
     "output_type": "stream",
     "text": [
      "\r",
      " 22%|██▏       | 7/32 [00:08<00:33,  1.33s/it]"
     ]
    },
    {
     "name": "stdout",
     "output_type": "stream",
     "text": [
      "LQ IMAGE SHAPE:  (20, 500, 500)\n"
     ]
    },
    {
     "name": "stderr",
     "output_type": "stream",
     "text": [
      "\r",
      " 25%|██▌       | 8/32 [00:09<00:32,  1.36s/it]"
     ]
    },
    {
     "name": "stdout",
     "output_type": "stream",
     "text": [
      "LQ IMAGE SHAPE:  (20, 500, 500)\n"
     ]
    },
    {
     "name": "stderr",
     "output_type": "stream",
     "text": [
      "\r",
      " 28%|██▊       | 9/32 [00:10<00:27,  1.19s/it]"
     ]
    },
    {
     "name": "stdout",
     "output_type": "stream",
     "text": [
      "LQ IMAGE SHAPE:  (20, 500, 500)\n"
     ]
    },
    {
     "name": "stderr",
     "output_type": "stream",
     "text": [
      "\r",
      " 31%|███▏      | 10/32 [00:11<00:29,  1.36s/it]"
     ]
    },
    {
     "name": "stdout",
     "output_type": "stream",
     "text": [
      "LQ IMAGE SHAPE:  (20, 500, 500)\n"
     ]
    },
    {
     "name": "stderr",
     "output_type": "stream",
     "text": [
      "\r",
      " 34%|███▍      | 11/32 [00:12<00:24,  1.18s/it]"
     ]
    },
    {
     "name": "stdout",
     "output_type": "stream",
     "text": [
      "LQ IMAGE SHAPE:  (20, 500, 500)\n"
     ]
    },
    {
     "name": "stderr",
     "output_type": "stream",
     "text": [
      "\r",
      " 38%|███▊      | 12/32 [00:13<00:23,  1.20s/it]"
     ]
    },
    {
     "name": "stdout",
     "output_type": "stream",
     "text": [
      "LQ IMAGE SHAPE:  (20, 500, 500)\n"
     ]
    },
    {
     "name": "stderr",
     "output_type": "stream",
     "text": [
      "\r",
      " 41%|████      | 13/32 [00:14<00:21,  1.11s/it]"
     ]
    },
    {
     "name": "stdout",
     "output_type": "stream",
     "text": [
      "LQ IMAGE SHAPE:  (20, 500, 500)\n"
     ]
    },
    {
     "name": "stderr",
     "output_type": "stream",
     "text": [
      "\r",
      " 44%|████▍     | 14/32 [00:15<00:18,  1.02s/it]"
     ]
    },
    {
     "name": "stdout",
     "output_type": "stream",
     "text": [
      "LQ IMAGE SHAPE:  (20, 500, 500)\n"
     ]
    },
    {
     "name": "stderr",
     "output_type": "stream",
     "text": [
      "\r",
      " 47%|████▋     | 15/32 [00:16<00:17,  1.02s/it]"
     ]
    },
    {
     "name": "stdout",
     "output_type": "stream",
     "text": [
      "LQ IMAGE SHAPE:  (20, 500, 500)\n"
     ]
    },
    {
     "name": "stderr",
     "output_type": "stream",
     "text": [
      "\r",
      " 50%|█████     | 16/32 [00:17<00:16,  1.00s/it]"
     ]
    },
    {
     "name": "stdout",
     "output_type": "stream",
     "text": [
      "LQ IMAGE SHAPE:  (20, 500, 500)\n"
     ]
    },
    {
     "name": "stderr",
     "output_type": "stream",
     "text": [
      "\r",
      " 53%|█████▎    | 17/32 [00:18<00:14,  1.02it/s]"
     ]
    },
    {
     "name": "stdout",
     "output_type": "stream",
     "text": [
      "LQ IMAGE SHAPE:  (20, 500, 500)\n"
     ]
    },
    {
     "name": "stderr",
     "output_type": "stream",
     "text": [
      "\r",
      " 56%|█████▋    | 18/32 [00:19<00:14,  1.05s/it]"
     ]
    },
    {
     "name": "stdout",
     "output_type": "stream",
     "text": [
      "LQ IMAGE SHAPE:  (20, 500, 500)\n"
     ]
    },
    {
     "name": "stderr",
     "output_type": "stream",
     "text": [
      "\r",
      " 59%|█████▉    | 19/32 [00:21<00:14,  1.10s/it]"
     ]
    },
    {
     "name": "stdout",
     "output_type": "stream",
     "text": [
      "LQ IMAGE SHAPE:  (20, 500, 500)\n"
     ]
    },
    {
     "name": "stderr",
     "output_type": "stream",
     "text": [
      "\r",
      " 62%|██████▎   | 20/32 [00:21<00:11,  1.01it/s]"
     ]
    },
    {
     "name": "stdout",
     "output_type": "stream",
     "text": [
      "LQ IMAGE SHAPE:  (20, 500, 500)\n"
     ]
    },
    {
     "name": "stderr",
     "output_type": "stream",
     "text": [
      "\r",
      " 66%|██████▌   | 21/32 [00:22<00:10,  1.03it/s]"
     ]
    },
    {
     "name": "stdout",
     "output_type": "stream",
     "text": [
      "LQ IMAGE SHAPE:  (20, 500, 500)\n"
     ]
    },
    {
     "name": "stderr",
     "output_type": "stream",
     "text": [
      "\r",
      " 69%|██████▉   | 22/32 [00:23<00:09,  1.04it/s]"
     ]
    },
    {
     "name": "stdout",
     "output_type": "stream",
     "text": [
      "LQ IMAGE SHAPE:  (20, 500, 500)\n"
     ]
    },
    {
     "name": "stderr",
     "output_type": "stream",
     "text": [
      "\r",
      " 72%|███████▏  | 23/32 [00:24<00:08,  1.09it/s]"
     ]
    },
    {
     "name": "stdout",
     "output_type": "stream",
     "text": [
      "LQ IMAGE SHAPE:  (20, 500, 500)\n"
     ]
    },
    {
     "name": "stderr",
     "output_type": "stream",
     "text": [
      "\r",
      " 75%|███████▌  | 24/32 [00:25<00:07,  1.02it/s]"
     ]
    },
    {
     "name": "stdout",
     "output_type": "stream",
     "text": [
      "LQ IMAGE SHAPE:  (20, 500, 500)\n"
     ]
    },
    {
     "name": "stderr",
     "output_type": "stream",
     "text": [
      "\r",
      " 78%|███████▊  | 25/32 [00:26<00:07,  1.09s/it]"
     ]
    },
    {
     "name": "stdout",
     "output_type": "stream",
     "text": [
      "LQ IMAGE SHAPE:  (20, 500, 500)\n",
      "LQ IMAGE SHAPE:  (20, 500, 500)\n"
     ]
    },
    {
     "name": "stderr",
     "output_type": "stream",
     "text": [
      " 84%|████████▍ | 27/32 [00:29<00:06,  1.26s/it]"
     ]
    },
    {
     "name": "stdout",
     "output_type": "stream",
     "text": [
      "LQ IMAGE SHAPE:  (20, 500, 500)\n"
     ]
    },
    {
     "name": "stderr",
     "output_type": "stream",
     "text": [
      "\r",
      " 88%|████████▊ | 28/32 [00:32<00:06,  1.73s/it]"
     ]
    },
    {
     "name": "stdout",
     "output_type": "stream",
     "text": [
      "LQ IMAGE SHAPE:  (20, 500, 500)\n"
     ]
    },
    {
     "name": "stderr",
     "output_type": "stream",
     "text": [
      "\r",
      " 91%|█████████ | 29/32 [00:33<00:04,  1.54s/it]"
     ]
    },
    {
     "name": "stdout",
     "output_type": "stream",
     "text": [
      "LQ IMAGE SHAPE:  (20, 500, 500)\n"
     ]
    },
    {
     "name": "stderr",
     "output_type": "stream",
     "text": [
      "\r",
      " 94%|█████████▍| 30/32 [00:34<00:02,  1.33s/it]"
     ]
    },
    {
     "name": "stdout",
     "output_type": "stream",
     "text": [
      "LQ IMAGE SHAPE:  (20, 500, 500)\n"
     ]
    },
    {
     "name": "stderr",
     "output_type": "stream",
     "text": [
      "\r",
      " 97%|█████████▋| 31/32 [00:35<00:01,  1.24s/it]"
     ]
    },
    {
     "name": "stdout",
     "output_type": "stream",
     "text": [
      "LQ IMAGE SHAPE:  (20, 500, 500)\n"
     ]
    },
    {
     "name": "stderr",
     "output_type": "stream",
     "text": [
      "100%|██████████| 32/32 [00:36<00:00,  1.14s/it]"
     ]
    },
    {
     "name": "stdout",
     "output_type": "stream",
     "text": [
      "LQ IMAGE SHAPE:  (20, 500, 500)\n",
      "Computing losses\n"
     ]
    },
    {
     "name": "stderr",
     "output_type": "stream",
     "text": [
      "\n"
     ]
    },
    {
     "data": {
      "application/vnd.jupyter.widget-view+json": {
       "model_id": "86ec7c0804f040529ad47c734a29a866",
       "version_major": 2,
       "version_minor": 0
      },
      "text/plain": [
       "HBox(children=(FloatProgress(value=0.0, max=500.0), HTML(value='')))"
      ]
     },
     "metadata": {},
     "output_type": "display_data"
    },
    {
     "name": "stderr",
     "output_type": "stream",
     "text": [
      "2024-04-30 20:59:31,426 INFO: Dataset PairedImageDataset - COMBO is created.\n"
     ]
    },
    {
     "name": "stdout",
     "output_type": "stream",
     "text": [
      "\n",
      "\\input key =  lq\n",
      "\\gt key =  gt\n",
      "\n",
      "INPUT LMDB KEYS =  ['/home/gridsan/tye/NAFNet/datasets/calib_0422_ch4/13/train/input_crops/33_12_s001.pt', '/home/gridsan/tye/NAFNet/datasets/calib_0422_ch4/13/train/input_crops/33_13_s001.pt', '/home/gridsan/tye/NAFNet/datasets/calib_0422_ch4/13/train/input_crops/34_13_s001.pt', '/home/gridsan/tye/NAFNet/datasets/calib_0422_ch4/13/train/input_crops/35_13_s001.pt', '/home/gridsan/tye/NAFNet/datasets/calib_0422_ch4/13/train/input_crops/36_13_s001.pt', '/home/gridsan/tye/NAFNet/datasets/calib_0422_ch4/13/train/input_crops/37_13_s001.pt', '/home/gridsan/tye/NAFNet/datasets/calib_0422_ch4/13/train/input_crops/38_13_s001.pt', '/home/gridsan/tye/NAFNet/datasets/calib_0422_ch4/13/train/input_crops/39_13_s001.pt', '/home/gridsan/tye/NAFNet/datasets/calib_0422_ch4/13/train/input_crops/40_13_s001.pt', '/home/gridsan/tye/NAFNet/datasets/calib_0422_ch4/13/train/input_crops/41_13_s001.pt']\n",
      "\n",
      "GT LMDB KEYS =  ['/home/gridsan/tye/NAFNet/datasets/calib_0422_ch4/13/train/gt_crops/33_12_s001.pt', '/home/gridsan/tye/NAFNet/datasets/calib_0422_ch4/13/train/gt_crops/33_13_s001.pt', '/home/gridsan/tye/NAFNet/datasets/calib_0422_ch4/13/train/gt_crops/34_13_s001.pt', '/home/gridsan/tye/NAFNet/datasets/calib_0422_ch4/13/train/gt_crops/35_13_s001.pt', '/home/gridsan/tye/NAFNet/datasets/calib_0422_ch4/13/train/gt_crops/36_13_s001.pt', '/home/gridsan/tye/NAFNet/datasets/calib_0422_ch4/13/train/gt_crops/37_13_s001.pt', '/home/gridsan/tye/NAFNet/datasets/calib_0422_ch4/13/train/gt_crops/38_13_s001.pt', '/home/gridsan/tye/NAFNet/datasets/calib_0422_ch4/13/train/gt_crops/39_13_s001.pt', '/home/gridsan/tye/NAFNet/datasets/calib_0422_ch4/13/train/gt_crops/40_13_s001.pt', '/home/gridsan/tye/NAFNet/datasets/calib_0422_ch4/13/train/gt_crops/41_13_s001.pt']\n"
     ]
    },
    {
     "name": "stderr",
     "output_type": "stream",
     "text": [
      "\r",
      "  0%|          | 0/32 [00:00<?, ?it/s]"
     ]
    },
    {
     "name": "stdout",
     "output_type": "stream",
     "text": [
      "LQ IMAGE SHAPE:  (20, 500, 500)\n",
      "LQ IMAGE SHAPE:  (20, 500, 500)\n",
      "LQ IMAGE SHAPE:  (20, 500, 500)\n"
     ]
    },
    {
     "name": "stderr",
     "output_type": "stream",
     "text": [
      "\r",
      "  6%|▋         | 2/32 [00:00<00:12,  2.31it/s]"
     ]
    },
    {
     "name": "stdout",
     "output_type": "stream",
     "text": [
      "LQ IMAGE SHAPE:  (20, 500, 500)\n"
     ]
    },
    {
     "name": "stderr",
     "output_type": "stream",
     "text": [
      "\r",
      "  9%|▉         | 3/32 [00:01<00:15,  1.87it/s]"
     ]
    },
    {
     "name": "stdout",
     "output_type": "stream",
     "text": [
      "LQ IMAGE SHAPE:  (20, 500, 500)\n"
     ]
    },
    {
     "name": "stderr",
     "output_type": "stream",
     "text": [
      "\r",
      " 12%|█▎        | 4/32 [00:02<00:17,  1.62it/s]"
     ]
    },
    {
     "name": "stdout",
     "output_type": "stream",
     "text": [
      "LQ IMAGE SHAPE:  (20, 500, 500)\n"
     ]
    },
    {
     "name": "stderr",
     "output_type": "stream",
     "text": [
      "\r",
      " 16%|█▌        | 5/32 [00:03<00:20,  1.34it/s]"
     ]
    },
    {
     "name": "stdout",
     "output_type": "stream",
     "text": [
      "LQ IMAGE SHAPE:  (20, 500, 500)\n"
     ]
    },
    {
     "name": "stderr",
     "output_type": "stream",
     "text": [
      "\r",
      " 19%|█▉        | 6/32 [00:04<00:21,  1.24it/s]"
     ]
    },
    {
     "name": "stdout",
     "output_type": "stream",
     "text": [
      "LQ IMAGE SHAPE:  (20, 500, 500)\n"
     ]
    },
    {
     "name": "stderr",
     "output_type": "stream",
     "text": [
      "\r",
      " 22%|██▏       | 7/32 [00:05<00:20,  1.23it/s]"
     ]
    },
    {
     "name": "stdout",
     "output_type": "stream",
     "text": [
      "LQ IMAGE SHAPE:  (20, 500, 500)\n"
     ]
    },
    {
     "name": "stderr",
     "output_type": "stream",
     "text": [
      "\r",
      " 25%|██▌       | 8/32 [00:06<00:22,  1.07it/s]"
     ]
    },
    {
     "name": "stdout",
     "output_type": "stream",
     "text": [
      "LQ IMAGE SHAPE:  (20, 500, 500)\n"
     ]
    },
    {
     "name": "stderr",
     "output_type": "stream",
     "text": [
      "\r",
      " 28%|██▊       | 9/32 [00:07<00:21,  1.07it/s]"
     ]
    },
    {
     "name": "stdout",
     "output_type": "stream",
     "text": [
      "LQ IMAGE SHAPE:  (20, 500, 500)\n"
     ]
    },
    {
     "name": "stderr",
     "output_type": "stream",
     "text": [
      "\r",
      " 31%|███▏      | 10/32 [00:08<00:22,  1.03s/it]"
     ]
    },
    {
     "name": "stdout",
     "output_type": "stream",
     "text": [
      "LQ IMAGE SHAPE:  (20, 500, 500)\n"
     ]
    },
    {
     "name": "stderr",
     "output_type": "stream",
     "text": [
      "\r",
      " 34%|███▍      | 11/32 [00:09<00:20,  1.03it/s]"
     ]
    },
    {
     "name": "stdout",
     "output_type": "stream",
     "text": [
      "LQ IMAGE SHAPE:  (20, 500, 500)\n"
     ]
    },
    {
     "name": "stderr",
     "output_type": "stream",
     "text": [
      "\r",
      " 38%|███▊      | 12/32 [00:10<00:19,  1.01it/s]"
     ]
    },
    {
     "name": "stdout",
     "output_type": "stream",
     "text": [
      "LQ IMAGE SHAPE:  (20, 500, 500)\n"
     ]
    },
    {
     "name": "stderr",
     "output_type": "stream",
     "text": [
      "\r",
      " 41%|████      | 13/32 [00:11<00:17,  1.08it/s]"
     ]
    },
    {
     "name": "stdout",
     "output_type": "stream",
     "text": [
      "LQ IMAGE SHAPE:  (20, 500, 500)\n"
     ]
    },
    {
     "name": "stderr",
     "output_type": "stream",
     "text": [
      "\r",
      " 44%|████▍     | 14/32 [00:11<00:15,  1.18it/s]"
     ]
    },
    {
     "name": "stdout",
     "output_type": "stream",
     "text": [
      "LQ IMAGE SHAPE:  (20, 500, 500)\n"
     ]
    },
    {
     "name": "stderr",
     "output_type": "stream",
     "text": [
      "\r",
      " 47%|████▋     | 15/32 [00:12<00:13,  1.22it/s]"
     ]
    },
    {
     "name": "stdout",
     "output_type": "stream",
     "text": [
      "LQ IMAGE SHAPE:  (20, 500, 500)\n"
     ]
    },
    {
     "name": "stderr",
     "output_type": "stream",
     "text": [
      "\r",
      " 50%|█████     | 16/32 [00:13<00:12,  1.24it/s]"
     ]
    },
    {
     "name": "stdout",
     "output_type": "stream",
     "text": [
      "LQ IMAGE SHAPE:  (20, 500, 500)\n"
     ]
    },
    {
     "name": "stderr",
     "output_type": "stream",
     "text": [
      "\r",
      " 53%|█████▎    | 17/32 [00:14<00:12,  1.19it/s]"
     ]
    },
    {
     "name": "stdout",
     "output_type": "stream",
     "text": [
      "LQ IMAGE SHAPE:  (20, 500, 500)\n"
     ]
    },
    {
     "name": "stderr",
     "output_type": "stream",
     "text": [
      "\r",
      " 56%|█████▋    | 18/32 [00:15<00:12,  1.08it/s]"
     ]
    },
    {
     "name": "stdout",
     "output_type": "stream",
     "text": [
      "LQ IMAGE SHAPE:  (20, 500, 500)\n"
     ]
    },
    {
     "name": "stderr",
     "output_type": "stream",
     "text": [
      "\r",
      " 59%|█████▉    | 19/32 [00:16<00:11,  1.13it/s]"
     ]
    },
    {
     "name": "stdout",
     "output_type": "stream",
     "text": [
      "LQ IMAGE SHAPE:  (20, 500, 500)\n"
     ]
    },
    {
     "name": "stderr",
     "output_type": "stream",
     "text": [
      "\r",
      " 62%|██████▎   | 20/32 [00:17<00:10,  1.14it/s]"
     ]
    },
    {
     "name": "stdout",
     "output_type": "stream",
     "text": [
      "LQ IMAGE SHAPE:  (20, 500, 500)\n"
     ]
    },
    {
     "name": "stderr",
     "output_type": "stream",
     "text": [
      "\r",
      " 66%|██████▌   | 21/32 [00:17<00:09,  1.18it/s]"
     ]
    },
    {
     "name": "stdout",
     "output_type": "stream",
     "text": [
      "LQ IMAGE SHAPE:  (20, 500, 500)\n"
     ]
    },
    {
     "name": "stderr",
     "output_type": "stream",
     "text": [
      "\r",
      " 69%|██████▉   | 22/32 [00:18<00:07,  1.26it/s]"
     ]
    },
    {
     "name": "stdout",
     "output_type": "stream",
     "text": [
      "LQ IMAGE SHAPE:  (20, 500, 500)\n"
     ]
    },
    {
     "name": "stderr",
     "output_type": "stream",
     "text": [
      "\r",
      " 72%|███████▏  | 23/32 [00:20<00:08,  1.01it/s]"
     ]
    },
    {
     "name": "stdout",
     "output_type": "stream",
     "text": [
      "LQ IMAGE SHAPE:  (20, 500, 500)\n"
     ]
    },
    {
     "name": "stderr",
     "output_type": "stream",
     "text": [
      "\r",
      " 75%|███████▌  | 24/32 [00:20<00:07,  1.08it/s]"
     ]
    },
    {
     "name": "stdout",
     "output_type": "stream",
     "text": [
      "LQ IMAGE SHAPE:  (20, 500, 500)\n"
     ]
    },
    {
     "name": "stderr",
     "output_type": "stream",
     "text": [
      "\r",
      " 78%|███████▊  | 25/32 [00:21<00:06,  1.07it/s]"
     ]
    },
    {
     "name": "stdout",
     "output_type": "stream",
     "text": [
      "LQ IMAGE SHAPE:  (20, 500, 500)\n"
     ]
    },
    {
     "name": "stderr",
     "output_type": "stream",
     "text": [
      "\r",
      " 81%|████████▏ | 26/32 [00:22<00:05,  1.15it/s]"
     ]
    },
    {
     "name": "stdout",
     "output_type": "stream",
     "text": [
      "LQ IMAGE SHAPE:  (20, 500, 500)\n"
     ]
    },
    {
     "name": "stderr",
     "output_type": "stream",
     "text": [
      "\r",
      " 84%|████████▍ | 27/32 [00:23<00:04,  1.24it/s]"
     ]
    },
    {
     "name": "stdout",
     "output_type": "stream",
     "text": [
      "LQ IMAGE SHAPE:  (20, 500, 500)\n"
     ]
    },
    {
     "name": "stderr",
     "output_type": "stream",
     "text": [
      "\r",
      " 88%|████████▊ | 28/32 [00:24<00:03,  1.21it/s]"
     ]
    },
    {
     "name": "stdout",
     "output_type": "stream",
     "text": [
      "LQ IMAGE SHAPE:  (20, 500, 500)\n"
     ]
    },
    {
     "name": "stderr",
     "output_type": "stream",
     "text": [
      "\r",
      " 91%|█████████ | 29/32 [00:25<00:02,  1.06it/s]"
     ]
    },
    {
     "name": "stdout",
     "output_type": "stream",
     "text": [
      "LQ IMAGE SHAPE:  (20, 500, 500)\n"
     ]
    },
    {
     "name": "stderr",
     "output_type": "stream",
     "text": [
      "\r",
      " 94%|█████████▍| 30/32 [00:26<00:01,  1.06it/s]"
     ]
    },
    {
     "name": "stdout",
     "output_type": "stream",
     "text": [
      "LQ IMAGE SHAPE:  (20, 500, 500)\n"
     ]
    },
    {
     "name": "stderr",
     "output_type": "stream",
     "text": [
      "\r",
      " 97%|█████████▋| 31/32 [00:27<00:01,  1.05s/it]"
     ]
    },
    {
     "name": "stdout",
     "output_type": "stream",
     "text": [
      "LQ IMAGE SHAPE:  (20, 500, 500)\n"
     ]
    },
    {
     "name": "stderr",
     "output_type": "stream",
     "text": [
      "100%|██████████| 32/32 [00:28<00:00,  1.13it/s]"
     ]
    },
    {
     "name": "stdout",
     "output_type": "stream",
     "text": [
      "LQ IMAGE SHAPE:  (20, 500, 500)\n",
      "Computing losses\n"
     ]
    },
    {
     "name": "stderr",
     "output_type": "stream",
     "text": [
      "\n"
     ]
    },
    {
     "data": {
      "application/vnd.jupyter.widget-view+json": {
       "model_id": "d9c63c978dcf4f0f8babcc7a0a2a1851",
       "version_major": 2,
       "version_minor": 0
      },
      "text/plain": [
       "HBox(children=(FloatProgress(value=0.0, max=500.0), HTML(value='')))"
      ]
     },
     "metadata": {},
     "output_type": "display_data"
    },
    {
     "name": "stderr",
     "output_type": "stream",
     "text": [
      "2024-04-30 21:00:06,086 INFO: Dataset PairedImageDataset - COMBO is created.\n"
     ]
    },
    {
     "name": "stdout",
     "output_type": "stream",
     "text": [
      "\n",
      "\\input key =  lq\n",
      "\\gt key =  gt\n",
      "\n",
      "INPUT LMDB KEYS =  ['/home/gridsan/tye/NAFNet/datasets/calib_0422_ch4/14/train/input_crops/33_13_s001.pt', '/home/gridsan/tye/NAFNet/datasets/calib_0422_ch4/14/train/input_crops/33_14_s001.pt', '/home/gridsan/tye/NAFNet/datasets/calib_0422_ch4/14/train/input_crops/34_14_s001.pt', '/home/gridsan/tye/NAFNet/datasets/calib_0422_ch4/14/train/input_crops/35_14_s001.pt', '/home/gridsan/tye/NAFNet/datasets/calib_0422_ch4/14/train/input_crops/36_14_s001.pt', '/home/gridsan/tye/NAFNet/datasets/calib_0422_ch4/14/train/input_crops/37_14_s001.pt', '/home/gridsan/tye/NAFNet/datasets/calib_0422_ch4/14/train/input_crops/38_14_s001.pt', '/home/gridsan/tye/NAFNet/datasets/calib_0422_ch4/14/train/input_crops/39_14_s001.pt', '/home/gridsan/tye/NAFNet/datasets/calib_0422_ch4/14/train/input_crops/40_14_s001.pt', '/home/gridsan/tye/NAFNet/datasets/calib_0422_ch4/14/train/input_crops/41_14_s001.pt']\n",
      "\n",
      "GT LMDB KEYS =  ['/home/gridsan/tye/NAFNet/datasets/calib_0422_ch4/14/train/gt_crops/33_13_s001.pt', '/home/gridsan/tye/NAFNet/datasets/calib_0422_ch4/14/train/gt_crops/33_14_s001.pt', '/home/gridsan/tye/NAFNet/datasets/calib_0422_ch4/14/train/gt_crops/34_14_s001.pt', '/home/gridsan/tye/NAFNet/datasets/calib_0422_ch4/14/train/gt_crops/35_14_s001.pt', '/home/gridsan/tye/NAFNet/datasets/calib_0422_ch4/14/train/gt_crops/36_14_s001.pt', '/home/gridsan/tye/NAFNet/datasets/calib_0422_ch4/14/train/gt_crops/37_14_s001.pt', '/home/gridsan/tye/NAFNet/datasets/calib_0422_ch4/14/train/gt_crops/38_14_s001.pt', '/home/gridsan/tye/NAFNet/datasets/calib_0422_ch4/14/train/gt_crops/39_14_s001.pt', '/home/gridsan/tye/NAFNet/datasets/calib_0422_ch4/14/train/gt_crops/40_14_s001.pt', '/home/gridsan/tye/NAFNet/datasets/calib_0422_ch4/14/train/gt_crops/41_14_s001.pt']\n"
     ]
    },
    {
     "name": "stderr",
     "output_type": "stream",
     "text": [
      "\r",
      "  0%|          | 0/32 [00:00<?, ?it/s]"
     ]
    },
    {
     "name": "stdout",
     "output_type": "stream",
     "text": [
      "LQ IMAGE SHAPE:  (20, 500, 500)\n",
      "LQ IMAGE SHAPE:  (20, 500, 500)\n",
      "LQ IMAGE SHAPE:  (20, 500, 500)\n"
     ]
    },
    {
     "name": "stderr",
     "output_type": "stream",
     "text": [
      "\r",
      "  6%|▋         | 2/32 [00:00<00:14,  2.02it/s]"
     ]
    },
    {
     "name": "stdout",
     "output_type": "stream",
     "text": [
      "LQ IMAGE SHAPE:  (20, 500, 500)\n"
     ]
    },
    {
     "name": "stderr",
     "output_type": "stream",
     "text": [
      "\r",
      "  9%|▉         | 3/32 [00:01<00:18,  1.60it/s]"
     ]
    },
    {
     "name": "stdout",
     "output_type": "stream",
     "text": [
      "LQ IMAGE SHAPE:  (20, 500, 500)\n"
     ]
    },
    {
     "name": "stderr",
     "output_type": "stream",
     "text": [
      "\r",
      " 12%|█▎        | 4/32 [00:02<00:20,  1.39it/s]"
     ]
    },
    {
     "name": "stdout",
     "output_type": "stream",
     "text": [
      "LQ IMAGE SHAPE:  (20, 500, 500)\n"
     ]
    },
    {
     "name": "stderr",
     "output_type": "stream",
     "text": [
      "\r",
      " 16%|█▌        | 5/32 [00:03<00:20,  1.30it/s]"
     ]
    },
    {
     "name": "stdout",
     "output_type": "stream",
     "text": [
      "LQ IMAGE SHAPE:  (20, 500, 500)\n"
     ]
    },
    {
     "name": "stderr",
     "output_type": "stream",
     "text": [
      "\r",
      " 19%|█▉        | 6/32 [00:04<00:19,  1.31it/s]"
     ]
    },
    {
     "name": "stdout",
     "output_type": "stream",
     "text": [
      "LQ IMAGE SHAPE:  (20, 500, 500)\n"
     ]
    },
    {
     "name": "stderr",
     "output_type": "stream",
     "text": [
      "\r",
      " 22%|██▏       | 7/32 [00:05<00:20,  1.24it/s]"
     ]
    },
    {
     "name": "stdout",
     "output_type": "stream",
     "text": [
      "LQ IMAGE SHAPE:  (20, 500, 500)\n"
     ]
    },
    {
     "name": "stderr",
     "output_type": "stream",
     "text": [
      "\r",
      " 25%|██▌       | 8/32 [00:07<00:26,  1.08s/it]"
     ]
    },
    {
     "name": "stdout",
     "output_type": "stream",
     "text": [
      "LQ IMAGE SHAPE:  (20, 500, 500)\n"
     ]
    },
    {
     "name": "stderr",
     "output_type": "stream",
     "text": [
      "\r",
      " 28%|██▊       | 9/32 [00:08<00:26,  1.13s/it]"
     ]
    },
    {
     "name": "stdout",
     "output_type": "stream",
     "text": [
      "LQ IMAGE SHAPE:  (20, 500, 500)\n"
     ]
    },
    {
     "name": "stderr",
     "output_type": "stream",
     "text": [
      "\r",
      " 31%|███▏      | 10/32 [00:09<00:26,  1.22s/it]"
     ]
    },
    {
     "name": "stdout",
     "output_type": "stream",
     "text": [
      "LQ IMAGE SHAPE:  (20, 500, 500)\n"
     ]
    },
    {
     "name": "stderr",
     "output_type": "stream",
     "text": [
      "\r",
      " 34%|███▍      | 11/32 [00:10<00:22,  1.09s/it]"
     ]
    },
    {
     "name": "stdout",
     "output_type": "stream",
     "text": [
      "LQ IMAGE SHAPE:  (20, 500, 500)\n"
     ]
    },
    {
     "name": "stderr",
     "output_type": "stream",
     "text": [
      "\r",
      " 38%|███▊      | 12/32 [00:11<00:20,  1.03s/it]"
     ]
    },
    {
     "name": "stdout",
     "output_type": "stream",
     "text": [
      "LQ IMAGE SHAPE:  (20, 500, 500)\n"
     ]
    },
    {
     "name": "stderr",
     "output_type": "stream",
     "text": [
      "\r",
      " 41%|████      | 13/32 [00:12<00:19,  1.01s/it]"
     ]
    },
    {
     "name": "stdout",
     "output_type": "stream",
     "text": [
      "LQ IMAGE SHAPE:  (20, 500, 500)\n"
     ]
    },
    {
     "name": "stderr",
     "output_type": "stream",
     "text": [
      "\r",
      " 44%|████▍     | 14/32 [00:14<00:26,  1.46s/it]"
     ]
    },
    {
     "name": "stdout",
     "output_type": "stream",
     "text": [
      "LQ IMAGE SHAPE:  (20, 500, 500)\n"
     ]
    },
    {
     "name": "stderr",
     "output_type": "stream",
     "text": [
      "\r",
      " 47%|████▋     | 15/32 [00:15<00:21,  1.26s/it]"
     ]
    },
    {
     "name": "stdout",
     "output_type": "stream",
     "text": [
      "LQ IMAGE SHAPE:  (20, 500, 500)\n"
     ]
    },
    {
     "name": "stderr",
     "output_type": "stream",
     "text": [
      "\r",
      " 50%|█████     | 16/32 [00:16<00:17,  1.09s/it]"
     ]
    },
    {
     "name": "stdout",
     "output_type": "stream",
     "text": [
      "LQ IMAGE SHAPE:  (20, 500, 500)\n"
     ]
    },
    {
     "name": "stderr",
     "output_type": "stream",
     "text": [
      "\r",
      " 53%|█████▎    | 17/32 [00:17<00:15,  1.06s/it]"
     ]
    },
    {
     "name": "stdout",
     "output_type": "stream",
     "text": [
      "LQ IMAGE SHAPE:  (20, 500, 500)\n"
     ]
    },
    {
     "name": "stderr",
     "output_type": "stream",
     "text": [
      "\r",
      " 56%|█████▋    | 18/32 [00:18<00:14,  1.01s/it]"
     ]
    },
    {
     "name": "stdout",
     "output_type": "stream",
     "text": [
      "LQ IMAGE SHAPE:  (20, 500, 500)\n"
     ]
    },
    {
     "name": "stderr",
     "output_type": "stream",
     "text": [
      "\r",
      " 59%|█████▉    | 19/32 [00:19<00:12,  1.05it/s]"
     ]
    },
    {
     "name": "stdout",
     "output_type": "stream",
     "text": [
      "LQ IMAGE SHAPE:  (20, 500, 500)\n"
     ]
    },
    {
     "name": "stderr",
     "output_type": "stream",
     "text": [
      "\r",
      " 62%|██████▎   | 20/32 [00:19<00:11,  1.09it/s]"
     ]
    },
    {
     "name": "stdout",
     "output_type": "stream",
     "text": [
      "LQ IMAGE SHAPE:  (20, 500, 500)\n"
     ]
    },
    {
     "name": "stderr",
     "output_type": "stream",
     "text": [
      "\r",
      " 66%|██████▌   | 21/32 [00:20<00:09,  1.16it/s]"
     ]
    },
    {
     "name": "stdout",
     "output_type": "stream",
     "text": [
      "LQ IMAGE SHAPE:  (20, 500, 500)\n"
     ]
    },
    {
     "name": "stderr",
     "output_type": "stream",
     "text": [
      "\r",
      " 69%|██████▉   | 22/32 [00:21<00:08,  1.15it/s]"
     ]
    },
    {
     "name": "stdout",
     "output_type": "stream",
     "text": [
      "LQ IMAGE SHAPE:  (20, 500, 500)\n"
     ]
    },
    {
     "name": "stderr",
     "output_type": "stream",
     "text": [
      "\r",
      " 72%|███████▏  | 23/32 [00:22<00:07,  1.20it/s]"
     ]
    },
    {
     "name": "stdout",
     "output_type": "stream",
     "text": [
      "LQ IMAGE SHAPE:  (20, 500, 500)\n"
     ]
    },
    {
     "name": "stderr",
     "output_type": "stream",
     "text": [
      "\r",
      " 75%|███████▌  | 24/32 [00:23<00:06,  1.22it/s]"
     ]
    },
    {
     "name": "stdout",
     "output_type": "stream",
     "text": [
      "LQ IMAGE SHAPE:  (20, 500, 500)\n"
     ]
    },
    {
     "name": "stderr",
     "output_type": "stream",
     "text": [
      "\r",
      " 78%|███████▊  | 25/32 [00:24<00:05,  1.19it/s]"
     ]
    },
    {
     "name": "stdout",
     "output_type": "stream",
     "text": [
      "LQ IMAGE SHAPE:  (20, 500, 500)\n"
     ]
    },
    {
     "name": "stderr",
     "output_type": "stream",
     "text": [
      "\r",
      " 81%|████████▏ | 26/32 [00:25<00:05,  1.13it/s]"
     ]
    },
    {
     "name": "stdout",
     "output_type": "stream",
     "text": [
      "LQ IMAGE SHAPE:  (20, 500, 500)\n"
     ]
    },
    {
     "name": "stderr",
     "output_type": "stream",
     "text": [
      "\r",
      " 84%|████████▍ | 27/32 [00:25<00:04,  1.21it/s]"
     ]
    },
    {
     "name": "stdout",
     "output_type": "stream",
     "text": [
      "LQ IMAGE SHAPE:  (20, 500, 500)\n"
     ]
    },
    {
     "name": "stderr",
     "output_type": "stream",
     "text": [
      "\r",
      " 88%|████████▊ | 28/32 [00:26<00:03,  1.14it/s]"
     ]
    },
    {
     "name": "stdout",
     "output_type": "stream",
     "text": [
      "LQ IMAGE SHAPE:  (20, 500, 500)\n"
     ]
    },
    {
     "name": "stderr",
     "output_type": "stream",
     "text": [
      "\r",
      " 91%|█████████ | 29/32 [00:27<00:02,  1.18it/s]"
     ]
    },
    {
     "name": "stdout",
     "output_type": "stream",
     "text": [
      "LQ IMAGE SHAPE:  (20, 500, 500)\n"
     ]
    },
    {
     "name": "stderr",
     "output_type": "stream",
     "text": [
      "\r",
      " 94%|█████████▍| 30/32 [00:28<00:01,  1.24it/s]"
     ]
    },
    {
     "name": "stdout",
     "output_type": "stream",
     "text": [
      "LQ IMAGE SHAPE:  (20, 500, 500)\n"
     ]
    },
    {
     "name": "stderr",
     "output_type": "stream",
     "text": [
      "\r",
      " 97%|█████████▋| 31/32 [00:29<00:00,  1.10it/s]"
     ]
    },
    {
     "name": "stdout",
     "output_type": "stream",
     "text": [
      "LQ IMAGE SHAPE:  (20, 500, 500)\n"
     ]
    },
    {
     "name": "stderr",
     "output_type": "stream",
     "text": [
      "100%|██████████| 32/32 [00:30<00:00,  1.06it/s]"
     ]
    },
    {
     "name": "stdout",
     "output_type": "stream",
     "text": [
      "LQ IMAGE SHAPE:  (20, 500, 500)\n",
      "Computing losses\n"
     ]
    },
    {
     "name": "stderr",
     "output_type": "stream",
     "text": [
      "\n"
     ]
    },
    {
     "data": {
      "application/vnd.jupyter.widget-view+json": {
       "model_id": "795e941477a54332b527bb2aa17d6616",
       "version_major": 2,
       "version_minor": 0
      },
      "text/plain": [
       "HBox(children=(FloatProgress(value=0.0, max=500.0), HTML(value='')))"
      ]
     },
     "metadata": {},
     "output_type": "display_data"
    },
    {
     "name": "stderr",
     "output_type": "stream",
     "text": [
      "2024-04-30 21:00:42,739 INFO: Dataset PairedImageDataset - COMBO is created.\n"
     ]
    },
    {
     "name": "stdout",
     "output_type": "stream",
     "text": [
      "\n",
      "\\input key =  lq\n",
      "\\gt key =  gt\n",
      "\n",
      "INPUT LMDB KEYS =  ['/home/gridsan/tye/NAFNet/datasets/calib_0422_ch4/15/train/input_crops/33_14_s001.pt', '/home/gridsan/tye/NAFNet/datasets/calib_0422_ch4/15/train/input_crops/33_15_s001.pt', '/home/gridsan/tye/NAFNet/datasets/calib_0422_ch4/15/train/input_crops/34_15_s001.pt', '/home/gridsan/tye/NAFNet/datasets/calib_0422_ch4/15/train/input_crops/35_15_s001.pt', '/home/gridsan/tye/NAFNet/datasets/calib_0422_ch4/15/train/input_crops/36_15_s001.pt', '/home/gridsan/tye/NAFNet/datasets/calib_0422_ch4/15/train/input_crops/37_15_s001.pt', '/home/gridsan/tye/NAFNet/datasets/calib_0422_ch4/15/train/input_crops/38_15_s001.pt', '/home/gridsan/tye/NAFNet/datasets/calib_0422_ch4/15/train/input_crops/39_15_s001.pt', '/home/gridsan/tye/NAFNet/datasets/calib_0422_ch4/15/train/input_crops/40_15_s001.pt', '/home/gridsan/tye/NAFNet/datasets/calib_0422_ch4/15/train/input_crops/41_15_s001.pt']\n",
      "\n",
      "GT LMDB KEYS =  ['/home/gridsan/tye/NAFNet/datasets/calib_0422_ch4/15/train/gt_crops/33_14_s001.pt', '/home/gridsan/tye/NAFNet/datasets/calib_0422_ch4/15/train/gt_crops/33_15_s001.pt', '/home/gridsan/tye/NAFNet/datasets/calib_0422_ch4/15/train/gt_crops/34_15_s001.pt', '/home/gridsan/tye/NAFNet/datasets/calib_0422_ch4/15/train/gt_crops/35_15_s001.pt', '/home/gridsan/tye/NAFNet/datasets/calib_0422_ch4/15/train/gt_crops/36_15_s001.pt', '/home/gridsan/tye/NAFNet/datasets/calib_0422_ch4/15/train/gt_crops/37_15_s001.pt', '/home/gridsan/tye/NAFNet/datasets/calib_0422_ch4/15/train/gt_crops/38_15_s001.pt', '/home/gridsan/tye/NAFNet/datasets/calib_0422_ch4/15/train/gt_crops/39_15_s001.pt', '/home/gridsan/tye/NAFNet/datasets/calib_0422_ch4/15/train/gt_crops/40_15_s001.pt', '/home/gridsan/tye/NAFNet/datasets/calib_0422_ch4/15/train/gt_crops/41_15_s001.pt']\n"
     ]
    },
    {
     "name": "stderr",
     "output_type": "stream",
     "text": [
      "\r",
      "  0%|          | 0/32 [00:00<?, ?it/s]"
     ]
    },
    {
     "name": "stdout",
     "output_type": "stream",
     "text": [
      "LQ IMAGE SHAPE:  (20, 500, 500)\n",
      "LQ IMAGE SHAPE:  (20, 500, 500)\n",
      "LQ IMAGE SHAPE:  (20, 500, 500)\n"
     ]
    },
    {
     "name": "stderr",
     "output_type": "stream",
     "text": [
      "\r",
      "  6%|▋         | 2/32 [00:00<00:14,  2.14it/s]"
     ]
    },
    {
     "name": "stdout",
     "output_type": "stream",
     "text": [
      "LQ IMAGE SHAPE:  (20, 500, 500)\n"
     ]
    },
    {
     "name": "stderr",
     "output_type": "stream",
     "text": [
      "\r",
      "  9%|▉         | 3/32 [00:01<00:17,  1.68it/s]"
     ]
    },
    {
     "name": "stdout",
     "output_type": "stream",
     "text": [
      "LQ IMAGE SHAPE:  (20, 500, 500)\n"
     ]
    },
    {
     "name": "stderr",
     "output_type": "stream",
     "text": [
      "\r",
      " 12%|█▎        | 4/32 [00:02<00:19,  1.43it/s]"
     ]
    },
    {
     "name": "stdout",
     "output_type": "stream",
     "text": [
      "LQ IMAGE SHAPE:  (20, 500, 500)\n"
     ]
    },
    {
     "name": "stderr",
     "output_type": "stream",
     "text": [
      "\r",
      " 16%|█▌        | 5/32 [00:03<00:21,  1.23it/s]"
     ]
    },
    {
     "name": "stdout",
     "output_type": "stream",
     "text": [
      "LQ IMAGE SHAPE:  (20, 500, 500)\n"
     ]
    },
    {
     "name": "stderr",
     "output_type": "stream",
     "text": [
      "\r",
      " 19%|█▉        | 6/32 [00:04<00:22,  1.15it/s]"
     ]
    },
    {
     "name": "stdout",
     "output_type": "stream",
     "text": [
      "LQ IMAGE SHAPE:  (20, 500, 500)\n"
     ]
    },
    {
     "name": "stderr",
     "output_type": "stream",
     "text": [
      "\r",
      " 22%|██▏       | 7/32 [00:05<00:21,  1.18it/s]"
     ]
    },
    {
     "name": "stdout",
     "output_type": "stream",
     "text": [
      "LQ IMAGE SHAPE:  (20, 500, 500)\n"
     ]
    },
    {
     "name": "stderr",
     "output_type": "stream",
     "text": [
      "\r",
      " 25%|██▌       | 8/32 [00:06<00:19,  1.22it/s]"
     ]
    },
    {
     "name": "stdout",
     "output_type": "stream",
     "text": [
      "LQ IMAGE SHAPE:  (20, 500, 500)\n"
     ]
    },
    {
     "name": "stderr",
     "output_type": "stream",
     "text": [
      "\r",
      " 28%|██▊       | 9/32 [00:07<00:18,  1.22it/s]"
     ]
    },
    {
     "name": "stdout",
     "output_type": "stream",
     "text": [
      "LQ IMAGE SHAPE:  (20, 500, 500)\n"
     ]
    },
    {
     "name": "stderr",
     "output_type": "stream",
     "text": [
      "\r",
      " 31%|███▏      | 10/32 [00:07<00:17,  1.24it/s]"
     ]
    },
    {
     "name": "stdout",
     "output_type": "stream",
     "text": [
      "LQ IMAGE SHAPE:  (20, 500, 500)\n"
     ]
    },
    {
     "name": "stderr",
     "output_type": "stream",
     "text": [
      "\r",
      " 34%|███▍      | 11/32 [00:08<00:17,  1.18it/s]"
     ]
    },
    {
     "name": "stdout",
     "output_type": "stream",
     "text": [
      "LQ IMAGE SHAPE:  (20, 500, 500)\n"
     ]
    },
    {
     "name": "stderr",
     "output_type": "stream",
     "text": [
      "\r",
      " 38%|███▊      | 12/32 [00:09<00:17,  1.13it/s]"
     ]
    },
    {
     "name": "stdout",
     "output_type": "stream",
     "text": [
      "LQ IMAGE SHAPE:  (20, 500, 500)\n"
     ]
    },
    {
     "name": "stderr",
     "output_type": "stream",
     "text": [
      "\r",
      " 41%|████      | 13/32 [00:10<00:16,  1.13it/s]"
     ]
    },
    {
     "name": "stdout",
     "output_type": "stream",
     "text": [
      "LQ IMAGE SHAPE:  (20, 500, 500)\n"
     ]
    },
    {
     "name": "stderr",
     "output_type": "stream",
     "text": [
      "\r",
      " 44%|████▍     | 14/32 [00:11<00:15,  1.14it/s]"
     ]
    },
    {
     "name": "stdout",
     "output_type": "stream",
     "text": [
      "LQ IMAGE SHAPE:  (20, 500, 500)\n"
     ]
    },
    {
     "name": "stderr",
     "output_type": "stream",
     "text": [
      "\r",
      " 47%|████▋     | 15/32 [00:12<00:14,  1.14it/s]"
     ]
    },
    {
     "name": "stdout",
     "output_type": "stream",
     "text": [
      "LQ IMAGE SHAPE:  (20, 500, 500)\n"
     ]
    },
    {
     "name": "stderr",
     "output_type": "stream",
     "text": [
      "\r",
      " 50%|█████     | 16/32 [00:13<00:14,  1.10it/s]"
     ]
    },
    {
     "name": "stdout",
     "output_type": "stream",
     "text": [
      "LQ IMAGE SHAPE:  (20, 500, 500)\n"
     ]
    },
    {
     "name": "stderr",
     "output_type": "stream",
     "text": [
      "\r",
      " 53%|█████▎    | 17/32 [00:14<00:12,  1.18it/s]"
     ]
    },
    {
     "name": "stdout",
     "output_type": "stream",
     "text": [
      "LQ IMAGE SHAPE:  (20, 500, 500)\n"
     ]
    },
    {
     "name": "stderr",
     "output_type": "stream",
     "text": [
      "\r",
      " 56%|█████▋    | 18/32 [00:14<00:11,  1.23it/s]"
     ]
    },
    {
     "name": "stdout",
     "output_type": "stream",
     "text": [
      "LQ IMAGE SHAPE:  (20, 500, 500)\n"
     ]
    },
    {
     "name": "stderr",
     "output_type": "stream",
     "text": [
      "\r",
      " 59%|█████▉    | 19/32 [00:15<00:10,  1.28it/s]"
     ]
    },
    {
     "name": "stdout",
     "output_type": "stream",
     "text": [
      "LQ IMAGE SHAPE:  (20, 500, 500)\n"
     ]
    },
    {
     "name": "stderr",
     "output_type": "stream",
     "text": [
      "\r",
      " 62%|██████▎   | 20/32 [00:16<00:09,  1.22it/s]"
     ]
    },
    {
     "name": "stdout",
     "output_type": "stream",
     "text": [
      "LQ IMAGE SHAPE:  (20, 500, 500)\n"
     ]
    },
    {
     "name": "stderr",
     "output_type": "stream",
     "text": [
      "\r",
      " 66%|██████▌   | 21/32 [00:17<00:09,  1.13it/s]"
     ]
    },
    {
     "name": "stdout",
     "output_type": "stream",
     "text": [
      "LQ IMAGE SHAPE:  (20, 500, 500)\n"
     ]
    },
    {
     "name": "stderr",
     "output_type": "stream",
     "text": [
      "\r",
      " 69%|██████▉   | 22/32 [00:18<00:09,  1.03it/s]"
     ]
    },
    {
     "name": "stdout",
     "output_type": "stream",
     "text": [
      "LQ IMAGE SHAPE:  (20, 500, 500)\n"
     ]
    },
    {
     "name": "stderr",
     "output_type": "stream",
     "text": [
      "\r",
      " 72%|███████▏  | 23/32 [00:19<00:09,  1.01s/it]"
     ]
    },
    {
     "name": "stdout",
     "output_type": "stream",
     "text": [
      "LQ IMAGE SHAPE:  (20, 500, 500)\n"
     ]
    },
    {
     "name": "stderr",
     "output_type": "stream",
     "text": [
      "\r",
      " 75%|███████▌  | 24/32 [00:22<00:11,  1.47s/it]"
     ]
    },
    {
     "name": "stdout",
     "output_type": "stream",
     "text": [
      "LQ IMAGE SHAPE:  (20, 500, 500)\n"
     ]
    },
    {
     "name": "stderr",
     "output_type": "stream",
     "text": [
      "\r",
      " 78%|███████▊  | 25/32 [00:23<00:09,  1.41s/it]"
     ]
    },
    {
     "name": "stdout",
     "output_type": "stream",
     "text": [
      "LQ IMAGE SHAPE:  (20, 500, 500)\n"
     ]
    },
    {
     "name": "stderr",
     "output_type": "stream",
     "text": [
      "\r",
      " 81%|████████▏ | 26/32 [00:24<00:07,  1.28s/it]"
     ]
    },
    {
     "name": "stdout",
     "output_type": "stream",
     "text": [
      "LQ IMAGE SHAPE:  (20, 500, 500)\n"
     ]
    },
    {
     "name": "stderr",
     "output_type": "stream",
     "text": [
      "\r",
      " 84%|████████▍ | 27/32 [00:25<00:05,  1.12s/it]"
     ]
    },
    {
     "name": "stdout",
     "output_type": "stream",
     "text": [
      "LQ IMAGE SHAPE:  (20, 500, 500)\n"
     ]
    },
    {
     "name": "stderr",
     "output_type": "stream",
     "text": [
      "\r",
      " 88%|████████▊ | 28/32 [00:26<00:04,  1.06s/it]"
     ]
    },
    {
     "name": "stdout",
     "output_type": "stream",
     "text": [
      "LQ IMAGE SHAPE:  (20, 500, 500)\n"
     ]
    },
    {
     "name": "stderr",
     "output_type": "stream",
     "text": [
      "\r",
      " 91%|█████████ | 29/32 [00:27<00:02,  1.01it/s]"
     ]
    },
    {
     "name": "stdout",
     "output_type": "stream",
     "text": [
      "LQ IMAGE SHAPE:  (20, 500, 500)\n"
     ]
    },
    {
     "name": "stderr",
     "output_type": "stream",
     "text": [
      "\r",
      " 94%|█████████▍| 30/32 [00:28<00:01,  1.04it/s]"
     ]
    },
    {
     "name": "stdout",
     "output_type": "stream",
     "text": [
      "LQ IMAGE SHAPE:  (20, 500, 500)\n"
     ]
    },
    {
     "name": "stderr",
     "output_type": "stream",
     "text": [
      "\r",
      " 97%|█████████▋| 31/32 [00:28<00:00,  1.06it/s]"
     ]
    },
    {
     "name": "stdout",
     "output_type": "stream",
     "text": [
      "LQ IMAGE SHAPE:  (20, 500, 500)\n"
     ]
    },
    {
     "name": "stderr",
     "output_type": "stream",
     "text": [
      "100%|██████████| 32/32 [00:29<00:00,  1.08it/s]"
     ]
    },
    {
     "name": "stdout",
     "output_type": "stream",
     "text": [
      "LQ IMAGE SHAPE:  (20, 500, 500)\n",
      "Computing losses\n"
     ]
    },
    {
     "name": "stderr",
     "output_type": "stream",
     "text": [
      "\n"
     ]
    },
    {
     "data": {
      "application/vnd.jupyter.widget-view+json": {
       "model_id": "3a2507075687418784590529922586ed",
       "version_major": 2,
       "version_minor": 0
      },
      "text/plain": [
       "HBox(children=(FloatProgress(value=0.0, max=500.0), HTML(value='')))"
      ]
     },
     "metadata": {},
     "output_type": "display_data"
    },
    {
     "name": "stderr",
     "output_type": "stream",
     "text": [
      "2024-04-30 21:01:19,082 INFO: Dataset PairedImageDataset - COMBO is created.\n"
     ]
    },
    {
     "name": "stdout",
     "output_type": "stream",
     "text": [
      "\n",
      "\\input key =  lq\n",
      "\\gt key =  gt\n",
      "\n",
      "INPUT LMDB KEYS =  ['/home/gridsan/tye/NAFNet/datasets/calib_0422_ch4/16/train/input_crops/33_15_s001.pt', '/home/gridsan/tye/NAFNet/datasets/calib_0422_ch4/16/train/input_crops/33_16_s001.pt', '/home/gridsan/tye/NAFNet/datasets/calib_0422_ch4/16/train/input_crops/34_16_s001.pt', '/home/gridsan/tye/NAFNet/datasets/calib_0422_ch4/16/train/input_crops/35_16_s001.pt', '/home/gridsan/tye/NAFNet/datasets/calib_0422_ch4/16/train/input_crops/36_16_s001.pt', '/home/gridsan/tye/NAFNet/datasets/calib_0422_ch4/16/train/input_crops/37_16_s001.pt', '/home/gridsan/tye/NAFNet/datasets/calib_0422_ch4/16/train/input_crops/38_16_s001.pt', '/home/gridsan/tye/NAFNet/datasets/calib_0422_ch4/16/train/input_crops/39_16_s001.pt', '/home/gridsan/tye/NAFNet/datasets/calib_0422_ch4/16/train/input_crops/40_16_s001.pt', '/home/gridsan/tye/NAFNet/datasets/calib_0422_ch4/16/train/input_crops/41_16_s001.pt']\n",
      "\n",
      "GT LMDB KEYS =  ['/home/gridsan/tye/NAFNet/datasets/calib_0422_ch4/16/train/gt_crops/33_15_s001.pt', '/home/gridsan/tye/NAFNet/datasets/calib_0422_ch4/16/train/gt_crops/33_16_s001.pt', '/home/gridsan/tye/NAFNet/datasets/calib_0422_ch4/16/train/gt_crops/34_16_s001.pt', '/home/gridsan/tye/NAFNet/datasets/calib_0422_ch4/16/train/gt_crops/35_16_s001.pt', '/home/gridsan/tye/NAFNet/datasets/calib_0422_ch4/16/train/gt_crops/36_16_s001.pt', '/home/gridsan/tye/NAFNet/datasets/calib_0422_ch4/16/train/gt_crops/37_16_s001.pt', '/home/gridsan/tye/NAFNet/datasets/calib_0422_ch4/16/train/gt_crops/38_16_s001.pt', '/home/gridsan/tye/NAFNet/datasets/calib_0422_ch4/16/train/gt_crops/39_16_s001.pt', '/home/gridsan/tye/NAFNet/datasets/calib_0422_ch4/16/train/gt_crops/40_16_s001.pt', '/home/gridsan/tye/NAFNet/datasets/calib_0422_ch4/16/train/gt_crops/41_16_s001.pt']\n"
     ]
    },
    {
     "name": "stderr",
     "output_type": "stream",
     "text": [
      "\r",
      "  0%|          | 0/32 [00:00<?, ?it/s]"
     ]
    },
    {
     "name": "stdout",
     "output_type": "stream",
     "text": [
      "LQ IMAGE SHAPE:  (20, 500, 500)\n",
      "LQ IMAGE SHAPE:  (20, 500, 500)\n",
      "LQ IMAGE SHAPE:  (20, 500, 500)\n"
     ]
    },
    {
     "name": "stderr",
     "output_type": "stream",
     "text": [
      "\r",
      "  6%|▋         | 2/32 [00:00<00:14,  2.11it/s]"
     ]
    },
    {
     "name": "stdout",
     "output_type": "stream",
     "text": [
      "LQ IMAGE SHAPE:  (20, 500, 500)\n"
     ]
    },
    {
     "name": "stderr",
     "output_type": "stream",
     "text": [
      "\r",
      "  9%|▉         | 3/32 [00:01<00:15,  1.83it/s]"
     ]
    },
    {
     "name": "stdout",
     "output_type": "stream",
     "text": [
      "LQ IMAGE SHAPE:  (20, 500, 500)\n"
     ]
    },
    {
     "name": "stderr",
     "output_type": "stream",
     "text": [
      "\r",
      " 12%|█▎        | 4/32 [00:02<00:17,  1.59it/s]"
     ]
    },
    {
     "name": "stdout",
     "output_type": "stream",
     "text": [
      "LQ IMAGE SHAPE:  (20, 500, 500)\n"
     ]
    },
    {
     "name": "stderr",
     "output_type": "stream",
     "text": [
      "\r",
      " 16%|█▌        | 5/32 [00:03<00:21,  1.28it/s]"
     ]
    },
    {
     "name": "stdout",
     "output_type": "stream",
     "text": [
      "LQ IMAGE SHAPE:  (20, 500, 500)\n"
     ]
    },
    {
     "name": "stderr",
     "output_type": "stream",
     "text": [
      "\r",
      " 19%|█▉        | 6/32 [00:05<00:26,  1.01s/it]"
     ]
    },
    {
     "name": "stdout",
     "output_type": "stream",
     "text": [
      "LQ IMAGE SHAPE:  (20, 500, 500)\n"
     ]
    },
    {
     "name": "stderr",
     "output_type": "stream",
     "text": [
      "\r",
      " 22%|██▏       | 7/32 [00:06<00:24,  1.03it/s]"
     ]
    },
    {
     "name": "stdout",
     "output_type": "stream",
     "text": [
      "LQ IMAGE SHAPE:  (20, 500, 500)\n"
     ]
    },
    {
     "name": "stderr",
     "output_type": "stream",
     "text": [
      "\r",
      " 25%|██▌       | 8/32 [00:07<00:23,  1.00it/s]"
     ]
    },
    {
     "name": "stdout",
     "output_type": "stream",
     "text": [
      "LQ IMAGE SHAPE:  (20, 500, 500)\n"
     ]
    },
    {
     "name": "stderr",
     "output_type": "stream",
     "text": [
      "\r",
      " 28%|██▊       | 9/32 [00:07<00:21,  1.07it/s]"
     ]
    },
    {
     "name": "stdout",
     "output_type": "stream",
     "text": [
      "LQ IMAGE SHAPE:  (20, 500, 500)\n"
     ]
    },
    {
     "name": "stderr",
     "output_type": "stream",
     "text": [
      "\r",
      " 31%|███▏      | 10/32 [00:08<00:19,  1.11it/s]"
     ]
    },
    {
     "name": "stdout",
     "output_type": "stream",
     "text": [
      "LQ IMAGE SHAPE:  (20, 500, 500)\n"
     ]
    },
    {
     "name": "stderr",
     "output_type": "stream",
     "text": [
      "\r",
      " 34%|███▍      | 11/32 [00:10<00:25,  1.20s/it]"
     ]
    },
    {
     "name": "stdout",
     "output_type": "stream",
     "text": [
      "LQ IMAGE SHAPE:  (20, 500, 500)\n"
     ]
    },
    {
     "name": "stderr",
     "output_type": "stream",
     "text": [
      "\r",
      " 38%|███▊      | 12/32 [00:11<00:21,  1.09s/it]"
     ]
    },
    {
     "name": "stdout",
     "output_type": "stream",
     "text": [
      "LQ IMAGE SHAPE:  (20, 500, 500)\n"
     ]
    },
    {
     "name": "stderr",
     "output_type": "stream",
     "text": [
      "\r",
      " 41%|████      | 13/32 [00:12<00:20,  1.07s/it]"
     ]
    },
    {
     "name": "stdout",
     "output_type": "stream",
     "text": [
      "LQ IMAGE SHAPE:  (20, 500, 500)\n"
     ]
    },
    {
     "name": "stderr",
     "output_type": "stream",
     "text": [
      "\r",
      " 44%|████▍     | 14/32 [00:13<00:17,  1.01it/s]"
     ]
    },
    {
     "name": "stdout",
     "output_type": "stream",
     "text": [
      "LQ IMAGE SHAPE:  (20, 500, 500)\n"
     ]
    },
    {
     "name": "stderr",
     "output_type": "stream",
     "text": [
      "\r",
      " 47%|████▋     | 15/32 [00:14<00:17,  1.00s/it]"
     ]
    },
    {
     "name": "stdout",
     "output_type": "stream",
     "text": [
      "LQ IMAGE SHAPE:  (20, 500, 500)\n"
     ]
    },
    {
     "name": "stderr",
     "output_type": "stream",
     "text": [
      "\r",
      " 50%|█████     | 16/32 [00:15<00:14,  1.09it/s]"
     ]
    },
    {
     "name": "stdout",
     "output_type": "stream",
     "text": [
      "LQ IMAGE SHAPE:  (20, 500, 500)\n"
     ]
    },
    {
     "name": "stderr",
     "output_type": "stream",
     "text": [
      "\r",
      " 53%|█████▎    | 17/32 [00:15<00:13,  1.15it/s]"
     ]
    },
    {
     "name": "stdout",
     "output_type": "stream",
     "text": [
      "LQ IMAGE SHAPE:  (20, 500, 500)\n"
     ]
    },
    {
     "name": "stderr",
     "output_type": "stream",
     "text": [
      "\r",
      " 56%|█████▋    | 18/32 [00:17<00:14,  1.04s/it]"
     ]
    },
    {
     "name": "stdout",
     "output_type": "stream",
     "text": [
      "LQ IMAGE SHAPE:  (20, 500, 500)\n"
     ]
    },
    {
     "name": "stderr",
     "output_type": "stream",
     "text": [
      "\r",
      " 59%|█████▉    | 19/32 [00:18<00:13,  1.01s/it]"
     ]
    },
    {
     "name": "stdout",
     "output_type": "stream",
     "text": [
      "LQ IMAGE SHAPE:  (20, 500, 500)\n"
     ]
    },
    {
     "name": "stderr",
     "output_type": "stream",
     "text": [
      "\r",
      " 62%|██████▎   | 20/32 [00:18<00:11,  1.08it/s]"
     ]
    },
    {
     "name": "stdout",
     "output_type": "stream",
     "text": [
      "LQ IMAGE SHAPE:  (20, 500, 500)\n"
     ]
    },
    {
     "name": "stderr",
     "output_type": "stream",
     "text": [
      "\r",
      " 66%|██████▌   | 21/32 [00:19<00:10,  1.09it/s]"
     ]
    },
    {
     "name": "stdout",
     "output_type": "stream",
     "text": [
      "LQ IMAGE SHAPE:  (20, 500, 500)\n"
     ]
    },
    {
     "name": "stderr",
     "output_type": "stream",
     "text": [
      "\r",
      " 69%|██████▉   | 22/32 [00:20<00:09,  1.01it/s]"
     ]
    },
    {
     "name": "stdout",
     "output_type": "stream",
     "text": [
      "LQ IMAGE SHAPE:  (20, 500, 500)\n"
     ]
    },
    {
     "name": "stderr",
     "output_type": "stream",
     "text": [
      "\r",
      " 72%|███████▏  | 23/32 [00:21<00:08,  1.11it/s]"
     ]
    },
    {
     "name": "stdout",
     "output_type": "stream",
     "text": [
      "LQ IMAGE SHAPE:  (20, 500, 500)\n"
     ]
    },
    {
     "name": "stderr",
     "output_type": "stream",
     "text": [
      "\r",
      " 75%|███████▌  | 24/32 [00:22<00:07,  1.14it/s]"
     ]
    },
    {
     "name": "stdout",
     "output_type": "stream",
     "text": [
      "LQ IMAGE SHAPE:  (20, 500, 500)\n"
     ]
    },
    {
     "name": "stderr",
     "output_type": "stream",
     "text": [
      "\r",
      " 78%|███████▊  | 25/32 [00:23<00:05,  1.21it/s]"
     ]
    },
    {
     "name": "stdout",
     "output_type": "stream",
     "text": [
      "LQ IMAGE SHAPE:  (20, 500, 500)\n"
     ]
    },
    {
     "name": "stderr",
     "output_type": "stream",
     "text": [
      "\r",
      " 81%|████████▏ | 26/32 [00:24<00:05,  1.16it/s]"
     ]
    },
    {
     "name": "stdout",
     "output_type": "stream",
     "text": [
      "LQ IMAGE SHAPE:  (20, 500, 500)\n"
     ]
    },
    {
     "name": "stderr",
     "output_type": "stream",
     "text": [
      "\r",
      " 84%|████████▍ | 27/32 [00:24<00:04,  1.16it/s]"
     ]
    },
    {
     "name": "stdout",
     "output_type": "stream",
     "text": [
      "LQ IMAGE SHAPE:  (20, 500, 500)\n"
     ]
    },
    {
     "name": "stderr",
     "output_type": "stream",
     "text": [
      "\r",
      " 88%|████████▊ | 28/32 [00:25<00:03,  1.14it/s]"
     ]
    },
    {
     "name": "stdout",
     "output_type": "stream",
     "text": [
      "LQ IMAGE SHAPE:  (20, 500, 500)\n"
     ]
    },
    {
     "name": "stderr",
     "output_type": "stream",
     "text": [
      "\r",
      " 91%|█████████ | 29/32 [00:26<00:02,  1.09it/s]"
     ]
    },
    {
     "name": "stdout",
     "output_type": "stream",
     "text": [
      "LQ IMAGE SHAPE:  (20, 500, 500)\n"
     ]
    },
    {
     "name": "stderr",
     "output_type": "stream",
     "text": [
      "\r",
      " 94%|█████████▍| 30/32 [00:27<00:01,  1.10it/s]"
     ]
    },
    {
     "name": "stdout",
     "output_type": "stream",
     "text": [
      "LQ IMAGE SHAPE:  (20, 500, 500)\n"
     ]
    },
    {
     "name": "stderr",
     "output_type": "stream",
     "text": [
      "\r",
      " 97%|█████████▋| 31/32 [00:28<00:00,  1.13it/s]"
     ]
    },
    {
     "name": "stdout",
     "output_type": "stream",
     "text": [
      "LQ IMAGE SHAPE:  (20, 500, 500)\n"
     ]
    },
    {
     "name": "stderr",
     "output_type": "stream",
     "text": [
      "100%|██████████| 32/32 [00:29<00:00,  1.09it/s]"
     ]
    },
    {
     "name": "stdout",
     "output_type": "stream",
     "text": [
      "LQ IMAGE SHAPE:  (20, 500, 500)\n",
      "Computing losses\n"
     ]
    },
    {
     "name": "stderr",
     "output_type": "stream",
     "text": [
      "\n"
     ]
    },
    {
     "data": {
      "application/vnd.jupyter.widget-view+json": {
       "model_id": "e5d3c4132f39403f8f296cc166b9294c",
       "version_major": 2,
       "version_minor": 0
      },
      "text/plain": [
       "HBox(children=(FloatProgress(value=0.0, max=500.0), HTML(value='')))"
      ]
     },
     "metadata": {},
     "output_type": "display_data"
    },
    {
     "name": "stderr",
     "output_type": "stream",
     "text": [
      "2024-04-30 21:01:55,100 INFO: Dataset PairedImageDataset - COMBO is created.\n"
     ]
    },
    {
     "name": "stdout",
     "output_type": "stream",
     "text": [
      "\n",
      "\\input key =  lq\n",
      "\\gt key =  gt\n",
      "\n",
      "INPUT LMDB KEYS =  ['/home/gridsan/tye/NAFNet/datasets/calib_0422_ch4/17/train/input_crops/33_16_s001.pt', '/home/gridsan/tye/NAFNet/datasets/calib_0422_ch4/17/train/input_crops/33_17_s001.pt', '/home/gridsan/tye/NAFNet/datasets/calib_0422_ch4/17/train/input_crops/34_17_s001.pt', '/home/gridsan/tye/NAFNet/datasets/calib_0422_ch4/17/train/input_crops/35_17_s001.pt', '/home/gridsan/tye/NAFNet/datasets/calib_0422_ch4/17/train/input_crops/36_17_s001.pt', '/home/gridsan/tye/NAFNet/datasets/calib_0422_ch4/17/train/input_crops/37_17_s001.pt', '/home/gridsan/tye/NAFNet/datasets/calib_0422_ch4/17/train/input_crops/38_17_s001.pt', '/home/gridsan/tye/NAFNet/datasets/calib_0422_ch4/17/train/input_crops/39_17_s001.pt', '/home/gridsan/tye/NAFNet/datasets/calib_0422_ch4/17/train/input_crops/40_17_s001.pt', '/home/gridsan/tye/NAFNet/datasets/calib_0422_ch4/17/train/input_crops/41_17_s001.pt']\n",
      "\n",
      "GT LMDB KEYS =  ['/home/gridsan/tye/NAFNet/datasets/calib_0422_ch4/17/train/gt_crops/33_16_s001.pt', '/home/gridsan/tye/NAFNet/datasets/calib_0422_ch4/17/train/gt_crops/33_17_s001.pt', '/home/gridsan/tye/NAFNet/datasets/calib_0422_ch4/17/train/gt_crops/34_17_s001.pt', '/home/gridsan/tye/NAFNet/datasets/calib_0422_ch4/17/train/gt_crops/35_17_s001.pt', '/home/gridsan/tye/NAFNet/datasets/calib_0422_ch4/17/train/gt_crops/36_17_s001.pt', '/home/gridsan/tye/NAFNet/datasets/calib_0422_ch4/17/train/gt_crops/37_17_s001.pt', '/home/gridsan/tye/NAFNet/datasets/calib_0422_ch4/17/train/gt_crops/38_17_s001.pt', '/home/gridsan/tye/NAFNet/datasets/calib_0422_ch4/17/train/gt_crops/39_17_s001.pt', '/home/gridsan/tye/NAFNet/datasets/calib_0422_ch4/17/train/gt_crops/40_17_s001.pt', '/home/gridsan/tye/NAFNet/datasets/calib_0422_ch4/17/train/gt_crops/41_17_s001.pt']\n"
     ]
    },
    {
     "name": "stderr",
     "output_type": "stream",
     "text": [
      "\r",
      "  0%|          | 0/32 [00:00<?, ?it/s]"
     ]
    },
    {
     "name": "stdout",
     "output_type": "stream",
     "text": [
      "LQ IMAGE SHAPE:  (20, 500, 500)\n",
      "LQ IMAGE SHAPE:  (20, 500, 500)\n",
      "LQ IMAGE SHAPE:  (20, 500, 500)\n"
     ]
    },
    {
     "name": "stderr",
     "output_type": "stream",
     "text": [
      "\r",
      "  6%|▋         | 2/32 [00:01<00:15,  1.97it/s]"
     ]
    },
    {
     "name": "stdout",
     "output_type": "stream",
     "text": [
      "LQ IMAGE SHAPE:  (20, 500, 500)\n"
     ]
    },
    {
     "name": "stderr",
     "output_type": "stream",
     "text": [
      "\r",
      "  9%|▉         | 3/32 [00:01<00:17,  1.69it/s]"
     ]
    },
    {
     "name": "stdout",
     "output_type": "stream",
     "text": [
      "LQ IMAGE SHAPE:  (20, 500, 500)\n"
     ]
    },
    {
     "name": "stderr",
     "output_type": "stream",
     "text": [
      "\r",
      " 12%|█▎        | 4/32 [00:02<00:17,  1.56it/s]"
     ]
    },
    {
     "name": "stdout",
     "output_type": "stream",
     "text": [
      "LQ IMAGE SHAPE:  (20, 500, 500)\n"
     ]
    },
    {
     "name": "stderr",
     "output_type": "stream",
     "text": [
      "\r",
      " 16%|█▌        | 5/32 [00:03<00:19,  1.36it/s]"
     ]
    },
    {
     "name": "stdout",
     "output_type": "stream",
     "text": [
      "LQ IMAGE SHAPE:  (20, 500, 500)\n"
     ]
    },
    {
     "name": "stderr",
     "output_type": "stream",
     "text": [
      "\r",
      " 19%|█▉        | 6/32 [00:05<00:25,  1.03it/s]"
     ]
    },
    {
     "name": "stdout",
     "output_type": "stream",
     "text": [
      "LQ IMAGE SHAPE:  (20, 500, 500)\n"
     ]
    },
    {
     "name": "stderr",
     "output_type": "stream",
     "text": [
      "\r",
      " 22%|██▏       | 7/32 [00:05<00:23,  1.05it/s]"
     ]
    },
    {
     "name": "stdout",
     "output_type": "stream",
     "text": [
      "LQ IMAGE SHAPE:  (20, 500, 500)\n"
     ]
    },
    {
     "name": "stderr",
     "output_type": "stream",
     "text": [
      "\r",
      " 25%|██▌       | 8/32 [00:06<00:21,  1.10it/s]"
     ]
    },
    {
     "name": "stdout",
     "output_type": "stream",
     "text": [
      "LQ IMAGE SHAPE:  (20, 500, 500)\n"
     ]
    },
    {
     "name": "stderr",
     "output_type": "stream",
     "text": [
      "\r",
      " 28%|██▊       | 9/32 [00:07<00:22,  1.04it/s]"
     ]
    },
    {
     "name": "stdout",
     "output_type": "stream",
     "text": [
      "LQ IMAGE SHAPE:  (20, 500, 500)\n"
     ]
    },
    {
     "name": "stderr",
     "output_type": "stream",
     "text": [
      "\r",
      " 31%|███▏      | 10/32 [00:08<00:19,  1.12it/s]"
     ]
    },
    {
     "name": "stdout",
     "output_type": "stream",
     "text": [
      "LQ IMAGE SHAPE:  (20, 500, 500)\n"
     ]
    },
    {
     "name": "stderr",
     "output_type": "stream",
     "text": [
      "\r",
      " 34%|███▍      | 11/32 [00:09<00:18,  1.16it/s]"
     ]
    },
    {
     "name": "stdout",
     "output_type": "stream",
     "text": [
      "LQ IMAGE SHAPE:  (20, 500, 500)\n"
     ]
    },
    {
     "name": "stderr",
     "output_type": "stream",
     "text": [
      "\r",
      " 38%|███▊      | 12/32 [00:10<00:17,  1.16it/s]"
     ]
    },
    {
     "name": "stdout",
     "output_type": "stream",
     "text": [
      "LQ IMAGE SHAPE:  (20, 500, 500)\n",
      "LQ IMAGE SHAPE:  (20, 500, 500)\n"
     ]
    },
    {
     "name": "stderr",
     "output_type": "stream",
     "text": [
      " 44%|████▍     | 14/32 [00:12<00:15,  1.14it/s]"
     ]
    },
    {
     "name": "stdout",
     "output_type": "stream",
     "text": [
      "LQ IMAGE SHAPE:  (20, 500, 500)\n"
     ]
    },
    {
     "name": "stderr",
     "output_type": "stream",
     "text": [
      "\r",
      " 47%|████▋     | 15/32 [00:12<00:13,  1.27it/s]"
     ]
    },
    {
     "name": "stdout",
     "output_type": "stream",
     "text": [
      "LQ IMAGE SHAPE:  (20, 500, 500)\n"
     ]
    },
    {
     "name": "stderr",
     "output_type": "stream",
     "text": [
      "\r",
      " 50%|█████     | 16/32 [00:13<00:12,  1.32it/s]"
     ]
    },
    {
     "name": "stdout",
     "output_type": "stream",
     "text": [
      "LQ IMAGE SHAPE:  (20, 500, 500)\n"
     ]
    },
    {
     "name": "stderr",
     "output_type": "stream",
     "text": [
      "\r",
      " 53%|█████▎    | 17/32 [00:14<00:11,  1.32it/s]"
     ]
    },
    {
     "name": "stdout",
     "output_type": "stream",
     "text": [
      "LQ IMAGE SHAPE:  (20, 500, 500)\n"
     ]
    },
    {
     "name": "stderr",
     "output_type": "stream",
     "text": [
      "\r",
      " 56%|█████▋    | 18/32 [00:15<00:11,  1.20it/s]"
     ]
    },
    {
     "name": "stdout",
     "output_type": "stream",
     "text": [
      "LQ IMAGE SHAPE:  (20, 500, 500)\n"
     ]
    },
    {
     "name": "stderr",
     "output_type": "stream",
     "text": [
      "\r",
      " 59%|█████▉    | 19/32 [00:15<00:10,  1.22it/s]"
     ]
    },
    {
     "name": "stdout",
     "output_type": "stream",
     "text": [
      "LQ IMAGE SHAPE:  (20, 500, 500)\n"
     ]
    },
    {
     "name": "stderr",
     "output_type": "stream",
     "text": [
      "\r",
      " 62%|██████▎   | 20/32 [00:16<00:09,  1.20it/s]"
     ]
    },
    {
     "name": "stdout",
     "output_type": "stream",
     "text": [
      "LQ IMAGE SHAPE:  (20, 500, 500)\n"
     ]
    },
    {
     "name": "stderr",
     "output_type": "stream",
     "text": [
      "\r",
      " 66%|██████▌   | 21/32 [00:17<00:09,  1.14it/s]"
     ]
    },
    {
     "name": "stdout",
     "output_type": "stream",
     "text": [
      "LQ IMAGE SHAPE:  (20, 500, 500)\n"
     ]
    },
    {
     "name": "stderr",
     "output_type": "stream",
     "text": [
      "\r",
      " 69%|██████▉   | 22/32 [00:18<00:08,  1.13it/s]"
     ]
    },
    {
     "name": "stdout",
     "output_type": "stream",
     "text": [
      "LQ IMAGE SHAPE:  (20, 500, 500)\n"
     ]
    },
    {
     "name": "stderr",
     "output_type": "stream",
     "text": [
      "\r",
      " 72%|███████▏  | 23/32 [00:19<00:07,  1.16it/s]"
     ]
    },
    {
     "name": "stdout",
     "output_type": "stream",
     "text": [
      "LQ IMAGE SHAPE:  (20, 500, 500)\n"
     ]
    },
    {
     "name": "stderr",
     "output_type": "stream",
     "text": [
      "\r",
      " 75%|███████▌  | 24/32 [00:20<00:07,  1.07it/s]"
     ]
    },
    {
     "name": "stdout",
     "output_type": "stream",
     "text": [
      "LQ IMAGE SHAPE:  (20, 500, 500)\n"
     ]
    },
    {
     "name": "stderr",
     "output_type": "stream",
     "text": [
      "\r",
      " 78%|███████▊  | 25/32 [00:21<00:06,  1.16it/s]"
     ]
    },
    {
     "name": "stdout",
     "output_type": "stream",
     "text": [
      "LQ IMAGE SHAPE:  (20, 500, 500)\n"
     ]
    },
    {
     "name": "stderr",
     "output_type": "stream",
     "text": [
      "\r",
      " 81%|████████▏ | 26/32 [00:21<00:04,  1.24it/s]"
     ]
    },
    {
     "name": "stdout",
     "output_type": "stream",
     "text": [
      "LQ IMAGE SHAPE:  (20, 500, 500)\n"
     ]
    },
    {
     "name": "stderr",
     "output_type": "stream",
     "text": [
      "\r",
      " 84%|████████▍ | 27/32 [00:22<00:03,  1.33it/s]"
     ]
    },
    {
     "name": "stdout",
     "output_type": "stream",
     "text": [
      "LQ IMAGE SHAPE:  (20, 500, 500)\n"
     ]
    },
    {
     "name": "stderr",
     "output_type": "stream",
     "text": [
      "\r",
      " 88%|████████▊ | 28/32 [00:23<00:02,  1.35it/s]"
     ]
    },
    {
     "name": "stdout",
     "output_type": "stream",
     "text": [
      "LQ IMAGE SHAPE:  (20, 500, 500)\n"
     ]
    },
    {
     "name": "stderr",
     "output_type": "stream",
     "text": [
      "\r",
      " 91%|█████████ | 29/32 [00:24<00:02,  1.35it/s]"
     ]
    },
    {
     "name": "stdout",
     "output_type": "stream",
     "text": [
      "LQ IMAGE SHAPE:  (20, 500, 500)\n"
     ]
    },
    {
     "name": "stderr",
     "output_type": "stream",
     "text": [
      "\r",
      " 94%|█████████▍| 30/32 [00:24<00:01,  1.26it/s]"
     ]
    },
    {
     "name": "stdout",
     "output_type": "stream",
     "text": [
      "LQ IMAGE SHAPE:  (20, 500, 500)\n"
     ]
    },
    {
     "name": "stderr",
     "output_type": "stream",
     "text": [
      "\r",
      " 97%|█████████▋| 31/32 [00:25<00:00,  1.28it/s]"
     ]
    },
    {
     "name": "stdout",
     "output_type": "stream",
     "text": [
      "LQ IMAGE SHAPE:  (20, 500, 500)\n"
     ]
    },
    {
     "name": "stderr",
     "output_type": "stream",
     "text": [
      "100%|██████████| 32/32 [00:26<00:00,  1.19it/s]"
     ]
    },
    {
     "name": "stdout",
     "output_type": "stream",
     "text": [
      "LQ IMAGE SHAPE:  (20, 500, 500)\n",
      "Computing losses\n"
     ]
    },
    {
     "name": "stderr",
     "output_type": "stream",
     "text": [
      "\n"
     ]
    },
    {
     "data": {
      "application/vnd.jupyter.widget-view+json": {
       "model_id": "20e2e5e3d95648379ec951d1d0737545",
       "version_major": 2,
       "version_minor": 0
      },
      "text/plain": [
       "HBox(children=(FloatProgress(value=0.0, max=500.0), HTML(value='')))"
      ]
     },
     "metadata": {},
     "output_type": "display_data"
    },
    {
     "name": "stdout",
     "output_type": "stream",
     "text": [
      "\n"
     ]
    },
    {
     "name": "stderr",
     "output_type": "stream",
     "text": [
      "2024-04-30 21:02:28,718 INFO: Dataset PairedImageDataset - COMBO is created.\n"
     ]
    },
    {
     "name": "stdout",
     "output_type": "stream",
     "text": [
      "\\input key =  lq\n",
      "\\gt key =  gt\n",
      "\n",
      "INPUT LMDB KEYS =  ['/home/gridsan/tye/NAFNet/datasets/calib_0422_ch4/18/train/input_crops/33_17_s001.pt', '/home/gridsan/tye/NAFNet/datasets/calib_0422_ch4/18/train/input_crops/33_18_s001.pt', '/home/gridsan/tye/NAFNet/datasets/calib_0422_ch4/18/train/input_crops/34_18_s001.pt', '/home/gridsan/tye/NAFNet/datasets/calib_0422_ch4/18/train/input_crops/35_18_s001.pt', '/home/gridsan/tye/NAFNet/datasets/calib_0422_ch4/18/train/input_crops/36_18_s001.pt', '/home/gridsan/tye/NAFNet/datasets/calib_0422_ch4/18/train/input_crops/37_18_s001.pt', '/home/gridsan/tye/NAFNet/datasets/calib_0422_ch4/18/train/input_crops/38_18_s001.pt', '/home/gridsan/tye/NAFNet/datasets/calib_0422_ch4/18/train/input_crops/39_18_s001.pt', '/home/gridsan/tye/NAFNet/datasets/calib_0422_ch4/18/train/input_crops/40_18_s001.pt', '/home/gridsan/tye/NAFNet/datasets/calib_0422_ch4/18/train/input_crops/41_18_s001.pt']\n",
      "\n",
      "GT LMDB KEYS =  ['/home/gridsan/tye/NAFNet/datasets/calib_0422_ch4/18/train/gt_crops/33_17_s001.pt', '/home/gridsan/tye/NAFNet/datasets/calib_0422_ch4/18/train/gt_crops/33_18_s001.pt', '/home/gridsan/tye/NAFNet/datasets/calib_0422_ch4/18/train/gt_crops/34_18_s001.pt', '/home/gridsan/tye/NAFNet/datasets/calib_0422_ch4/18/train/gt_crops/35_18_s001.pt', '/home/gridsan/tye/NAFNet/datasets/calib_0422_ch4/18/train/gt_crops/36_18_s001.pt', '/home/gridsan/tye/NAFNet/datasets/calib_0422_ch4/18/train/gt_crops/37_18_s001.pt', '/home/gridsan/tye/NAFNet/datasets/calib_0422_ch4/18/train/gt_crops/38_18_s001.pt', '/home/gridsan/tye/NAFNet/datasets/calib_0422_ch4/18/train/gt_crops/39_18_s001.pt', '/home/gridsan/tye/NAFNet/datasets/calib_0422_ch4/18/train/gt_crops/40_18_s001.pt', '/home/gridsan/tye/NAFNet/datasets/calib_0422_ch4/18/train/gt_crops/41_18_s001.pt']\n"
     ]
    },
    {
     "name": "stderr",
     "output_type": "stream",
     "text": [
      "\r",
      "  0%|          | 0/32 [00:00<?, ?it/s]"
     ]
    },
    {
     "name": "stdout",
     "output_type": "stream",
     "text": [
      "LQ IMAGE SHAPE:  (20, 500, 500)\n",
      "LQ IMAGE SHAPE:  (20, 500, 500)\n",
      "LQ IMAGE SHAPE:  (20, 500, 500)\n"
     ]
    },
    {
     "name": "stderr",
     "output_type": "stream",
     "text": [
      "\r",
      "  6%|▋         | 2/32 [00:00<00:12,  2.32it/s]"
     ]
    },
    {
     "name": "stdout",
     "output_type": "stream",
     "text": [
      "LQ IMAGE SHAPE:  (20, 500, 500)\n"
     ]
    },
    {
     "name": "stderr",
     "output_type": "stream",
     "text": [
      "\r",
      "  9%|▉         | 3/32 [00:01<00:17,  1.63it/s]"
     ]
    },
    {
     "name": "stdout",
     "output_type": "stream",
     "text": [
      "LQ IMAGE SHAPE:  (20, 500, 500)\n"
     ]
    },
    {
     "name": "stderr",
     "output_type": "stream",
     "text": [
      "\r",
      " 12%|█▎        | 4/32 [00:02<00:20,  1.38it/s]"
     ]
    },
    {
     "name": "stdout",
     "output_type": "stream",
     "text": [
      "LQ IMAGE SHAPE:  (20, 500, 500)\n"
     ]
    },
    {
     "name": "stderr",
     "output_type": "stream",
     "text": [
      "\r",
      " 16%|█▌        | 5/32 [00:03<00:20,  1.31it/s]"
     ]
    },
    {
     "name": "stdout",
     "output_type": "stream",
     "text": [
      "LQ IMAGE SHAPE:  (20, 500, 500)\n"
     ]
    },
    {
     "name": "stderr",
     "output_type": "stream",
     "text": [
      "\r",
      " 19%|█▉        | 6/32 [00:04<00:19,  1.31it/s]"
     ]
    },
    {
     "name": "stdout",
     "output_type": "stream",
     "text": [
      "LQ IMAGE SHAPE:  (20, 500, 500)\n"
     ]
    },
    {
     "name": "stderr",
     "output_type": "stream",
     "text": [
      "\r",
      " 22%|██▏       | 7/32 [00:05<00:18,  1.34it/s]"
     ]
    },
    {
     "name": "stdout",
     "output_type": "stream",
     "text": [
      "LQ IMAGE SHAPE:  (20, 500, 500)\n"
     ]
    },
    {
     "name": "stderr",
     "output_type": "stream",
     "text": [
      "\r",
      " 25%|██▌       | 8/32 [00:06<00:21,  1.14it/s]"
     ]
    },
    {
     "name": "stdout",
     "output_type": "stream",
     "text": [
      "LQ IMAGE SHAPE:  (20, 500, 500)\n"
     ]
    },
    {
     "name": "stderr",
     "output_type": "stream",
     "text": [
      "\r",
      " 28%|██▊       | 9/32 [00:07<00:21,  1.05it/s]"
     ]
    },
    {
     "name": "stdout",
     "output_type": "stream",
     "text": [
      "LQ IMAGE SHAPE:  (20, 500, 500)\n"
     ]
    },
    {
     "name": "stderr",
     "output_type": "stream",
     "text": [
      "\r",
      " 31%|███▏      | 10/32 [00:08<00:19,  1.14it/s]"
     ]
    },
    {
     "name": "stdout",
     "output_type": "stream",
     "text": [
      "LQ IMAGE SHAPE:  (20, 500, 500)\n"
     ]
    },
    {
     "name": "stderr",
     "output_type": "stream",
     "text": [
      "\r",
      " 34%|███▍      | 11/32 [00:09<00:17,  1.17it/s]"
     ]
    },
    {
     "name": "stdout",
     "output_type": "stream",
     "text": [
      "LQ IMAGE SHAPE:  (20, 500, 500)\n"
     ]
    },
    {
     "name": "stderr",
     "output_type": "stream",
     "text": [
      "\r",
      " 38%|███▊      | 12/32 [00:09<00:17,  1.16it/s]"
     ]
    },
    {
     "name": "stdout",
     "output_type": "stream",
     "text": [
      "LQ IMAGE SHAPE:  (20, 500, 500)\n"
     ]
    },
    {
     "name": "stderr",
     "output_type": "stream",
     "text": [
      "\r",
      " 41%|████      | 13/32 [00:10<00:16,  1.17it/s]"
     ]
    },
    {
     "name": "stdout",
     "output_type": "stream",
     "text": [
      "LQ IMAGE SHAPE:  (20, 500, 500)\n"
     ]
    },
    {
     "name": "stderr",
     "output_type": "stream",
     "text": [
      "\r",
      " 44%|████▍     | 14/32 [00:12<00:19,  1.08s/it]"
     ]
    },
    {
     "name": "stdout",
     "output_type": "stream",
     "text": [
      "LQ IMAGE SHAPE:  (20, 500, 500)\n"
     ]
    },
    {
     "name": "stderr",
     "output_type": "stream",
     "text": [
      "\r",
      " 47%|████▋     | 15/32 [00:13<00:16,  1.02it/s]"
     ]
    },
    {
     "name": "stdout",
     "output_type": "stream",
     "text": [
      "LQ IMAGE SHAPE:  (20, 500, 500)\n"
     ]
    },
    {
     "name": "stderr",
     "output_type": "stream",
     "text": [
      "\r",
      " 50%|█████     | 16/32 [00:14<00:19,  1.22s/it]"
     ]
    },
    {
     "name": "stdout",
     "output_type": "stream",
     "text": [
      "LQ IMAGE SHAPE:  (20, 500, 500)\n"
     ]
    },
    {
     "name": "stderr",
     "output_type": "stream",
     "text": [
      "\r",
      " 53%|█████▎    | 17/32 [00:15<00:17,  1.17s/it]"
     ]
    },
    {
     "name": "stdout",
     "output_type": "stream",
     "text": [
      "LQ IMAGE SHAPE:  (20, 500, 500)\n"
     ]
    },
    {
     "name": "stderr",
     "output_type": "stream",
     "text": [
      "\r",
      " 56%|█████▋    | 18/32 [00:17<00:16,  1.17s/it]"
     ]
    },
    {
     "name": "stdout",
     "output_type": "stream",
     "text": [
      "LQ IMAGE SHAPE:  (20, 500, 500)\n"
     ]
    },
    {
     "name": "stderr",
     "output_type": "stream",
     "text": [
      "\r",
      " 59%|█████▉    | 19/32 [00:17<00:14,  1.08s/it]"
     ]
    },
    {
     "name": "stdout",
     "output_type": "stream",
     "text": [
      "LQ IMAGE SHAPE:  (20, 500, 500)\n"
     ]
    },
    {
     "name": "stderr",
     "output_type": "stream",
     "text": [
      "\r",
      " 62%|██████▎   | 20/32 [00:18<00:11,  1.03it/s]"
     ]
    },
    {
     "name": "stdout",
     "output_type": "stream",
     "text": [
      "LQ IMAGE SHAPE:  (20, 500, 500)\n"
     ]
    },
    {
     "name": "stderr",
     "output_type": "stream",
     "text": [
      "\r",
      " 66%|██████▌   | 21/32 [00:19<00:09,  1.11it/s]"
     ]
    },
    {
     "name": "stdout",
     "output_type": "stream",
     "text": [
      "LQ IMAGE SHAPE:  (20, 500, 500)\n"
     ]
    },
    {
     "name": "stderr",
     "output_type": "stream",
     "text": [
      "\r",
      " 69%|██████▉   | 22/32 [00:20<00:09,  1.10it/s]"
     ]
    },
    {
     "name": "stdout",
     "output_type": "stream",
     "text": [
      "LQ IMAGE SHAPE:  (20, 500, 500)\n"
     ]
    },
    {
     "name": "stderr",
     "output_type": "stream",
     "text": [
      "\r",
      " 72%|███████▏  | 23/32 [00:21<00:07,  1.15it/s]"
     ]
    },
    {
     "name": "stdout",
     "output_type": "stream",
     "text": [
      "LQ IMAGE SHAPE:  (20, 500, 500)\n"
     ]
    },
    {
     "name": "stderr",
     "output_type": "stream",
     "text": [
      "\r",
      " 75%|███████▌  | 24/32 [00:21<00:06,  1.25it/s]"
     ]
    },
    {
     "name": "stdout",
     "output_type": "stream",
     "text": [
      "LQ IMAGE SHAPE:  (20, 500, 500)\n"
     ]
    },
    {
     "name": "stderr",
     "output_type": "stream",
     "text": [
      "\r",
      " 78%|███████▊  | 25/32 [00:22<00:05,  1.27it/s]"
     ]
    },
    {
     "name": "stdout",
     "output_type": "stream",
     "text": [
      "LQ IMAGE SHAPE:  (20, 500, 500)\n"
     ]
    },
    {
     "name": "stderr",
     "output_type": "stream",
     "text": [
      "\r",
      " 81%|████████▏ | 26/32 [00:23<00:04,  1.28it/s]"
     ]
    },
    {
     "name": "stdout",
     "output_type": "stream",
     "text": [
      "LQ IMAGE SHAPE:  (20, 500, 500)\n"
     ]
    },
    {
     "name": "stderr",
     "output_type": "stream",
     "text": [
      "\r",
      " 84%|████████▍ | 27/32 [00:23<00:03,  1.37it/s]"
     ]
    },
    {
     "name": "stdout",
     "output_type": "stream",
     "text": [
      "LQ IMAGE SHAPE:  (20, 500, 500)\n"
     ]
    },
    {
     "name": "stderr",
     "output_type": "stream",
     "text": [
      "\r",
      " 88%|████████▊ | 28/32 [00:25<00:03,  1.10it/s]"
     ]
    },
    {
     "name": "stdout",
     "output_type": "stream",
     "text": [
      "LQ IMAGE SHAPE:  (20, 500, 500)\n"
     ]
    },
    {
     "name": "stderr",
     "output_type": "stream",
     "text": [
      "\r",
      " 91%|█████████ | 29/32 [00:26<00:02,  1.13it/s]"
     ]
    },
    {
     "name": "stdout",
     "output_type": "stream",
     "text": [
      "LQ IMAGE SHAPE:  (20, 500, 500)\n"
     ]
    },
    {
     "name": "stderr",
     "output_type": "stream",
     "text": [
      "\r",
      " 94%|█████████▍| 30/32 [00:26<00:01,  1.17it/s]"
     ]
    },
    {
     "name": "stdout",
     "output_type": "stream",
     "text": [
      "LQ IMAGE SHAPE:  (20, 500, 500)\n"
     ]
    },
    {
     "name": "stderr",
     "output_type": "stream",
     "text": [
      "\r",
      " 97%|█████████▋| 31/32 [00:27<00:00,  1.18it/s]"
     ]
    },
    {
     "name": "stdout",
     "output_type": "stream",
     "text": [
      "LQ IMAGE SHAPE:  (20, 500, 500)\n"
     ]
    },
    {
     "name": "stderr",
     "output_type": "stream",
     "text": [
      "100%|██████████| 32/32 [00:28<00:00,  1.11it/s]"
     ]
    },
    {
     "name": "stdout",
     "output_type": "stream",
     "text": [
      "LQ IMAGE SHAPE:  (20, 500, 500)\n",
      "Computing losses\n"
     ]
    },
    {
     "name": "stderr",
     "output_type": "stream",
     "text": [
      "\n"
     ]
    },
    {
     "data": {
      "application/vnd.jupyter.widget-view+json": {
       "model_id": "d7ab08d671c74502a4b9d6f02d99080c",
       "version_major": 2,
       "version_minor": 0
      },
      "text/plain": [
       "HBox(children=(FloatProgress(value=0.0, max=500.0), HTML(value='')))"
      ]
     },
     "metadata": {},
     "output_type": "display_data"
    },
    {
     "name": "stderr",
     "output_type": "stream",
     "text": [
      "2024-04-30 21:03:03,664 INFO: Dataset PairedImageDataset - COMBO is created.\n"
     ]
    },
    {
     "name": "stdout",
     "output_type": "stream",
     "text": [
      "\n",
      "\\input key =  lq\n",
      "\\gt key =  gt\n",
      "\n",
      "INPUT LMDB KEYS =  ['/home/gridsan/tye/NAFNet/datasets/calib_0422_ch4/19/train/input_crops/33_18_s001.pt', '/home/gridsan/tye/NAFNet/datasets/calib_0422_ch4/19/train/input_crops/33_19_s001.pt', '/home/gridsan/tye/NAFNet/datasets/calib_0422_ch4/19/train/input_crops/34_19_s001.pt', '/home/gridsan/tye/NAFNet/datasets/calib_0422_ch4/19/train/input_crops/35_19_s001.pt', '/home/gridsan/tye/NAFNet/datasets/calib_0422_ch4/19/train/input_crops/36_19_s001.pt', '/home/gridsan/tye/NAFNet/datasets/calib_0422_ch4/19/train/input_crops/37_19_s001.pt', '/home/gridsan/tye/NAFNet/datasets/calib_0422_ch4/19/train/input_crops/38_19_s001.pt', '/home/gridsan/tye/NAFNet/datasets/calib_0422_ch4/19/train/input_crops/39_19_s001.pt', '/home/gridsan/tye/NAFNet/datasets/calib_0422_ch4/19/train/input_crops/40_19_s001.pt', '/home/gridsan/tye/NAFNet/datasets/calib_0422_ch4/19/train/input_crops/41_19_s001.pt']\n",
      "\n",
      "GT LMDB KEYS =  ['/home/gridsan/tye/NAFNet/datasets/calib_0422_ch4/19/train/gt_crops/33_18_s001.pt', '/home/gridsan/tye/NAFNet/datasets/calib_0422_ch4/19/train/gt_crops/33_19_s001.pt', '/home/gridsan/tye/NAFNet/datasets/calib_0422_ch4/19/train/gt_crops/34_19_s001.pt', '/home/gridsan/tye/NAFNet/datasets/calib_0422_ch4/19/train/gt_crops/35_19_s001.pt', '/home/gridsan/tye/NAFNet/datasets/calib_0422_ch4/19/train/gt_crops/36_19_s001.pt', '/home/gridsan/tye/NAFNet/datasets/calib_0422_ch4/19/train/gt_crops/37_19_s001.pt', '/home/gridsan/tye/NAFNet/datasets/calib_0422_ch4/19/train/gt_crops/38_19_s001.pt', '/home/gridsan/tye/NAFNet/datasets/calib_0422_ch4/19/train/gt_crops/39_19_s001.pt', '/home/gridsan/tye/NAFNet/datasets/calib_0422_ch4/19/train/gt_crops/40_19_s001.pt', '/home/gridsan/tye/NAFNet/datasets/calib_0422_ch4/19/train/gt_crops/41_19_s001.pt']\n"
     ]
    },
    {
     "name": "stderr",
     "output_type": "stream",
     "text": [
      "\r",
      "  0%|          | 0/32 [00:00<?, ?it/s]"
     ]
    },
    {
     "name": "stdout",
     "output_type": "stream",
     "text": [
      "LQ IMAGE SHAPE:  (20, 500, 500)\n",
      "LQ IMAGE SHAPE:  (20, 500, 500)\n",
      "LQ IMAGE SHAPE:  (20, 500, 500)\n"
     ]
    },
    {
     "name": "stderr",
     "output_type": "stream",
     "text": [
      "\r",
      "  6%|▋         | 2/32 [00:00<00:11,  2.58it/s]"
     ]
    },
    {
     "name": "stdout",
     "output_type": "stream",
     "text": [
      "LQ IMAGE SHAPE:  (20, 500, 500)\n"
     ]
    },
    {
     "name": "stderr",
     "output_type": "stream",
     "text": [
      "\r",
      "  9%|▉         | 3/32 [00:01<00:15,  1.88it/s]"
     ]
    },
    {
     "name": "stdout",
     "output_type": "stream",
     "text": [
      "LQ IMAGE SHAPE:  (20, 500, 500)\n"
     ]
    },
    {
     "name": "stderr",
     "output_type": "stream",
     "text": [
      "\r",
      " 12%|█▎        | 4/32 [00:02<00:15,  1.76it/s]"
     ]
    },
    {
     "name": "stdout",
     "output_type": "stream",
     "text": [
      "LQ IMAGE SHAPE:  (20, 500, 500)\n"
     ]
    },
    {
     "name": "stderr",
     "output_type": "stream",
     "text": [
      "\r",
      " 16%|█▌        | 5/32 [00:03<00:17,  1.54it/s]"
     ]
    },
    {
     "name": "stdout",
     "output_type": "stream",
     "text": [
      "LQ IMAGE SHAPE:  (20, 500, 500)\n"
     ]
    },
    {
     "name": "stderr",
     "output_type": "stream",
     "text": [
      "\r",
      " 19%|█▉        | 6/32 [00:03<00:18,  1.43it/s]"
     ]
    },
    {
     "name": "stdout",
     "output_type": "stream",
     "text": [
      "LQ IMAGE SHAPE:  (20, 500, 500)\n"
     ]
    },
    {
     "name": "stderr",
     "output_type": "stream",
     "text": [
      "\r",
      " 22%|██▏       | 7/32 [00:04<00:19,  1.25it/s]"
     ]
    },
    {
     "name": "stdout",
     "output_type": "stream",
     "text": [
      "LQ IMAGE SHAPE:  (20, 500, 500)\n"
     ]
    },
    {
     "name": "stderr",
     "output_type": "stream",
     "text": [
      "\r",
      " 25%|██▌       | 8/32 [00:05<00:18,  1.29it/s]"
     ]
    },
    {
     "name": "stdout",
     "output_type": "stream",
     "text": [
      "LQ IMAGE SHAPE:  (20, 500, 500)\n"
     ]
    },
    {
     "name": "stderr",
     "output_type": "stream",
     "text": [
      "\r",
      " 28%|██▊       | 9/32 [00:06<00:17,  1.28it/s]"
     ]
    },
    {
     "name": "stdout",
     "output_type": "stream",
     "text": [
      "LQ IMAGE SHAPE:  (20, 500, 500)\n"
     ]
    },
    {
     "name": "stderr",
     "output_type": "stream",
     "text": [
      "\r",
      " 31%|███▏      | 10/32 [00:07<00:19,  1.12it/s]"
     ]
    },
    {
     "name": "stdout",
     "output_type": "stream",
     "text": [
      "LQ IMAGE SHAPE:  (20, 500, 500)\n"
     ]
    },
    {
     "name": "stderr",
     "output_type": "stream",
     "text": [
      "\r",
      " 34%|███▍      | 11/32 [00:08<00:18,  1.13it/s]"
     ]
    },
    {
     "name": "stdout",
     "output_type": "stream",
     "text": [
      "LQ IMAGE SHAPE:  (20, 500, 500)\n"
     ]
    },
    {
     "name": "stderr",
     "output_type": "stream",
     "text": [
      "\r",
      " 38%|███▊      | 12/32 [00:09<00:19,  1.04it/s]"
     ]
    },
    {
     "name": "stdout",
     "output_type": "stream",
     "text": [
      "LQ IMAGE SHAPE:  (20, 500, 500)\n"
     ]
    },
    {
     "name": "stderr",
     "output_type": "stream",
     "text": [
      "\r",
      " 41%|████      | 13/32 [00:10<00:15,  1.19it/s]"
     ]
    },
    {
     "name": "stdout",
     "output_type": "stream",
     "text": [
      "LQ IMAGE SHAPE:  (20, 500, 500)\n"
     ]
    },
    {
     "name": "stderr",
     "output_type": "stream",
     "text": [
      "\r",
      " 44%|████▍     | 14/32 [00:11<00:15,  1.17it/s]"
     ]
    },
    {
     "name": "stdout",
     "output_type": "stream",
     "text": [
      "LQ IMAGE SHAPE:  (20, 500, 500)\n"
     ]
    },
    {
     "name": "stderr",
     "output_type": "stream",
     "text": [
      "\r",
      " 47%|████▋     | 15/32 [00:11<00:13,  1.23it/s]"
     ]
    },
    {
     "name": "stdout",
     "output_type": "stream",
     "text": [
      "LQ IMAGE SHAPE:  (20, 500, 500)\n"
     ]
    },
    {
     "name": "stderr",
     "output_type": "stream",
     "text": [
      "\r",
      " 50%|█████     | 16/32 [00:12<00:12,  1.29it/s]"
     ]
    },
    {
     "name": "stdout",
     "output_type": "stream",
     "text": [
      "LQ IMAGE SHAPE:  (20, 500, 500)\n"
     ]
    },
    {
     "name": "stderr",
     "output_type": "stream",
     "text": [
      "\r",
      " 53%|█████▎    | 17/32 [00:13<00:11,  1.36it/s]"
     ]
    },
    {
     "name": "stdout",
     "output_type": "stream",
     "text": [
      "LQ IMAGE SHAPE:  (20, 500, 500)\n"
     ]
    },
    {
     "name": "stderr",
     "output_type": "stream",
     "text": [
      "\r",
      " 56%|█████▋    | 18/32 [00:13<00:10,  1.39it/s]"
     ]
    },
    {
     "name": "stdout",
     "output_type": "stream",
     "text": [
      "LQ IMAGE SHAPE:  (20, 500, 500)\n"
     ]
    },
    {
     "name": "stderr",
     "output_type": "stream",
     "text": [
      "\r",
      " 59%|█████▉    | 19/32 [00:14<00:09,  1.41it/s]"
     ]
    },
    {
     "name": "stdout",
     "output_type": "stream",
     "text": [
      "LQ IMAGE SHAPE:  (20, 500, 500)\n"
     ]
    },
    {
     "name": "stderr",
     "output_type": "stream",
     "text": [
      "\r",
      " 62%|██████▎   | 20/32 [00:15<00:08,  1.46it/s]"
     ]
    },
    {
     "name": "stdout",
     "output_type": "stream",
     "text": [
      "LQ IMAGE SHAPE:  (20, 500, 500)\n"
     ]
    },
    {
     "name": "stderr",
     "output_type": "stream",
     "text": [
      "\r",
      " 66%|██████▌   | 21/32 [00:15<00:07,  1.49it/s]"
     ]
    },
    {
     "name": "stdout",
     "output_type": "stream",
     "text": [
      "LQ IMAGE SHAPE:  (20, 500, 500)\n"
     ]
    },
    {
     "name": "stderr",
     "output_type": "stream",
     "text": [
      "\r",
      " 69%|██████▉   | 22/32 [00:16<00:06,  1.52it/s]"
     ]
    },
    {
     "name": "stdout",
     "output_type": "stream",
     "text": [
      "LQ IMAGE SHAPE:  (20, 500, 500)\n"
     ]
    },
    {
     "name": "stderr",
     "output_type": "stream",
     "text": [
      "\r",
      " 72%|███████▏  | 23/32 [00:17<00:05,  1.52it/s]"
     ]
    },
    {
     "name": "stdout",
     "output_type": "stream",
     "text": [
      "LQ IMAGE SHAPE:  (20, 500, 500)\n"
     ]
    },
    {
     "name": "stderr",
     "output_type": "stream",
     "text": [
      "\r",
      " 75%|███████▌  | 24/32 [00:18<00:06,  1.22it/s]"
     ]
    },
    {
     "name": "stdout",
     "output_type": "stream",
     "text": [
      "LQ IMAGE SHAPE:  (20, 500, 500)\n"
     ]
    },
    {
     "name": "stderr",
     "output_type": "stream",
     "text": [
      "\r",
      " 78%|███████▊  | 25/32 [00:19<00:05,  1.20it/s]"
     ]
    },
    {
     "name": "stdout",
     "output_type": "stream",
     "text": [
      "LQ IMAGE SHAPE:  (20, 500, 500)\n"
     ]
    },
    {
     "name": "stderr",
     "output_type": "stream",
     "text": [
      "\r",
      " 81%|████████▏ | 26/32 [00:19<00:04,  1.28it/s]"
     ]
    },
    {
     "name": "stdout",
     "output_type": "stream",
     "text": [
      "LQ IMAGE SHAPE:  (20, 500, 500)\n"
     ]
    },
    {
     "name": "stderr",
     "output_type": "stream",
     "text": [
      "\r",
      " 84%|████████▍ | 27/32 [00:20<00:03,  1.38it/s]"
     ]
    },
    {
     "name": "stdout",
     "output_type": "stream",
     "text": [
      "LQ IMAGE SHAPE:  (20, 500, 500)\n"
     ]
    },
    {
     "name": "stderr",
     "output_type": "stream",
     "text": [
      "\r",
      " 88%|████████▊ | 28/32 [00:21<00:02,  1.36it/s]"
     ]
    },
    {
     "name": "stdout",
     "output_type": "stream",
     "text": [
      "LQ IMAGE SHAPE:  (20, 500, 500)\n"
     ]
    },
    {
     "name": "stderr",
     "output_type": "stream",
     "text": [
      "\r",
      " 91%|█████████ | 29/32 [00:21<00:02,  1.42it/s]"
     ]
    },
    {
     "name": "stdout",
     "output_type": "stream",
     "text": [
      "LQ IMAGE SHAPE:  (20, 500, 500)\n"
     ]
    },
    {
     "name": "stderr",
     "output_type": "stream",
     "text": [
      "\r",
      " 94%|█████████▍| 30/32 [00:22<00:01,  1.35it/s]"
     ]
    },
    {
     "name": "stdout",
     "output_type": "stream",
     "text": [
      "LQ IMAGE SHAPE:  (20, 500, 500)\n"
     ]
    },
    {
     "name": "stderr",
     "output_type": "stream",
     "text": [
      "\r",
      " 97%|█████████▋| 31/32 [00:23<00:00,  1.34it/s]"
     ]
    },
    {
     "name": "stdout",
     "output_type": "stream",
     "text": [
      "LQ IMAGE SHAPE:  (20, 500, 500)\n"
     ]
    },
    {
     "name": "stderr",
     "output_type": "stream",
     "text": [
      "100%|██████████| 32/32 [00:24<00:00,  1.32it/s]"
     ]
    },
    {
     "name": "stdout",
     "output_type": "stream",
     "text": [
      "LQ IMAGE SHAPE:  (20, 500, 500)\n",
      "Computing losses\n"
     ]
    },
    {
     "name": "stderr",
     "output_type": "stream",
     "text": [
      "\n"
     ]
    },
    {
     "data": {
      "application/vnd.jupyter.widget-view+json": {
       "model_id": "20e7fdc92b47484b95512a851b475b55",
       "version_major": 2,
       "version_minor": 0
      },
      "text/plain": [
       "HBox(children=(FloatProgress(value=0.0, max=500.0), HTML(value='')))"
      ]
     },
     "metadata": {},
     "output_type": "display_data"
    },
    {
     "name": "stderr",
     "output_type": "stream",
     "text": [
      "2024-04-30 21:03:35,063 INFO: Dataset PairedImageDataset - COMBO is created.\n"
     ]
    },
    {
     "name": "stdout",
     "output_type": "stream",
     "text": [
      "\n",
      "\\input key =  lq\n",
      "\\gt key =  gt\n",
      "\n",
      "INPUT LMDB KEYS =  ['/home/gridsan/tye/NAFNet/datasets/calib_0422_ch4/20/train/input_crops/33_19_s001.pt', '/home/gridsan/tye/NAFNet/datasets/calib_0422_ch4/20/train/input_crops/33_20_s001.pt', '/home/gridsan/tye/NAFNet/datasets/calib_0422_ch4/20/train/input_crops/34_20_s001.pt', '/home/gridsan/tye/NAFNet/datasets/calib_0422_ch4/20/train/input_crops/35_20_s001.pt', '/home/gridsan/tye/NAFNet/datasets/calib_0422_ch4/20/train/input_crops/36_20_s001.pt', '/home/gridsan/tye/NAFNet/datasets/calib_0422_ch4/20/train/input_crops/37_20_s001.pt', '/home/gridsan/tye/NAFNet/datasets/calib_0422_ch4/20/train/input_crops/38_20_s001.pt', '/home/gridsan/tye/NAFNet/datasets/calib_0422_ch4/20/train/input_crops/39_20_s001.pt', '/home/gridsan/tye/NAFNet/datasets/calib_0422_ch4/20/train/input_crops/40_20_s001.pt', '/home/gridsan/tye/NAFNet/datasets/calib_0422_ch4/20/train/input_crops/41_20_s001.pt']\n",
      "\n",
      "GT LMDB KEYS =  ['/home/gridsan/tye/NAFNet/datasets/calib_0422_ch4/20/train/gt_crops/33_19_s001.pt', '/home/gridsan/tye/NAFNet/datasets/calib_0422_ch4/20/train/gt_crops/33_20_s001.pt', '/home/gridsan/tye/NAFNet/datasets/calib_0422_ch4/20/train/gt_crops/34_20_s001.pt', '/home/gridsan/tye/NAFNet/datasets/calib_0422_ch4/20/train/gt_crops/35_20_s001.pt', '/home/gridsan/tye/NAFNet/datasets/calib_0422_ch4/20/train/gt_crops/36_20_s001.pt', '/home/gridsan/tye/NAFNet/datasets/calib_0422_ch4/20/train/gt_crops/37_20_s001.pt', '/home/gridsan/tye/NAFNet/datasets/calib_0422_ch4/20/train/gt_crops/38_20_s001.pt', '/home/gridsan/tye/NAFNet/datasets/calib_0422_ch4/20/train/gt_crops/39_20_s001.pt', '/home/gridsan/tye/NAFNet/datasets/calib_0422_ch4/20/train/gt_crops/40_20_s001.pt', '/home/gridsan/tye/NAFNet/datasets/calib_0422_ch4/20/train/gt_crops/41_20_s001.pt']\n"
     ]
    },
    {
     "name": "stderr",
     "output_type": "stream",
     "text": [
      "\r",
      "  0%|          | 0/32 [00:00<?, ?it/s]"
     ]
    },
    {
     "name": "stdout",
     "output_type": "stream",
     "text": [
      "LQ IMAGE SHAPE:  (20, 500, 500)\n",
      "LQ IMAGE SHAPE:  (20, 500, 500)\n",
      "LQ IMAGE SHAPE:  (20, 500, 500)\n"
     ]
    },
    {
     "name": "stderr",
     "output_type": "stream",
     "text": [
      "\r",
      "  6%|▋         | 2/32 [00:00<00:12,  2.49it/s]"
     ]
    },
    {
     "name": "stdout",
     "output_type": "stream",
     "text": [
      "LQ IMAGE SHAPE:  (20, 500, 500)\n"
     ]
    },
    {
     "name": "stderr",
     "output_type": "stream",
     "text": [
      "\r",
      "  9%|▉         | 3/32 [00:01<00:14,  2.01it/s]"
     ]
    },
    {
     "name": "stdout",
     "output_type": "stream",
     "text": [
      "LQ IMAGE SHAPE:  (20, 500, 500)\n"
     ]
    },
    {
     "name": "stderr",
     "output_type": "stream",
     "text": [
      "\r",
      " 12%|█▎        | 4/32 [00:02<00:14,  1.90it/s]"
     ]
    },
    {
     "name": "stdout",
     "output_type": "stream",
     "text": [
      "LQ IMAGE SHAPE:  (20, 500, 500)\n"
     ]
    },
    {
     "name": "stderr",
     "output_type": "stream",
     "text": [
      "\r",
      " 16%|█▌        | 5/32 [00:02<00:15,  1.73it/s]"
     ]
    },
    {
     "name": "stdout",
     "output_type": "stream",
     "text": [
      "LQ IMAGE SHAPE:  (20, 500, 500)\n"
     ]
    },
    {
     "name": "stderr",
     "output_type": "stream",
     "text": [
      "\r",
      " 19%|█▉        | 6/32 [00:03<00:15,  1.65it/s]"
     ]
    },
    {
     "name": "stdout",
     "output_type": "stream",
     "text": [
      "LQ IMAGE SHAPE:  (20, 500, 500)\n"
     ]
    },
    {
     "name": "stderr",
     "output_type": "stream",
     "text": [
      "\r",
      " 22%|██▏       | 7/32 [00:04<00:15,  1.62it/s]"
     ]
    },
    {
     "name": "stdout",
     "output_type": "stream",
     "text": [
      "LQ IMAGE SHAPE:  (20, 500, 500)\n"
     ]
    },
    {
     "name": "stderr",
     "output_type": "stream",
     "text": [
      "\r",
      " 25%|██▌       | 8/32 [00:04<00:16,  1.48it/s]"
     ]
    },
    {
     "name": "stdout",
     "output_type": "stream",
     "text": [
      "LQ IMAGE SHAPE:  (20, 500, 500)\n"
     ]
    },
    {
     "name": "stderr",
     "output_type": "stream",
     "text": [
      "\r",
      " 28%|██▊       | 9/32 [00:05<00:15,  1.46it/s]"
     ]
    },
    {
     "name": "stdout",
     "output_type": "stream",
     "text": [
      "LQ IMAGE SHAPE:  (20, 500, 500)\n"
     ]
    },
    {
     "name": "stderr",
     "output_type": "stream",
     "text": [
      "\r",
      " 31%|███▏      | 10/32 [00:06<00:15,  1.44it/s]"
     ]
    },
    {
     "name": "stdout",
     "output_type": "stream",
     "text": [
      "LQ IMAGE SHAPE:  (20, 500, 500)\n"
     ]
    },
    {
     "name": "stderr",
     "output_type": "stream",
     "text": [
      "\r",
      " 34%|███▍      | 11/32 [00:07<00:15,  1.36it/s]"
     ]
    },
    {
     "name": "stdout",
     "output_type": "stream",
     "text": [
      "LQ IMAGE SHAPE:  (20, 500, 500)\n"
     ]
    },
    {
     "name": "stderr",
     "output_type": "stream",
     "text": [
      "\r",
      " 38%|███▊      | 12/32 [00:08<00:15,  1.26it/s]"
     ]
    },
    {
     "name": "stdout",
     "output_type": "stream",
     "text": [
      "LQ IMAGE SHAPE:  (20, 500, 500)\n"
     ]
    },
    {
     "name": "stderr",
     "output_type": "stream",
     "text": [
      "\r",
      " 41%|████      | 13/32 [00:08<00:14,  1.32it/s]"
     ]
    },
    {
     "name": "stdout",
     "output_type": "stream",
     "text": [
      "LQ IMAGE SHAPE:  (20, 500, 500)\n"
     ]
    },
    {
     "name": "stderr",
     "output_type": "stream",
     "text": [
      "\r",
      " 44%|████▍     | 14/32 [00:09<00:13,  1.38it/s]"
     ]
    },
    {
     "name": "stdout",
     "output_type": "stream",
     "text": [
      "LQ IMAGE SHAPE:  (20, 500, 500)\n"
     ]
    },
    {
     "name": "stderr",
     "output_type": "stream",
     "text": [
      "\r",
      " 47%|████▋     | 15/32 [00:10<00:12,  1.41it/s]"
     ]
    },
    {
     "name": "stdout",
     "output_type": "stream",
     "text": [
      "LQ IMAGE SHAPE:  (20, 500, 500)\n"
     ]
    },
    {
     "name": "stderr",
     "output_type": "stream",
     "text": [
      "\r",
      " 50%|█████     | 16/32 [00:10<00:11,  1.45it/s]"
     ]
    },
    {
     "name": "stdout",
     "output_type": "stream",
     "text": [
      "LQ IMAGE SHAPE:  (20, 500, 500)\n"
     ]
    },
    {
     "name": "stderr",
     "output_type": "stream",
     "text": [
      "\r",
      " 53%|█████▎    | 17/32 [00:11<00:10,  1.40it/s]"
     ]
    },
    {
     "name": "stdout",
     "output_type": "stream",
     "text": [
      "LQ IMAGE SHAPE:  (20, 500, 500)\n"
     ]
    },
    {
     "name": "stderr",
     "output_type": "stream",
     "text": [
      "\r",
      " 56%|█████▋    | 18/32 [00:12<00:09,  1.41it/s]"
     ]
    },
    {
     "name": "stdout",
     "output_type": "stream",
     "text": [
      "LQ IMAGE SHAPE:  (20, 500, 500)\n"
     ]
    },
    {
     "name": "stderr",
     "output_type": "stream",
     "text": [
      "\r",
      " 59%|█████▉    | 19/32 [00:12<00:09,  1.44it/s]"
     ]
    },
    {
     "name": "stdout",
     "output_type": "stream",
     "text": [
      "LQ IMAGE SHAPE:  (20, 500, 500)\n"
     ]
    },
    {
     "name": "stderr",
     "output_type": "stream",
     "text": [
      "\r",
      " 62%|██████▎   | 20/32 [00:13<00:09,  1.31it/s]"
     ]
    },
    {
     "name": "stdout",
     "output_type": "stream",
     "text": [
      "LQ IMAGE SHAPE:  (20, 500, 500)\n"
     ]
    },
    {
     "name": "stderr",
     "output_type": "stream",
     "text": [
      "\r",
      " 66%|██████▌   | 21/32 [00:14<00:07,  1.38it/s]"
     ]
    },
    {
     "name": "stdout",
     "output_type": "stream",
     "text": [
      "LQ IMAGE SHAPE:  (20, 500, 500)\n"
     ]
    },
    {
     "name": "stderr",
     "output_type": "stream",
     "text": [
      "\r",
      " 69%|██████▉   | 22/32 [00:15<00:07,  1.38it/s]"
     ]
    },
    {
     "name": "stdout",
     "output_type": "stream",
     "text": [
      "LQ IMAGE SHAPE:  (20, 500, 500)\n"
     ]
    },
    {
     "name": "stderr",
     "output_type": "stream",
     "text": [
      "\r",
      " 72%|███████▏  | 23/32 [00:15<00:06,  1.34it/s]"
     ]
    },
    {
     "name": "stdout",
     "output_type": "stream",
     "text": [
      "LQ IMAGE SHAPE:  (20, 500, 500)\n"
     ]
    },
    {
     "name": "stderr",
     "output_type": "stream",
     "text": [
      "\r",
      " 75%|███████▌  | 24/32 [00:17<00:06,  1.20it/s]"
     ]
    },
    {
     "name": "stdout",
     "output_type": "stream",
     "text": [
      "LQ IMAGE SHAPE:  (20, 500, 500)\n"
     ]
    },
    {
     "name": "stderr",
     "output_type": "stream",
     "text": [
      "\r",
      " 78%|███████▊  | 25/32 [00:17<00:05,  1.17it/s]"
     ]
    },
    {
     "name": "stdout",
     "output_type": "stream",
     "text": [
      "LQ IMAGE SHAPE:  (20, 500, 500)\n"
     ]
    },
    {
     "name": "stderr",
     "output_type": "stream",
     "text": [
      "\r",
      " 81%|████████▏ | 26/32 [00:18<00:05,  1.19it/s]"
     ]
    },
    {
     "name": "stdout",
     "output_type": "stream",
     "text": [
      "LQ IMAGE SHAPE:  (20, 500, 500)\n"
     ]
    },
    {
     "name": "stderr",
     "output_type": "stream",
     "text": [
      "\r",
      " 84%|████████▍ | 27/32 [00:19<00:04,  1.21it/s]"
     ]
    },
    {
     "name": "stdout",
     "output_type": "stream",
     "text": [
      "LQ IMAGE SHAPE:  (20, 500, 500)\n"
     ]
    },
    {
     "name": "stderr",
     "output_type": "stream",
     "text": [
      "\r",
      " 88%|████████▊ | 28/32 [00:20<00:03,  1.27it/s]"
     ]
    },
    {
     "name": "stdout",
     "output_type": "stream",
     "text": [
      "LQ IMAGE SHAPE:  (20, 500, 500)\n"
     ]
    },
    {
     "name": "stderr",
     "output_type": "stream",
     "text": [
      "\r",
      " 91%|█████████ | 29/32 [00:21<00:02,  1.21it/s]"
     ]
    },
    {
     "name": "stdout",
     "output_type": "stream",
     "text": [
      "LQ IMAGE SHAPE:  (20, 500, 500)\n"
     ]
    },
    {
     "name": "stderr",
     "output_type": "stream",
     "text": [
      "\r",
      " 94%|█████████▍| 30/32 [00:21<00:01,  1.27it/s]"
     ]
    },
    {
     "name": "stdout",
     "output_type": "stream",
     "text": [
      "LQ IMAGE SHAPE:  (20, 500, 500)\n"
     ]
    },
    {
     "name": "stderr",
     "output_type": "stream",
     "text": [
      "\r",
      " 97%|█████████▋| 31/32 [00:22<00:00,  1.12it/s]"
     ]
    },
    {
     "name": "stdout",
     "output_type": "stream",
     "text": [
      "LQ IMAGE SHAPE:  (20, 500, 500)\n"
     ]
    },
    {
     "name": "stderr",
     "output_type": "stream",
     "text": [
      "100%|██████████| 32/32 [00:24<00:00,  1.33it/s]"
     ]
    },
    {
     "name": "stdout",
     "output_type": "stream",
     "text": [
      "LQ IMAGE SHAPE:  (20, 500, 500)\n",
      "Computing losses\n"
     ]
    },
    {
     "name": "stderr",
     "output_type": "stream",
     "text": [
      "\n"
     ]
    },
    {
     "data": {
      "application/vnd.jupyter.widget-view+json": {
       "model_id": "fe8cde5d641448e1871ab9fb991bde73",
       "version_major": 2,
       "version_minor": 0
      },
      "text/plain": [
       "HBox(children=(FloatProgress(value=0.0, max=500.0), HTML(value='')))"
      ]
     },
     "metadata": {},
     "output_type": "display_data"
    },
    {
     "name": "stdout",
     "output_type": "stream",
     "text": [
      "\n"
     ]
    }
   ],
   "source": [
    "lhats = {}\n",
    "\n",
    "channel = \"calib_0422_ch4\"\n",
    "for i in range(1, 21):\n",
    "    num = str(i).zfill(2)\n",
    "    OPT =  OrderedDict([('name', 'NAFNet-SIDD-SHG-08-21-TEST'), ('model_type', 'ImageRestorationModel'), ('scale', 1), ('num_gpu', 1), ('manual_seed', 10), ('datasets', OrderedDict([('train', OrderedDict([('name', 'COMBO'), ('type', 'PairedImageDataset'), ('dataroot_gt', './datasets/' + channel + \"/\" + num +'/train/gt_crops.lmdb'), ('dataroot_lq', './datasets/' + channel + \"/\" + num +'/train/input_crops.lmdb'), ('filename_tmpl', '{}'), ('io_backend', OrderedDict([('type', 'lmdb')])), ('gt_size', 256), ('use_flip', False), ('use_rot', False), ('use_shuffle', True), ('num_worker_per_gpu', 1), ('batch_size_per_gpu', 1), ('dataset_enlarge_ratio', 1), ('prefetch_mode', None), ('phase', 'train'), ('scale', 1)])), ('val', OrderedDict([('name', 'COMBO_val'), ('type', 'PairedImageDataset'), ('dataroot_gt', './datasets/' + channel + \"/\" + num +'/val/gt_crops.lmdb'), ('dataroot_lq', './datasets/' + name + '/val/input_crops.lmdb'), ('io_backend', OrderedDict([('type', 'lmdb')])), ('phase', 'val'), ('scale', 1)]))])), ('network_g', OrderedDict([('type', 'NAFNet'), ('width', 64), ('enc_blk_nums', [2, 2, 4, 8]), ('middle_blk_num', 12), ('dec_blk_nums', [2, 2, 2, 2])])), ('path', OrderedDict([('pretrain_network_g', '/home/gridsan/tye/NAFNet/experiments/NAFNet-SIDD-08-19-Different-5-Channel/models/net_g_100000.pth'), ('strict_load_g', True), ('resume_state', None), ('root', '/home/gridsan/tye/NAFNet'), ('experiments_root', '/home/gridsan/tye/NAFNet/experiments/NAFNet-SIDD-SHG-08-21-TEST'), ('models', '/home/gridsan/tye/NAFNet/experiments/NAFNet-SIDD-SHG-08-21-TEST/models'), ('training_states', '/home/gridsan/tye/NAFNet/experiments/NAFNet-SIDD-SHG-08-21-TEST/training_states'), ('log', '/home/gridsan/tye/NAFNet/experiments/NAFNet-SIDD-SHG-08-21-TEST'), ('visualization', '/home/gridsan/tye/NAFNet/experiments/NAFNet-SIDD-SHG-08-21-TEST/visualization')])), ('train', OrderedDict([('optim_g', OrderedDict([('type', 'AdamW'), ('lr', 0.001), ('weight_decay', 0.0), ('betas', [0.9, 0.9])])), ('scheduler', OrderedDict([('type', 'TrueCosineAnnealingLR'), ('T_max', 400000), ('eta_min', 1e-07)])), ('total_iter', 400000), ('warmup_iter', -1), ('pixel_opt', OrderedDict([('type', 'PSNRLoss'), ('loss_weight', 1), ('reduction', 'mean')]))])), ('val', OrderedDict([('val_freq', 20000.0), ('save_img', False), ('use_image', False), ('metrics', OrderedDict([('psnr', OrderedDict([('type', 'calculate_psnr'), ('crop_border', 0), ('test_y_channel', False)])), ('ssim', OrderedDict([('type', 'calculate_ssim'), ('crop_border', 0), ('test_y_channel', False)]))]))])), ('logger', OrderedDict([('print_freq', 200), ('save_checkpoint_freq', 1000.0), ('use_tb_logger', True), ('wandb', OrderedDict([('project', None), ('resume_id', None)]))])), ('dist_params', OrderedDict([('backend', 'nccl'), ('port', 29500)])), ('is_train', True), ('dist', True), ('rank', 0), ('world_size', 1)])\n",
    "\n",
    "    for phase, dataset_opt in OPT['datasets'].items():\n",
    "            if phase == 'train':\n",
    "                dataset_enlarge_ratio = dataset_opt.get('dataset_enlarge_ratio', 1)\n",
    "                dataset = create_dataset(dataset_opt)\n",
    "                \n",
    "    labels_shape = list(torch.tensor(dataset[0]['gt']).unsqueeze(0).shape)\n",
    "\n",
    "    labels_shape[0] = len(dataset)\n",
    "\n",
    "    labels = torch.zeros(tuple(labels_shape)) #, device =device)\n",
    "\n",
    "    outputs_shape = list(model(torch.tensor(dataset[0]['lq']).unsqueeze(0).to(device)).shape)\n",
    "\n",
    "    outputs_shape[0] = len(dataset)\n",
    "\n",
    "    outputs = torch.zeros(tuple(outputs_shape), device =device)\n",
    "\n",
    "    tempDL = DataLoader(dataset, num_workers=0, batch_size=1, pin_memory=True)\n",
    "\n",
    "    counter = 0\n",
    "    for batch in tqdm(tempDL):\n",
    "         with torch.no_grad():\n",
    "                #print('batch = ',  batch['lq'].shape[0])\n",
    "                outputs[counter:counter+batch['lq'].shape[0],:,:,:] = model(batch['lq'].to(device))\n",
    "                labels[counter:counter+batch['gt'].shape[0]] = batch['gt']\n",
    "                counter += batch['lq'].shape[0]\n",
    "                \n",
    "    labels_test = torch.mean(labels, 1).unsqueeze(1)\n",
    "\n",
    "    labels_new = labels_test.repeat((1, 3, 1, 1))\n",
    "\n",
    "    out_dataset = TensorDataset(outputs,labels_new.cpu())\n",
    "    dlambda = lambdas[1]-lambdas[0]\n",
    "    #model.set_lhat(lambdas[-1]+dlambda-1e-9)\n",
    "    print(\"Computing losses\")\n",
    "    calib_loss_table = torch.zeros((outputs.shape[0],lambdas.shape[0]))\n",
    "    for lam in log_progress(lambdas):\n",
    "        #print(rcps_loss_fn.shape)\n",
    "        losses = get_rcps_losses_from_outputs(model, out_dataset, rcps_loss_fn, lam-dlambda, device)\n",
    "        #print()\n",
    "        calib_loss_table[:,np.where(lambdas==lam)[0]] = losses[:,None]\n",
    "        \n",
    "    lhats[i] = get_lhat(calib_loss_table, lambdas, alpha = 0.1).numpy()\n",
    "        "
   ]
  },
  {
   "cell_type": "code",
   "execution_count": 22,
   "id": "f4ef0fad",
   "metadata": {},
   "outputs": [
    {
     "name": "stdout",
     "output_type": "stream",
     "text": [
      "[2.525049924850464, 2.7254509925842285, 2.505009889602661, 2.685370683670044, 2.9058115482330322, 3.1462924480438232, 2.845691442489624, 2.685370683670044, 2.8056113719940186, 2.765531063079834, 3.2064127922058105, 3.086172103881836, 2.9058115482330322, 2.765531063079834, 2.7454910278320312, 2.7454910278320312, 2.4649298191070557, 2.424849510192871, 2.0841684341430664, 1.9639278650283813]\n"
     ]
    }
   ],
   "source": [
    "lhats_list = [value.item() for value in lhats.values()]\n",
    "print(lhats_list)"
   ]
  },
  {
   "cell_type": "code",
   "execution_count": null,
   "id": "58b8633b",
   "metadata": {},
   "outputs": [],
   "source": [
    "\n",
    "ch1_lambdas = [6.212425231933594, 7.675350666046143, 8.296592712402344, 8.97795581817627, 8.176352500915527, 8.897795677185059, 6.953907489776611, 7.314629077911377, 8.797595024108887, 10.0, 10.0, 8.396794319152832, 7.094188213348389, 6.673346519470215, 7.575150012969971, 7.795590877532959, 9.859719276428223, 8.476954460144043, 5.8116230964660645, 8.897795677185059]\n",
    "\n",
    "ch2_lambdas =[10.0, 10.0, 7.995992183685303, 6.352705001831055, 5.1503005027771, 4.589178085327148, 4.448897838592529, 4.52905797958374, 4.629258632659912, 3.567134141921997, 3.3867735862731934, 3.647294521331787, 3.3667335510253906, 3.1863725185394287, 4.008016109466553, 4.609218597412109, 3.887775421142578, 5.751502990722656, 4.729458808898926, 4.889779090881348]\n",
    "\n",
    "ch3_lambdas = [1.302605152130127, 1.2825651168823242, 1.302605152130127, 1.2224448919296265, 1.1623246669769287, 1.0821642875671387, 1.0420842170715332, 0.9418837428092957, 0.8617234230041504, 0.8216432929039001, 0.7414829730987549, 0.7214428782463074, 0.7414829730987549, 0.7014027833938599, 0.6813627481460571, 0.6813627481460571, 0.7014027833938599, 0.6613226532936096, 0.6212424635887146, 0.6012023687362671]\n",
    "\n",
    "ch4_lambdas = [2.525049924850464, 2.7254509925842285, 2.505009889602661, 2.685370683670044, 2.9058115482330322, 3.1462924480438232, 2.845691442489624, 2.685370683670044, 2.8056113719940186, 2.765531063079834, 3.2064127922058105, 3.086172103881836, 2.9058115482330322, 2.765531063079834, 2.7454910278320312, 2.7454910278320312, 2.4649298191070557, 2.424849510192871, 2.0841684341430664, 1.9639278650283813]\n"
   ]
  },
  {
   "cell_type": "code",
   "execution_count": 15,
   "id": "fbd0840f",
   "metadata": {},
   "outputs": [],
   "source": [
    "#ONE\n",
    "SIDD = 1.8036072254180908    #1.8637274503707886\n",
    "FMD= 2.024048089981079\n",
    "SIDD_SHG = 2.5651302337646484\n",
    "FMD_SHG= 1.6432865858078003"
   ]
  },
  {
   "cell_type": "code",
   "execution_count": 16,
   "id": "21f39f42",
   "metadata": {},
   "outputs": [],
   "source": [
    "#THREE\n",
    "SIDD = 1.7835670709609985\n",
    "FMD= 3.1462924480438232\n",
    "SIDD_SHG = 2.4649298191070557\n",
    "FMD_SHG= 1.8036072254180908"
   ]
  },
  {
   "cell_type": "code",
   "execution_count": 17,
   "id": "c1173e01",
   "metadata": {},
   "outputs": [],
   "source": [
    "#FIVE\n",
    "SIDD = 3.1863725185394287\n",
    "FMD= 4.088176250457764\n",
    "SIDD_SHG = 2.3847694396972656\n",
    "FMD_SHG= 1.7234468460083008"
   ]
  },
  {
   "cell_type": "code",
   "execution_count": 18,
   "id": "3b9115cf",
   "metadata": {},
   "outputs": [],
   "source": [
    "#THIS WAS WITH THE COMBINED IMAGES\n",
    "# SIDD = 2.525049924850464\n",
    "# FMD= 5.591182708740234\n",
    "# SIDD_SHG = 2.2244489192962646\n",
    "# FMD_SHG= 1.6833667755126953"
   ]
  }
 ],
 "metadata": {
  "kernelspec": {
   "display_name": "Python [conda env:.conda-test]",
   "language": "python",
   "name": "conda-env-.conda-test-py"
  },
  "language_info": {
   "codemirror_mode": {
    "name": "ipython",
    "version": 3
   },
   "file_extension": ".py",
   "mimetype": "text/x-python",
   "name": "python",
   "nbconvert_exporter": "python",
   "pygments_lexer": "ipython3",
   "version": "3.7.7"
  },
  "latex_envs": {
   "LaTeX_envs_menu_present": true,
   "autoclose": false,
   "autocomplete": true,
   "bibliofile": "biblio.bib",
   "cite_by": "apalike",
   "current_citInitial": 1,
   "eqLabelWithNumbers": true,
   "eqNumInitial": 1,
   "hotkeys": {
    "equation": "Ctrl-E",
    "itemize": "Ctrl-I"
   },
   "labels_anchors": false,
   "latex_user_defs": false,
   "report_style_numbering": false,
   "user_envs_cfg": false
  },
  "toc": {
   "base_numbering": 1,
   "nav_menu": {},
   "number_sections": true,
   "sideBar": true,
   "skip_h1_title": false,
   "title_cell": "Table of Contents",
   "title_sidebar": "Contents",
   "toc_cell": false,
   "toc_position": {},
   "toc_section_display": true,
   "toc_window_display": false
  }
 },
 "nbformat": 4,
 "nbformat_minor": 5
}
